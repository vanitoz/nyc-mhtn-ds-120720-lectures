{
 "cells": [
  {
   "cell_type": "markdown",
   "metadata": {},
   "source": [
    "## Starting Off\n",
    "\n",
    "Message me one question you have about APIs. Any question at all "
   ]
  },
  {
   "cell_type": "markdown",
   "metadata": {},
   "source": [
    "# Using APIs and JSON Data"
   ]
  },
  {
   "cell_type": "markdown",
   "metadata": {},
   "source": [
    "## Objectives\n",
    "You will be able to:\n",
    "* Make an API call to Yelp "
   ]
  },
  {
   "cell_type": "markdown",
   "metadata": {},
   "source": [
    "\n",
    "## Agenda\n",
    "\n",
    "* Build up an API Call\n",
    "* Look at the results\n"
   ]
  },
  {
   "cell_type": "code",
   "execution_count": 154,
   "metadata": {},
   "outputs": [],
   "source": [
    "import requests\n",
    "import json"
   ]
  },
  {
   "cell_type": "markdown",
   "metadata": {},
   "source": [
    "For more information about the request package you can use the following resources:\n",
    "\n",
    "**Tutorial:** https://realpython.com/python-requests/\n",
    "\n",
    "**Package Documentation:** https://requests.readthedocs.io/en/master/"
   ]
  },
  {
   "cell_type": "markdown",
   "metadata": {},
   "source": [
    "![](quota.png)"
   ]
  },
  {
   "cell_type": "markdown",
   "metadata": {},
   "source": [
    "Let's do a search of businesses on the Yelp API.  "
   ]
  },
  {
   "cell_type": "code",
   "execution_count": 181,
   "metadata": {},
   "outputs": [],
   "source": [
    "# set theurl and endpoint we want to hit\n",
    "url =  'https://api.yelp.com/v3/businesses/search'"
   ]
  },
  {
   "cell_type": "markdown",
   "metadata": {},
   "source": [
    "Now that you have an API key, let's enter set that information here so that we can do our searches. Once you have the `api_key` variable, place int in our header."
   ]
  },
  {
   "cell_type": "code",
   "execution_count": 182,
   "metadata": {},
   "outputs": [],
   "source": [
    "client_id = 'XCA5Kc7RlIdeGhJ7qoZSYA'\n",
    "api_key = '4xVh2R6L8UUhvHExeDY0PleqYWWvwBf_2YSXBs7tcJ4Fhlb_Ukti8ubodJ_KN7GIiAn_RSTI_tFwrXYpksOnzsfEQ1n1viib67dzyUStHa6t1hvIM_lWY5uk6GzzX3Yx'"
   ]
  },
  {
   "cell_type": "code",
   "execution_count": 183,
   "metadata": {},
   "outputs": [],
   "source": [
    "from  keys  import  client_id, api_key   # python file"
   ]
  },
  {
   "cell_type": "code",
   "execution_count": 184,
   "metadata": {},
   "outputs": [
    {
     "name": "stdout",
     "output_type": "stream",
     "text": [
      "4xVh2R6L8UUhvHExeDY0PleqYWWvwBf_2YSXBs7tcJ4Fhlb_Ukti8ubodJ_KN7GIiAn_RSTI_tFwrXYpksOnzsfEQ1n1viib67dzyUStHa6t1hvIM_lWY5uk6GzzX3Yx\n"
     ]
    }
   ],
   "source": [
    "print(api_key)"
   ]
  },
  {
   "cell_type": "code",
   "execution_count": 185,
   "metadata": {},
   "outputs": [],
   "source": [
    "headers = {\n",
    "        'Authorization': 'Bearer {}'.format(api_key),\n",
    "    }"
   ]
  },
  {
   "cell_type": "markdown",
   "metadata": {},
   "source": [
    "We now need to determine our parameters we want to pass.  \n",
    "\n",
    "You must give a specific search term, location and one other paramter to limit your search. \n",
    "\n",
    "Remember you can search the API documenation to find another parameter to limit your search.  \n",
    "https://www.yelp.com/developers/documentation/v3/get_started"
   ]
  },
  {
   "cell_type": "code",
   "execution_count": 208,
   "metadata": {},
   "outputs": [],
   "source": [
    "# what type of business do you want to search\n",
    "term = 'GYM'\n",
    "\n",
    "#where do you want to perform this search\n",
    "location = \"BROOKLYN\"\n",
    "\n",
    "# what is your other parameter you want to search against\n",
    "categories = 'GYM'"
   ]
  },
  {
   "cell_type": "code",
   "execution_count": 220,
   "metadata": {},
   "outputs": [],
   "source": [
    "\n",
    "url_params = {\n",
    "                \"term\": term.replace(' ', '+'),\n",
    "                \"location\": location.replace(' ', '+'),\n",
    "                \"categories\" : categories,\n",
    "                \"price\" : '1,2,3,4'\n",
    "                #\"limit\": 30  # by def =20\n",
    "                # \"offset\" : 100 - results will start from 50th record\n",
    "            }\n"
   ]
  },
  {
   "cell_type": "code",
   "execution_count": 221,
   "metadata": {},
   "outputs": [
    {
     "data": {
      "text/plain": [
       "{'term': 'GYM',\n",
       " 'location': 'BROOKLYN',\n",
       " 'categories': 'GYM',\n",
       " 'price': '1,2,3,4'}"
      ]
     },
     "execution_count": 221,
     "metadata": {},
     "output_type": "execute_result"
    }
   ],
   "source": [
    "url_params"
   ]
  },
  {
   "cell_type": "markdown",
   "metadata": {},
   "source": [
    "Now that we have all of the parts necessary for an API call, let's put them together.  "
   ]
  },
  {
   "cell_type": "code",
   "execution_count": 222,
   "metadata": {},
   "outputs": [],
   "source": [
    "response = requests.get(url=url, headers=headers, params=url_params)"
   ]
  },
  {
   "cell_type": "markdown",
   "metadata": {},
   "source": [
    "\n",
    "## The Response\n",
    "\n",
    "The response of a GET request often has some valuable information, known as a payload, in the message body. Using the attributes and methods of Response, you can view the payload in a variety of different formats.\n",
    "\n",
    "To see the response’s content in bytes, you use `.content`\n",
    "\n",
    "You will often want to convert them into a string using a character encoding such as UTF-8. Response will do that for you when you access `.text`\n",
    "\n",
    "The response is actually serialized JSON content. To get a dictionary, you could take the str you retrieved from `.text` and deserialize it using `json.loads()`. However, a simpler way to accomplish this task is to use `.json()`:"
   ]
  },
  {
   "cell_type": "code",
   "execution_count": 190,
   "metadata": {},
   "outputs": [
    {
     "data": {
      "text/plain": [
       "'{\"businesses\": [{\"id\": \"pVg14AHG4Ppaxm82Lm5kBQ\", \"alias\": \"star-fitness-bronx\", \"name\": \"Star Fitness\", \"image_url\": \"https://s3-media3.fl.yelpcdn.com/bphoto/IHEL_lyaQ6LOhFIWGr-cfw/o.jpg\", \"is_closed\": false, \"url\": \"https://www.yelp.com/biz/star-fitness-bronx?adjust_creative=XCA5Kc7RlIdeGhJ7qoZSYA&utm_campaign=yelp_api_v3&utm_medium=api_v3_business_search&utm_source=XCA5Kc7RlIdeGhJ7qoZSYA\", \"review_count\": 26, \"categories\": [{\"alias\": \"gyms\", \"title\": \"Gyms\"}], \"rating\": 4.0, \"coordinates\": {\"l'"
      ]
     },
     "execution_count": 190,
     "metadata": {},
     "output_type": "execute_result"
    }
   ],
   "source": [
    "response.text[:500]"
   ]
  },
  {
   "cell_type": "code",
   "execution_count": 191,
   "metadata": {},
   "outputs": [],
   "source": [
    "# json.loads(response.text)"
   ]
  },
  {
   "cell_type": "code",
   "execution_count": 192,
   "metadata": {
    "scrolled": true
   },
   "outputs": [],
   "source": [
    "#response.json()"
   ]
  },
  {
   "cell_type": "markdown",
   "metadata": {},
   "source": [
    "Using one of the methods above load the response data and assign it to a variable `data`.\n"
   ]
  },
  {
   "cell_type": "code",
   "execution_count": 223,
   "metadata": {},
   "outputs": [],
   "source": [
    "data = json.loads(response.text)"
   ]
  },
  {
   "cell_type": "markdown",
   "metadata": {},
   "source": [
    "What are the keys in this dictionary and the datatypes of their values."
   ]
  },
  {
   "cell_type": "code",
   "execution_count": 194,
   "metadata": {},
   "outputs": [
    {
     "name": "stdout",
     "output_type": "stream",
     "text": [
      "businesses\n",
      "<class 'list'>\n",
      "total\n",
      "<class 'int'>\n",
      "region\n",
      "<class 'dict'>\n"
     ]
    }
   ],
   "source": [
    "for key in data.keys():\n",
    "    print(key)\n",
    "    print(type(data[key]))"
   ]
  },
  {
   "cell_type": "markdown",
   "metadata": {},
   "source": [
    "How many results did our query return?"
   ]
  },
  {
   "cell_type": "code",
   "execution_count": 224,
   "metadata": {},
   "outputs": [
    {
     "data": {
      "text/plain": [
       "20"
      ]
     },
     "execution_count": 224,
     "metadata": {},
     "output_type": "execute_result"
    }
   ],
   "source": [
    "len(data['businesses'])"
   ]
  },
  {
   "cell_type": "code",
   "execution_count": 225,
   "metadata": {},
   "outputs": [
    {
     "data": {
      "text/plain": [
       "124"
      ]
     },
     "execution_count": 225,
     "metadata": {},
     "output_type": "execute_result"
    }
   ],
   "source": [
    "data['total']"
   ]
  },
  {
   "cell_type": "markdown",
   "metadata": {},
   "source": [
    "How many businesses were returned from the API call?"
   ]
  },
  {
   "cell_type": "code",
   "execution_count": 226,
   "metadata": {},
   "outputs": [
    {
     "data": {
      "text/plain": [
       "124"
      ]
     },
     "execution_count": 226,
     "metadata": {},
     "output_type": "execute_result"
    }
   ],
   "source": [
    "data['total']"
   ]
  },
  {
   "cell_type": "markdown",
   "metadata": {},
   "source": [
    "### Parsing the Results\n",
    "\n",
    "There are a lot of key-value pairs for each business. Many of which we do not care about. Let's create a simple parser of this data that will return a list with the name, display_address, and one other data point of your choice. First we want to assign one of the businesses to the `business` variable. Once we cna properly parse oonne business  we can use a loop to do them all."
   ]
  },
  {
   "cell_type": "code",
   "execution_count": 218,
   "metadata": {},
   "outputs": [],
   "source": [
    "business = data['businesses']"
   ]
  },
  {
   "cell_type": "code",
   "execution_count": 219,
   "metadata": {},
   "outputs": [
    {
     "data": {
      "text/plain": [
       "{'id': 'cqrir4Q-dYrGP9YFtyiEpg',\n",
       " 'alias': 'equinox-brooklyn-heights-brooklyn-2',\n",
       " 'name': 'Equinox Brooklyn Heights',\n",
       " 'image_url': 'https://s3-media3.fl.yelpcdn.com/bphoto/JHbEMH3vc5Vpe--wWzAuwA/o.jpg',\n",
       " 'is_closed': False,\n",
       " 'url': 'https://www.yelp.com/biz/equinox-brooklyn-heights-brooklyn-2?adjust_creative=XCA5Kc7RlIdeGhJ7qoZSYA&utm_campaign=yelp_api_v3&utm_medium=api_v3_business_search&utm_source=XCA5Kc7RlIdeGhJ7qoZSYA',\n",
       " 'review_count': 110,\n",
       " 'categories': [{'alias': 'gyms', 'title': 'Gyms'},\n",
       "  {'alias': 'spas', 'title': 'Day Spas'},\n",
       "  {'alias': 'sports_clubs', 'title': 'Sports Clubs'}],\n",
       " 'rating': 3.0,\n",
       " 'coordinates': {'latitude': 40.6925, 'longitude': -73.99141},\n",
       " 'transactions': [],\n",
       " 'price': '$$$',\n",
       " 'location': {'address1': '194 Joralemon St',\n",
       "  'address2': None,\n",
       "  'address3': '',\n",
       "  'city': 'Brooklyn',\n",
       "  'zip_code': '11201',\n",
       "  'country': 'US',\n",
       "  'state': 'NY',\n",
       "  'display_address': ['194 Joralemon St', 'Brooklyn, NY 11201']},\n",
       " 'phone': '+17185227533',\n",
       " 'display_phone': '(718) 522-7533',\n",
       " 'distance': 6260.8696083923405}"
      ]
     },
     "execution_count": 219,
     "metadata": {},
     "output_type": "execute_result"
    }
   ],
   "source": [
    "business[0]"
   ]
  },
  {
   "cell_type": "markdown",
   "metadata": {},
   "source": [
    "Rember we want the following pieces of information:\n",
    "name, display_address, and one other data point of your choice"
   ]
  },
  {
   "cell_type": "code",
   "execution_count": 175,
   "metadata": {},
   "outputs": [],
   "source": [
    "biz_tuple = (business[0]['name'], \n",
    "            business[0]['location']['display_address'], \n",
    "            business[0]['review_count'])"
   ]
  },
  {
   "cell_type": "code",
   "execution_count": 176,
   "metadata": {},
   "outputs": [
    {
     "data": {
      "text/plain": [
       "('Star Fitness', ['1385 Commerce Ave', 'Bronx, NY 10461'], 26)"
      ]
     },
     "execution_count": 176,
     "metadata": {},
     "output_type": "execute_result"
    }
   ],
   "source": [
    "biz_tuple"
   ]
  },
  {
   "cell_type": "markdown",
   "metadata": {},
   "source": [
    "Now that we know how to do this for one business. Let create a function that recieves the list of businesses and returns a list of tuples with the important information."
   ]
  },
  {
   "cell_type": "code",
   "execution_count": 177,
   "metadata": {},
   "outputs": [],
   "source": [
    "def parse_data(list_of_data):\n",
    "    # create a container to hold our parsed data\n",
    "    parsed_data = []\n",
    "    \n",
    "    # loop through our business and parse each individual business\n",
    "    for business in list_of_data:\n",
    "        # print(business['name'])\n",
    "        biz_tuple = (business['name'], \n",
    "            business['location']['display_address'], \n",
    "            business['review_count'])\n",
    "    # in the loop, add each individual parsed  business to our data container\n",
    "        parsed_data.append(biz_tuple)\n",
    "\n",
    "    # return the container with all of the parsed results\n",
    "    return parsed_data"
   ]
  },
  {
   "cell_type": "code",
   "execution_count": 180,
   "metadata": {},
   "outputs": [
    {
     "data": {
      "text/plain": [
       "[('Star Fitness', ['1385 Commerce Ave', 'Bronx, NY 10461'], 26),\n",
       " ('Crunch Fitness - Norwood', ['3170 Webster Ave', 'Bronx, NY 10467'], 48),\n",
       " ('Astral Fitness', ['5500 Broadway', 'Bronx, NY 10463'], 33),\n",
       " ('LA Fitness', ['1776 Eastchester Rd', 'Bronx, NY 10461'], 89),\n",
       " (\"Daro's Extreme Fitness\", ['1123 Close Ave', 'Bronx, NY 10472'], 4),\n",
       " ('Power House Gym', ['1626 Bronxdale Ave', 'Bronx, NY 10462'], 6),\n",
       " ('Brutalboxx Crossfit Boogiedown', ['1753 Jerome Ave', 'Bronx, NY 10453'], 4),\n",
       " ('92Y May Center', ['1395 Lexington Ave', 'New York, NY 10128'], 46),\n",
       " ('Blink Fitness - The Hub', ['570 Melrose Ave', 'Bronx, NY 10455'], 8),\n",
       " ('PRX 14', ['4875 Broadway Ave', 'New York, NY 10034'], 27),\n",
       " ('New York Sports Clubs', ['1601 Bronxdale Ave', 'Bronx, NY 10462'], 62),\n",
       " ('24 Hour Fitness - Pelham Manor',\n",
       "  ['887 Pelham Parkway', 'Pelham Manor, NY 10803'],\n",
       "  28),\n",
       " ('Blink Fitness - Parkchester',\n",
       "  ['1380 Metropolitan Ave', 'Bronx, NY 10462'],\n",
       "  45),\n",
       " ('Blink Fitness - Riverdale', ['5520 Broadway', 'Bronx, NY 10463'], 39),\n",
       " ('187Fitness', ['4470 Broadway', 'Ste 1', 'New York, NY 10040'], 3),\n",
       " ('Mount Vernon Barbell',\n",
       "  ['115 S Macquesten Pkwy', 'Mount Vernon, NY 10550'],\n",
       "  13),\n",
       " ('Planet Fitness', ['2129 White Plains Rd', 'Bronx, NY 10462'], 19),\n",
       " ('Planet Fitness', ['3060 Westchester Ave', 'Bronx, NY 10461'], 40),\n",
       " ('Untamed Studio', ['1624 Bronxdale Ave', 'Bronx, NY 10462'], 11),\n",
       " ('OPEX Riverdale', ['3603 Fieldston Rd', 'Bronx, NY 10463'], 1)]"
      ]
     },
     "execution_count": 180,
     "metadata": {},
     "output_type": "execute_result"
    }
   ],
   "source": [
    "parse_data(data['businesses']) # returns list of tups!!!!"
   ]
  },
  {
   "cell_type": "code",
   "execution_count": 105,
   "metadata": {},
   "outputs": [],
   "source": [
    "# cursor.executemany(query , parsed_results)"
   ]
  },
  {
   "cell_type": "code",
   "execution_count": null,
   "metadata": {},
   "outputs": [],
   "source": []
  }
 ],
 "metadata": {
  "kernelspec": {
   "display_name": "Python 3",
   "language": "python",
   "name": "python3"
  },
  "language_info": {
   "codemirror_mode": {
    "name": "ipython",
    "version": 3
   },
   "file_extension": ".py",
   "mimetype": "text/x-python",
   "name": "python",
   "nbconvert_exporter": "python",
   "pygments_lexer": "ipython3",
   "version": "3.7.6"
  }
 },
 "nbformat": 4,
 "nbformat_minor": 4
}
