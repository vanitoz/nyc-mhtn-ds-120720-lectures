{
 "cells": [
  {
   "cell_type": "markdown",
   "metadata": {},
   "source": [
    "# Test Prep for Mod 2"
   ]
  },
  {
   "cell_type": "code",
   "execution_count": 7,
   "metadata": {},
   "outputs": [],
   "source": [
    "import numpy as np\n",
    "import seaborn as sns\n",
    "import scipy.stats as stats\n",
    "from math import sqrt\n",
    "import scipy\n",
    "import pandas as pd\n",
    "import sklearn "
   ]
  },
  {
   "cell_type": "markdown",
   "metadata": {},
   "source": [
    "<img desktop=\"normal_table\" style=\"withd:300px;\">"
   ]
  },
  {
   "cell_type": "markdown",
   "metadata": {},
   "source": [
    "<img Documents/Flatiron=\"hypo_test.png\">"
   ]
  },
  {
   "cell_type": "markdown",
   "metadata": {},
   "source": [
    "df = pd.read_csv('XXX.csv', index_col=0)"
   ]
  },
  {
   "cell_type": "markdown",
   "metadata": {},
   "source": [
    "# Table of Contents\n",
    "\n",
    "Glossary of Terms\n",
    "\n",
    "Standard Z-Score - n > 30, pop. std. dev. is known\n",
    "\n",
    "One Sample Z-Test - comparing one sample to the mean, and means same quals. as Std. \n",
    "Z-Score as part of Population\n",
    "\n",
    "Two Sample Z-Test - comparing two sample mean to each other, and has same quals. as Std. Z-Score. Z-Score as part of Population\n",
    "\n",
    "Two Proportion Z-Test - comparing two proportions to each other\n",
    "\n",
    "Population Probability Test - comparing two population samples\n",
    "\n",
    "One Sample T-Test - comparing one sample to the mean, & do not have pop. std. dev.\n",
    "\n",
    "Two Sample T-Test - comparing two sample to the mean, & do not have pop. std. dev.\n",
    "\n",
    "Confidence Interval Function - Find the range between the lower margin of error and higher.\n",
    "\n",
    "Using PPF and CDF to get P-values and T-crit\n",
    "\n",
    "Linear Regression Models - \"Relationship\" between two quantitative variables, looking for coef. Looking to evaluate the P > |t|. The greater the P value, the lower the correlation.\n",
    "\n",
    "Data Cleaning Process\n",
    "\n",
    "Bayesian Approach\n",
    "\n",
    "Type I & II Error\n",
    "\n",
    "Graph to Visualize Rejection Region"
   ]
  },
  {
   "cell_type": "markdown",
   "metadata": {},
   "source": [
    "# Glossary of terms\n",
    "### 𝜇 - \n",
    "the mean\n",
    "\n",
    "________________________________________________\n",
    "\n",
    "### 𝜎 - \n",
    "the population standard deviation. The difference between population std. dev. and sample std. dev. is denoted as a \"s\".\n",
    "\n",
    "Look for explicit phrasing about what exactly is the whole (population). If there is no whole sample to draw from, it is a sample population. \n",
    "\n",
    "________________________________________________\n",
    "\n",
    "### population - \n",
    "the collection of all the items of interest in a study (omega) the whole universe of things we are talking about\n",
    "\n",
    "________________________________________________\n",
    "\n",
    "### sample -  \n",
    "a subset of the population \n",
    "\n",
    "________________________________________________\n",
    "\n",
    "### subset - \n",
    "all the items that are in the population but in a specific group. A proper subset is some of the elements but not all of them\n",
    "\n",
    "________________________________________________\n",
    "\n",
    "### p-value - \n",
    "The probability of getting a result at least as extreme as the sample  assuming the null hypothesis is true. \n",
    "\n",
    "Assuming you null hypothesis is true what are the chance this (or something at least this extreme) even occurred. \n",
    "\n",
    "For example, imagine your null hypothesis 𝐻0 is that the population mean 𝜇 is 𝜇=10. Upon drawing\n",
    "a sample, you get a mean of 12. With the p-value, you are going to obtain a probability that,\n",
    "given a null hypothesis of 𝜇=10, you would observe a sample mean of 12.\n",
    "\n",
    "If your p-value is low, you will reject your null hypothesis. \n",
    "You will basically say that based on current evidence and testing, \n",
    "the null hypothesis is not true.\n",
    "\n",
    "If your p-value is high, you will fail to reject your null hypothesis. \n",
    "You will fail to reject the null hypothesis, \n",
    "that is, you will say that based on current evidence and testing, \n",
    "the null hypothesis cannot be rejected.\n",
    "\n",
    "If your p-value is low, you say that that the result is significant, in the sense \n",
    "that you conclude that the sample mean is significantly different from the population mean.\n",
    "\n",
    "_______________________________________________\n",
    "\n",
    "### Significance Threshold (alpha, 𝛼) - \n",
    "\n",
    "You noticed that we talked about \"high\" and \"low\" p-values, but that is pretty vague. \n",
    "What number is high and what number is low?\n",
    "\n",
    "This is where the significance level, also denoted as alpha or 𝛼 comes in. \n",
    "𝛼 is the threshold value that defines whether a p-value is low or high. \n",
    "You can define your alpha level yourself, but you'll see that an alpha level of \n",
    "𝛼=0.05 is most commonly used. You'll see 𝛼=0.1 and 𝛼=0.01 appear frequently as well.\n",
    "\n",
    "What level of alpha to use depends on your situation. Choosing a lower alpha leads to a test\n",
    "that is more strict, so you will be less likely to be able to reject your null-hypothesis \n",
    "(which is generally what you want). Choosing a higher alpha or significance level leads to \n",
    "a higher probability of rejecting the null-hypothesis. The downside of using a higher alpha\n",
    "level, however, is that you run a higher risk of falsely concluding that there is a difference\n",
    "between your null-hypothesis and your observed results when there actually isn't any.\n",
    "\n",
    "If p-value > alpha --> we fail to reject Null Hypothesis\n",
    "\n",
    "if p-value < alpha --> we reject Null Hypothesis\n",
    "\n",
    "________________________________________________\n",
    "\n",
    "### T-Critical -\n",
    "\n",
    "For one samples. Right tailed. If your t-value is greater than your t-crit you will reject your null hypothesis and if it is less than your t-crit you will fail to reject your null hypothesis.\n",
    "Because it is right tailed only the first 2 of the examples apply.\n",
    "If left tailed the last 2 of the examples apply. \n",
    "Remember that if single tailed, the alpha will not be divided.\n",
    "\n",
    "Specifically for a 2 sided test, remember to divide alpha by 2, with each half in both tails. When our test statistic value, (z or t score) greater or less than t-critical value we can reject \n",
    "\n",
    "if t-value > t-critical --> we reject Null Hypothesis\n",
    "\n",
    "if t-value < t-critical --> we fail to reject Null Hypothesis\n",
    "\n",
    "if -t-value < -t-critical --> we reject Null Hypothesis\n",
    "\n",
    "if -t-value > -t-critical --> we fail to reject Null Hypothesis\n",
    "\n",
    "\n",
    "________________________________________________\n",
    "\n",
    "### Linear Regression - \n",
    "\n",
    "Linear regression is a statistical methodology that estimates the strength between two or more\n",
    "variables. The regression results show if the relationship is valid or not.\n",
    "\n",
    "Regression Analysis is a parametric technique meaning a set of parameters are used to predict the value of an unknown target variable (or dependent variable)  based on one or more of known input features (or independent variables, predictors), often denoted by \n",
    "\n",
    "In general, regression analysis helps us in the following ways:\n",
    "* Finding an association or relationship between certain phenomena or variables\n",
    "* Identifying which variables contribute more towards the outcomes\n",
    "* Prediction of future observations\n",
    "\n",
    "Simple Linear Regression - uses a single feature (one independent variable) to model a linear relationship with a target (the dependent variable) by fitting an optimal model\n",
    "\n",
    "Multiple Linear Regression uses more than one feature to predict a target variable by fitting the best linear relationship.\n",
    "\n",
    "Slope and Intercept are the coefficients or the parameters of a linear regression model.\n",
    "\n",
    "* If we see 'relationship' in a question we can assume \"Simple Linear Regression\"\n"
   ]
  },
  {
   "cell_type": "code",
   "execution_count": 2,
   "metadata": {},
   "outputs": [
    {
     "name": "stderr",
     "output_type": "stream",
     "text": [
      "C:\\Users\\GMoneyMan\\anaconda3\\envs\\learn-env\\lib\\site-packages\\seaborn\\distributions.py:2551: FutureWarning: `distplot` is a deprecated function and will be removed in a future version. Please adapt your code to use either `displot` (a figure-level function with similar flexibility) or `histplot` (an axes-level function for histograms).\n",
      "  warnings.warn(msg, FutureWarning)\n"
     ]
    },
    {
     "data": {
      "image/png": "[encoded data removed]",
      "text/plain": [
       "<Figure size 432x288 with 1 Axes>"
      ]
     },
     "metadata": {
      "needs_background": "light"
     },
     "output_type": "display_data"
    }
   ],
   "source": [
    "mu, sigma = 0.5, 0.1\n",
    "n = 1000\n",
    "s = np.random.normal(mu, sigma, n)\n",
    "sns.distplot(s);"
   ]
  },
  {
   "cell_type": "code",
   "execution_count": null,
   "metadata": {},
   "outputs": [],
   "source": []
  },
  {
   "cell_type": "code",
   "execution_count": null,
   "metadata": {},
   "outputs": [],
   "source": [
    "What do you do if we aren't given an alpha, how do we reject or fail to reject. "
   ]
  },
  {
   "cell_type": "markdown",
   "metadata": {},
   "source": [
    "# List of Functions"
   ]
  },
  {
   "cell_type": "markdown",
   "metadata": {},
   "source": [
    "## Standard Z-score\n",
    "The standard score (more commonly referred to as a 𝑧-score) \n",
    "is a very useful statistic because it allows us to:\n",
    "\n",
    "1) Calculate the probability of a certain score occurring within a given normal distribution\n",
    "\n",
    "2) Compare two scores that are from different normal distributions.\n",
    "\n",
    "Any normal distribution can be converted to a standard normal distribution and vice versa using this equation"
   ]
  },
  {
   "cell_type": "code",
   "execution_count": null,
   "metadata": {},
   "outputs": [],
   "source": [
    "z = (x - 𝜇) / 𝜎 "
   ]
  },
  {
   "cell_type": "markdown",
   "metadata": {},
   "source": [
    "𝑥 is an observation from the original normal distribution\n",
    "\n",
    "𝜇 is the mean \n",
    "\n",
    "𝜎 is the standard deviation of the original normal distribution.\n",
    "\n",
    "The standard normal distribution is sometimes called the 𝑧-distribution. \n",
    "\n",
    "A 𝑧-score always reflects the number of standard deviations above or below the mean."
   ]
  },
  {
   "cell_type": "markdown",
   "metadata": {},
   "source": [
    "### Z-Score examples"
   ]
  },
  {
   "cell_type": "markdown",
   "metadata": {},
   "source": [
    "Compute and interpret the z-score for a tree yielding 35 pounds of apples"
   ]
  },
  {
   "cell_type": "code",
   "execution_count": null,
   "metadata": {},
   "outputs": [],
   "source": [
    "mean = df.mean()\n",
    "sd = df.std()\n",
    "mean,sd\n",
    "\n",
    "#the mean value is 42.4 and the standard deviation is around 6\n",
    "# 68% of tree yields have weight between (42.4 - 6) 36.4 and (42.4 - 6) 48.4 pounds; \n",
    "# 95% between 30.4 and 54.4; \n",
    "# Almost all between 24.4 and 60.4 pounds"
   ]
  },
  {
   "cell_type": "code",
   "execution_count": null,
   "metadata": {},
   "outputs": [],
   "source": [
    "z = (35 - mean)/std\n",
    "z\n",
    "\n",
    "# -1.233844\n",
    "\n",
    "# Interpret the result\n",
    "\n",
    "# This tree’s yield is 1.23 standard deviations below the mean yield."
   ]
  },
  {
   "cell_type": "markdown",
   "metadata": {},
   "source": [
    "Suppose a tree has a z-score of 1.85. Interpret this z-score. What is the yield of this tree?"
   ]
  },
  {
   "cell_type": "code",
   "execution_count": null,
   "metadata": {},
   "outputs": [],
   "source": [
    "# Interpret the z score\n",
    "\n",
    "# This tree’s yield is 1.85 standard deviations above the mean\n",
    "\n",
    "X = mean + 1.85*sd\n",
    "X\n",
    "\n",
    "# Yield of this tree is 53.5 pounds. "
   ]
  },
  {
   "cell_type": "code",
   "execution_count": null,
   "metadata": {},
   "outputs": [],
   "source": []
  },
  {
   "cell_type": "markdown",
   "metadata": {},
   "source": [
    "## One sample z-test  \n",
    "Import numpy as np \n",
    "\n",
    "from  scipy import stats \n",
    "\n",
    "stats.ttest_1samp(TestSample1, popmean=0) \n",
    "\n",
    "_______________________________________________________________\n",
    "\n",
    "The one-sample 𝑧-test is used when you want to know \n",
    "\n",
    "if your sample comes from a particular population.\n",
    "\n",
    "The one-sample 𝑧-test is used only for tests related to the sample mean.\n",
    "\n",
    "When running a one-sample z-test, you test whether the average of the sample \n",
    "\n",
    "suggests that the students come from a certain population with a known mean or \n",
    "\n",
    "whether it may come from a different population.\n",
    "\n",
    "You already know what a 𝑧-score is and how to standardize a dataset into a 𝑧-distribution. \n",
    "\n",
    "By itself, the 𝑧-score doesn't provide a lot of information to conclude a question \n",
    "\n",
    "significantly (except for saying how many standard deviations some observation is from a mean).\n",
    "\n",
    "The real value from a 𝑧-test comes from comparing it against a z-table."
   ]
  },
  {
   "cell_type": "markdown",
   "metadata": {},
   "source": [
    "### One sample z-test examples"
   ]
  },
  {
   "cell_type": "code",
   "execution_count": null,
   "metadata": {},
   "outputs": [],
   "source": [
    "import scipy.stats as stats\n",
    "from math import sqrt\n",
    "x_bar = 103 # sample mean \n",
    "n = 40 # number of students\n",
    "sigma = 16 # sd of population\n",
    "mu = 100 # Population mean \n",
    "\n",
    "z = (x_bar - mu)/(sigma/sqrt(n))\n",
    "z"
   ]
  },
  {
   "cell_type": "code",
   "execution_count": null,
   "metadata": {},
   "outputs": [],
   "source": [
    "#Using the stats function we can find the p value from the z value we find.\n",
    "z = 1.19\n",
    "stats.norm.cdf(z)\n",
    "\n",
    "-> 0.8821600432854813\n"
   ]
  },
  {
   "cell_type": "markdown",
   "metadata": {},
   "source": [
    "The percent area under the curve from to a 𝑧-score of 1.19 is 88.2% (using the 𝑧-table \n",
    "or SciPy calculations), this means that the average intelligence of the tutored set of \n",
    "students is bigger than 88.2% of the population. But with alpha specified as 0.05, \n",
    "we wanted it to be greater than 95% to prove the hypothesis to be significant.\n",
    "\n",
    "Mathematically, you want to get the p-value, and this can be done by subtracting the \n",
    "𝑧-value from 1, since the sum of probabilities is always 1."
   ]
  },
  {
   "cell_type": "code",
   "execution_count": null,
   "metadata": {},
   "outputs": [],
   "source": [
    "pval = 1 - stats.norm.cdf(z)\n",
    "pval\n",
    "\n",
    "-> 0.11783995671451875"
   ]
  },
  {
   "cell_type": "markdown",
   "metadata": {},
   "source": [
    "our alpha is 0.05 and our p-value is 0.12. We can fail to reject our Null Hypothesis because our p-value \n",
    "is greater than alpha."
   ]
  },
  {
   "cell_type": "markdown",
   "metadata": {},
   "source": [
    "Our p-value (0.12) is larger than the alpha of 0.05. So what does that mean? \n",
    "Can you not conclude that tutoring leads to an IQ increase?\n",
    "\n",
    "Well, you still can't really say that for sure. What we can say is that there is not enough \n",
    "evidence to reject the null hypothesis with the given sample, given an alpha of 0.05. \n",
    "There are ways to scale experiments up and collect more data or apply sampling techniques \n",
    "to be sure about the real impact.\n",
    "\n",
    "And even when the sample data helps to reject the null hypothesis, you still cannot be 100% \n",
    "sure of the outcome. What you can say, however, is given the evidence, the results show a \n",
    "significant increase in the IQ as a result of tutoring, instead of saying \"tutoring improves IQ\"."
   ]
  },
  {
   "cell_type": "markdown",
   "metadata": {},
   "source": [
    "## Two sample z-test  \n",
    "Import numpy as np \n",
    "\n",
    "from  scipy import stats \n",
    "\n",
    "stats.ttest_ind(TestSample1, TestSample2)\n",
    "\n",
    "We are looking for two means or two proportions to each other. \n",
    "Difference of two means equations\n",
    "\n",
    "Things we need to have\n",
    "______________________\n",
    "For Means: \n",
    "sample1 and sample2 >= 30\n",
    "and / or\n",
    "we know the pop. std. dev. (S) - as we are checking if they are from the same population\n",
    "\n",
    "For Proportions: \n",
    "if the sample proproptions are greater than 10\n",
    "n (1 - p_naut) > 10 then you do a z-test\n",
    "\n",
    "\n",
    "things we need to not have \n",
    "__________________________\n",
    "if sample < 30\n",
    "but we know our population is normally distributed\n",
    "and we know the population std. dev. "
   ]
  },
  {
   "cell_type": "markdown",
   "metadata": {},
   "source": [
    "### Two Sample z-test example"
   ]
  },
  {
   "cell_type": "code",
   "execution_count": null,
   "metadata": {},
   "outputs": [],
   "source": [
    "Import numpy as np \n",
    "from scipy import stats \n",
    "stats.ttest_ind(TestSample1, TestSample2) "
   ]
  },
  {
   "cell_type": "code",
   "execution_count": null,
   "metadata": {},
   "outputs": [],
   "source": [
    "statsmodels.stats.weightstats.ztest(x1, \n",
    "                                    x2=None, \n",
    "                                    value=0, \n",
    "                                    alternative='two-sided', \n",
    "                                    usevar='pooled', \n",
    "                                    ddof=1.0)\n",
    "\n",
    "so with this we are taking information from the dataframe and we are establishing the \n",
    "\n",
    "https://www.statsmodels.org/stable/generated/statsmodels.stats.weightstats.ztest.html#statsmodels.stats.weightstats.ztest"
   ]
  },
  {
   "cell_type": "markdown",
   "metadata": {},
   "source": [
    "## Two Proportion Z-Test "
   ]
  },
  {
   "cell_type": "code",
   "execution_count": null,
   "metadata": {},
   "outputs": [],
   "source": [
    "When you want to compare the proportions of two sets of variable."
   ]
  },
  {
   "cell_type": "code",
   "execution_count": null,
   "metadata": {},
   "outputs": [],
   "source": [
    "def two_proportions_diff(samplem, samplef, sample2):\n",
    "    #Number of sick males and females\n",
    "    sick_males = samplem.value_counts()[1]\n",
    "    sick_females = samplef.value_counts()[1]\n",
    "    #Total males and females\n",
    "    total_male = len(samplem)\n",
    "    total_female = len(samplef)\n",
    "    #probability of sick males and females\n",
    "    p_1 = sick_males / total_male\n",
    "    p_2 = sick_females / total_female\n",
    "    p_bar = sample2.value_counts()[1] / len(sample2)\n",
    "    #Seperating our numerator and denominator                    \n",
    "    numer = (p_1 - p_2)\n",
    "    denom = math.sqrt(((p_bar * (1-p_bar))*((1/total_male)+(1/total_female))))\n",
    "    z_value = numer /denom\n",
    "    p_value = (1 - stats.norm.cdf(z_value))\n",
    "    return z_value, p_value"
   ]
  },
  {
   "cell_type": "code",
   "execution_count": null,
   "metadata": {},
   "outputs": [],
   "source": [
    "two_proportions_diff(df_male['CHRONIC'], df_female['CHRONIC'], df['CHRONIC'])"
   ]
  },
  {
   "cell_type": "markdown",
   "metadata": {},
   "source": [
    "## Population Probability Test"
   ]
  },
  {
   "cell_type": "markdown",
   "metadata": {},
   "source": [
    "When we want to compare the proportions of two populations samples to see if they are from the \n",
    "same population."
   ]
  },
  {
   "cell_type": "code",
   "execution_count": null,
   "metadata": {},
   "outputs": [],
   "source": [
    "def pop_prob_test(sample, p_not):\n",
    "    #Define variables to determine our z value based on the mean equals 4:\n",
    "    n = len(sample)\n",
    "    # Sample mean (x̄) using NumPy mean()\n",
    "    p_hat = len(true_pop)/ n\n",
    "    # Sample Standard Deviation (sigma) using Numpy\n",
    "    numer = (p_hat - p_not)\n",
    "    denom = math.sqrt((p_not * (1 - p_not))/n)\n",
    "    z_score = abs(numer/denom)\n",
    "    print(z_score)\n",
    "    p_value = (1 - stats.norm.cdf(z_score)) * 2\n",
    "    z_critical = z = stats.norm.ppf(q = 0.975)\n",
    "    return p_value, abs(z_score) , z_critical, p_hat"
   ]
  },
  {
   "cell_type": "markdown",
   "metadata": {},
   "source": [
    "## One sample T-Test \n",
    "Import numpy as np \n",
    "\n",
    "from  scipy import stats \n",
    "\n",
    "scipy.stats.ttest_1samp (test sample, popmean=0)"
   ]
  },
  {
   "cell_type": "markdown",
   "metadata": {},
   "source": [
    "## One Sample T-Test Example"
   ]
  },
  {
   "cell_type": "code",
   "execution_count": null,
   "metadata": {},
   "outputs": [],
   "source": [
    "def pop_mean_test(sample, nullmu, alpha):\n",
    "    #Define variables to determine our z value based on the mean equals 4:\n",
    "    # Sample mean (x̄) using NumPy mean()\n",
    "    x_bar = sample.mean()\n",
    "    # Population mean \n",
    "    mu_not = nullmu\n",
    "    # Sample Standard Deviation (sigma) using Numpy\n",
    "    sigma = sample.std()\n",
    "    # Sample size\n",
    "    n = sample.value_counts().sum()\n",
    "    # Degrees of freedom\n",
    "    df = len(sample) - 1 \n",
    "    #Calculate the critical t-value\n",
    "    t_crit = stats.t.ppf(1 - alpha, df=df)\n",
    "    #Calculate the t-value and p-value\n",
    "    results = stats.ttest_1samp(a = sample, popmean = mu_not) \n",
    "    if (results[0]>t_crit) or (results[0]<(-t_crit)) or (results[1]<alpha):\n",
    "        print (\"Null hypothesis rejected. Results are statistically significant with t-value =\", \n",
    "                round(results[0], 2), \"critical t-value =\", t_crit, \"and p-value =\", np.round((results[1]), 2) * 100, \"%\")\n",
    "    else:\n",
    "        print (\"Null hypothesis is True with t-value =\", \n",
    "                round(results[0], 2), \", critical t-value =\", t_crit, \"and p-value =\", np.round((results[1]), 10) * 100, \"%\")"
   ]
  },
  {
   "cell_type": "markdown",
   "metadata": {},
   "source": [
    "## Two sample t-test \n",
    "Import scipy as stats \n",
    "\n",
    "independent_ttest(data1, data2, alpha)"
   ]
  },
  {
   "cell_type": "markdown",
   "metadata": {},
   "source": [
    "## Two Sample T-Test Example"
   ]
  },
  {
   "cell_type": "code",
   "execution_count": null,
   "metadata": {},
   "outputs": [],
   "source": [
    "def sample_variance(sample):\n",
    "    sample_mean = np.mean(sample)\n",
    "    return np.sum((sample - sample_mean) **2)/ (len(sample) -1)"
   ]
  },
  {
   "cell_type": "code",
   "execution_count": null,
   "metadata": {},
   "outputs": [],
   "source": [
    "def pooled_variance(sample1, sample2):\n",
    "    n_1, n_2 = len(sample1), len(sample2)\n",
    "    var_1, var_2 = sample_variance(sample1), sample_variance(sample2)\n",
    "    return ((n_1-1) * var_1 + (n_2-1)* var_2)/((n_1 + n_2)-2)"
   ]
  },
  {
   "cell_type": "code",
   "execution_count": null,
   "metadata": {},
   "outputs": [],
   "source": [
    "def twosample_tstatistic(expr, ctrl):\n",
    "    exp_mean, ctrl_mean = np.mean(expr), np.mean(ctrl)\n",
    "    pool_var = pooled_variance(expr, ctrl)\n",
    "    n_e, n_c = len(expr), len(ctrl)\n",
    "    num = exp_mean - ctrl_mean\n",
    "    denom = np.sqrt(pool_var * ((1/n_e)+(1/n_c)))\n",
    "    z_value = num / denom\n",
    "    #t = stats.t.ppf(alpha, df=len(sample))\n",
    "    return z_value\n",
    "\n"
   ]
  },
  {
   "cell_type": "markdown",
   "metadata": {},
   "source": [
    "## Difference of 2 means"
   ]
  },
  {
   "cell_type": "code",
   "execution_count": null,
   "metadata": {},
   "outputs": [],
   "source": [
    "def diff_two_means(df1, df2, q):\n",
    "    n1 = len(df1)\n",
    "    n2 = len(df2)\n",
    "    x_1 = df1.mean()\n",
    "    x_2 = df2.mean()\n",
    "    s1 = df1.std()\n",
    "    s2 = df2.std()\n",
    "    df1_2 = (n1+n2)-2\n",
    "    # This is for t -value\n",
    "    # If given population standard deveiation use \n",
    "    # z_critical = stats.norm.ppf(q)\n",
    "    t_crit = stats.t.ppf(q, df=df1_2)\n",
    "     # critical value \n",
    "    numer = (x_1 - x_2) - 0\n",
    "    denum = math.sqrt((s1**2/n1)+(s2**2/n2))\n",
    "    delta_mu = numer/denum\n",
    "    results = stats.ttest_ind(df1, df2, axis=0, nan_policy = 'omit', equal_var=False)\n",
    "    p = 1-stats.t.cdf(delta_mu, df=df1_2)\n",
    "    print(results)\n",
    "    print(t_crit)\n",
    "    print(delta_mu)\n",
    "    print(p)\n",
    "    if delta_mu > t_crit or delta_mu < - t_crit :\n",
    "        print (\"We reject null hypothesis. Results are statistically significant with t-value =\", \n",
    "        round(results[0], 2), \"critical t-value =\", t_crit, \"and p-value =\", np.round((results[1]), 10))\n",
    "    else:\n",
    "        print (\"We fail to reject the null hypothesis. Results are statistically insignifcant with t-value ==\", \n",
    "        round(results[0], 2), \", critical t-value =\", t_crit, \"and p-value =\", np.round((results[1]), 10))\n",
    "diff_two_means(df_dom['gross'], df_foreign['gross'], .975)"
   ]
  },
  {
   "cell_type": "code",
   "execution_count": null,
   "metadata": {},
   "outputs": [],
   "source": []
  },
  {
   "cell_type": "code",
   "execution_count": null,
   "metadata": {},
   "outputs": [],
   "source": []
  },
  {
   "cell_type": "code",
   "execution_count": null,
   "metadata": {},
   "outputs": [],
   "source": []
  },
  {
   "cell_type": "markdown",
   "metadata": {},
   "source": [
    "## Confidence Interval Function"
   ]
  },
  {
   "cell_type": "code",
   "execution_count": null,
   "metadata": {},
   "outputs": [],
   "source": [
    "def conf_interval(sample):\n",
    "    \"\"\"\n",
    "    Function input: population, sample\n",
    "    Function output: z-critical, Margin of Error, Confidence Interval\n",
    "    \"\"\"\n",
    "\n",
    "    sample_size = len(sample)\n",
    "    x_hat = sample.mean()\n",
    "    # Calculate the z-critical value using stats.norm.ppf()\n",
    "    # Note that we use stats.norm.pff(q = 0.0975) to get the desired z-critical value\n",
    "    # Instead of q = 0.95 because the distribution has two tails\n",
    "\n",
    "    z = stats.norm.ppf(q = 0.975)\n",
    "\n",
    "    # Calculate the population std from data\n",
    "    stdev = sample.std()\n",
    "\n",
    "    # Calculate the margin of error using formula given above\n",
    "    moe = z * (stdev/math.sqrt(sample_size))\n",
    "\n",
    "\n",
    "    conf = (x_hat - moe, x_hat + moe)\n",
    "\n",
    "    return z, moe, conf"
   ]
  },
  {
   "cell_type": "markdown",
   "metadata": {},
   "source": [
    "## Using PPF and CDF to get P-values and T-crit"
   ]
  },
  {
   "cell_type": "code",
   "execution_count": null,
   "metadata": {},
   "outputs": [],
   "source": [
    "\n",
    "ppf is used when needed to transcribe % to critical value \n",
    "\n",
    "t_crit = stats.t.ppf(1 - alpha, df=df)\n",
    "\n",
    "z_critical = stats.norm.ppf(q)\n",
    "\n",
    "cdf is used when needed to transcribe critical value to %\n",
    "\n",
    "p_value = stats.norm.cdf(z)*2 #Only if it is 2 tailed\n",
    "\n",
    "#if z score is negative we have a left tailed test and subtract from 1\n",
    "\n",
    "#if z score is positive we have a right tailed test we leave as is\n",
    "\n",
    "# can not have a value over 1\n",
    "Example: \n",
    "    #This is for a right sided test in this case\n",
    "    alpha = 0.05\n",
    "    cv = st.ppf(1.0 - alpha, df)\n",
    "    p = (1.0 - st.cdf(abs(t_stat), df)) "
   ]
  },
  {
   "cell_type": "code",
   "execution_count": null,
   "metadata": {},
   "outputs": [],
   "source": [
    "#2 Is there a statistically significant difference between men and women in the number of days a person feels phsyically ill?\n",
    "#Create variables\n",
    "map_sex = {1:'Male',  2: 'Female', 9: np.nan}\n",
    "df['SEX'] = df['SEX'].replace(map_sex)\n",
    "fem = df.groupby('SEX')['physical_health'].get_group('Female')\n",
    "mal = df.groupby('SEX')['physical_health'].get_group('Male') \n",
    "#import needed packages\n",
    "from scipy.stats import t as st\n",
    "#define function for two sample t-test (two tailed)\n",
    "def independent_ttest(data1, data2, alpha):\n",
    "# calculate needed numbers for samples\n",
    "    mean1, mean2 = np.mean(data1), np.mean(data2)\n",
    "    std1, std2 = np.std(data1, ddof=1), np.std(data2, ddof=1)\n",
    "    n1, n2 = len(data1), len(data2)\n",
    "    se1, se2 = std1/math.sqrt(n1), std2/math.sqrt(n2)\n",
    "# calculate standard error, test stat, and degrees of freedom\n",
    "    sed = math.sqrt(se1**2.0 + se2**2.0)\n",
    "    t_stat = (mean1 - mean2) / sed\n",
    "    df = min(len(data1), len(data2)) - 1\n",
    "# calculate the critical value and p-value\n",
    "    alpha = 0.05\n",
    "    cv = st.ppf(1.0 - alpha, df)\n",
    "    p = (1.0 - st.cdf(abs(t_stat), df)) \n",
    "# return everything\n",
    "    return t_stat, cv, p\n",
    "independent_ttest(fem,mal,0.05) "
   ]
  },
  {
   "cell_type": "markdown",
   "metadata": {},
   "source": [
    "## Linear Regression Functions "
   ]
  },
  {
   "cell_type": "code",
   "execution_count": null,
   "metadata": {},
   "outputs": [],
   "source": [
    "Goal: To find a relationship between an independent variable and the target variable. \n",
    "We want to make models that explain that relationship.\n",
    "  \n",
    "    "
   ]
  },
  {
   "cell_type": "code",
   "execution_count": 6,
   "metadata": {
    "collapsed": true,
    "jupyter": {
     "outputs_hidden": true
    }
   },
   "outputs": [
    {
     "ename": "NameError",
     "evalue": "name 'df' is not defined",
     "output_type": "error",
     "traceback": [
      "\u001b[1;31m---------------------------------------------------------------------------\u001b[0m",
      "\u001b[1;31mNameError\u001b[0m                                 Traceback (most recent call last)",
      "\u001b[1;32m<ipython-input-6-7ac5d6b234e3>\u001b[0m in \u001b[0;36m<module>\u001b[1;34m\u001b[0m\n\u001b[0;32m      6\u001b[0m \u001b[1;31m#if you just want to see the correlation of 2 columns do this\u001b[0m\u001b[1;33m\u001b[0m\u001b[1;33m\u001b[0m\u001b[1;33m\u001b[0m\u001b[0m\n\u001b[0;32m      7\u001b[0m \u001b[1;33m\u001b[0m\u001b[0m\n\u001b[1;32m----> 8\u001b[1;33m \u001b[0mdf1_corr\u001b[0m \u001b[1;33m=\u001b[0m \u001b[0mdf\u001b[0m\u001b[1;33m[\u001b[0m\u001b[1;33m[\u001b[0m\u001b[1;34m'mpg'\u001b[0m\u001b[1;33m,\u001b[0m \u001b[1;34m'weight'\u001b[0m\u001b[1;33m]\u001b[0m\u001b[1;33m]\u001b[0m\u001b[1;33m.\u001b[0m\u001b[0mcorr\u001b[0m\u001b[1;33m(\u001b[0m\u001b[1;33m)\u001b[0m\u001b[1;33m\u001b[0m\u001b[1;33m\u001b[0m\u001b[0m\n\u001b[0m\u001b[0;32m      9\u001b[0m \u001b[0mdf1_corr\u001b[0m\u001b[1;33m(\u001b[0m\u001b[1;33m)\u001b[0m\u001b[1;33m\u001b[0m\u001b[1;33m\u001b[0m\u001b[0m\n",
      "\u001b[1;31mNameError\u001b[0m: name 'df' is not defined"
     ]
    }
   ],
   "source": [
    "1) If you want to see correlations between items before you jump do \n",
    "\n",
    "corr = df.corr()\n",
    "corr\n",
    "\n",
    "2) if you just want to see the correlation of 2 columns do this\n",
    "\n",
    "df1_corr = df[['mpg', 'weight']].corr()\n",
    "df1_corr"
   ]
  },
  {
   "cell_type": "code",
   "execution_count": null,
   "metadata": {},
   "outputs": [],
   "source": [
    "We use this to find the correlation between the given column with every other column\n",
    "\n",
    "df[df.columns[:]].corr()['gross'][:]\n",
    "\n",
    "the first [:] helps split the x-axis going from left to right\n",
    "the second [:] helps split the y-axis going from top to bottom"
   ]
  },
  {
   "cell_type": "code",
   "execution_count": null,
   "metadata": {},
   "outputs": [],
   "source": [
    "This is to setup the heat map of the correlations to understand it visually.\n",
    "\n",
    "import seaborn as sns\n",
    "plt.style.use('seaborn')\n",
    "sns.set(style=\"white\")\n",
    "# Set up  matplotlib figure (might have to play around with the \n",
    "# figsize if your labels aren't so legible and you don't want\n",
    "# to mess with the labels using matplotlib)\n",
    "f, ax = plt.subplots(figsize=(10, 9))\n",
    "# Create an upper triangular matrix to use to get rid of duplicate/\n",
    "# useless values\n",
    "mask = np.zeros_like(df.corr())\n",
    "mask[np.triu_indices_from(mask)] = True\n",
    "# plot the heatmap\n",
    "with sns.axes_style(\"white\"):\n",
    "    ax = sns.heatmap(df.corr(), mask=mask, square=True)\n",
    "# fix for mpl bug that cuts off top/bottom of seaborn viz\n",
    "# credit: https://github.com/mwaskom/seaborn/issues/1773 SalMac86's post\n",
    "b, t = plt.ylim() # discover the values for bottom and top\n",
    "b += 0.5 # Add 0.5 to the bottom\n",
    "t -= 0.5 # Subtract 0.5 from the top\n",
    "plt.ylim(b, t) # update the ylim(bottom, top) values\n",
    "plt.show() # ta-da!"
   ]
  },
  {
   "cell_type": "code",
   "execution_count": null,
   "metadata": {},
   "outputs": [],
   "source": [
    "from statsmodels.formula.api import ols\n",
    "\n",
    "slr_model = ols(formula='mpg~weight', data=df).fit()"
   ]
  },
  {
   "cell_type": "markdown",
   "metadata": {},
   "source": [
    "Creating the SLR model, and take the one variable (which is your dependent variable) and \n",
    "compare against your other independent variables.\n",
    ".fit() is for ....\n",
    "How do we change conf interval we add (alpha = 0.05) in the slr_model.summary() "
   ]
  },
  {
   "cell_type": "code",
   "execution_count": null,
   "metadata": {},
   "outputs": [],
   "source": [
    "slr_model.summary()"
   ]
  },
  {
   "cell_type": "code",
   "execution_count": null,
   "metadata": {},
   "outputs": [],
   "source": [
    "mlr_model = ols(formula='mpg~weight+horsepower+displacement', data=df).fit()\n",
    "\n",
    "mlr_model.summary(alpha = 0.05)"
   ]
  },
  {
   "cell_type": "markdown",
   "metadata": {},
   "source": [
    "We setup our formula (Y- is the 'mpg' in this case) every variable after the ~ is\n",
    "the independent variable"
   ]
  },
  {
   "cell_type": "markdown",
   "metadata": {},
   "source": [
    "### R-squared - \n",
    "How much of the model explains the variation is from the line\n",
    "How close the data is fitted to the regression line\n",
    "\n",
    "if we get 0.139 that means our model explains 13.9% of the data\n",
    "\n",
    "0 - indicates that the model explains none of the variability of the response data around its mean. \n",
    "\n",
    "1 - indicates that the model explains all the variability of the response data around its mean.\n",
    "\n",
    "(If you get a 1, that means your dependent variable is inside your independent variable)"
   ]
  },
  {
   "cell_type": "markdown",
   "metadata": {},
   "source": [
    "### Adj. R-squared -\n",
    "takes into account the ammount of variables in our model. It is a more accurate way to \n",
    "\n",
    "guage it as if more data is added and this number drops, the data added is not applicable"
   ]
  },
  {
   "cell_type": "markdown",
   "metadata": {},
   "source": [
    "### Prob (F-statistic) - \n",
    "If probability is below 0.05 (p-value) we will use that variable within our model. \n",
    "\n",
    "If we are doing a simple linear regression we are going to reject the null hypothesis. \n",
    "\n",
    "If the p-value is greater than 0.05 we will fail to reject the null hypothesis."
   ]
  },
  {
   "cell_type": "markdown",
   "metadata": {},
   "source": [
    "### Coef - \n",
    "It is the \"rise over run\" of how much the independent chances the dependent variable \n",
    "holding all other variables equal / constant. "
   ]
  },
  {
   "cell_type": "markdown",
   "metadata": {},
   "source": [
    "### Std Err - \n",
    "Standard error is the approx. std. dev. of the sample. "
   ]
  },
  {
   "cell_type": "markdown",
   "metadata": {},
   "source": [
    "### T - \n",
    "This is the critical variable for the independent variable and it helps us calc \n",
    "confidence interval."
   ]
  },
  {
   "cell_type": "markdown",
   "metadata": {},
   "source": [
    "### P > |t| -\n",
    "\n",
    "We are looking for the lowest number possible to show that is statistically significant. \n",
    "\n",
    "Is our p value less than 0.05? \n",
    "\n",
    "There is 95% confident that this particular variable ['independent_variable'] is \n",
    "correlated with the ['dependent_variable']\n",
    "\n",
    "If our p value is more than 0.05?\n",
    "\n",
    "There is 95% confident that this particular variable ['independent_variable'] is NOT\n",
    "correlated with the ['dependent_variable']\n",
    "\n",
    "If more than 0.05 we have low confidence that it impacts the model\n",
    "\n",
    "These columns provide the t-value and 2-tailed p-value used in testing the null hypothesis that the coefficient (parameter) is 0. If you use a 2-tailed test, then you would compare each p-value to your pre-selected value of alpha. Coefficients having p-values less than alpha are statistically significant. For example, if you chose alpha to be 0.05, coefficients having a p-value of 0.05 or less would be statistically significant (i.e., you can reject the null hypothesis and say that the coefficient is significantly different from 0). If you use a 1-tailed test (i.e., you hypothesize that the parameter will go in a particular direction), then you can divide the p-value by 2 before comparing it to your pre-selected alpha level."
   ]
  },
  {
   "cell_type": "markdown",
   "metadata": {},
   "source": [
    "### [0.025     0.975] - \n",
    "\n",
    "Margin of error around the mean of a two tailed test"
   ]
  },
  {
   "cell_type": "code",
   "execution_count": null,
   "metadata": {},
   "outputs": [],
   "source": []
  },
  {
   "cell_type": "code",
   "execution_count": null,
   "metadata": {},
   "outputs": [],
   "source": []
  },
  {
   "cell_type": "code",
   "execution_count": null,
   "metadata": {},
   "outputs": [],
   "source": []
  },
  {
   "cell_type": "markdown",
   "metadata": {},
   "source": [
    "## Linear Regression Example "
   ]
  },
  {
   "cell_type": "markdown",
   "metadata": {},
   "source": [
    "1. **Linearity**: The relationship between $X$ and $Y$ must be linear.\n",
    "    - Check this assumption by examining a scatterplot of x and y.\n",
    "\n",
    "\n",
    "2. **Independence of errors**: There is not a relationship between the residuals and the $Y$ variable; in other words, $Y$ is independent of errors.\n",
    "    - Check this assumption by examining a scatterplot of “residuals versus fits”; the correlation should be approximately 0. In other words, there should not look like there is a relationship.\n",
    "\n",
    "\n",
    "3. **Normality of errors**: The residuals must be approximately normally distributed.\n",
    "    - Check this assumption by examining a normal probability plot; the observations should be near the line. You can also examine a histogram of the residuals; it should be approximately normally distributed.\n",
    "\n",
    "\n",
    "4. **Equal variances**: The variance of the residuals is the same for all values of $X$.\n",
    "    - Check this assumption by examining the scatterplot of “residuals versus fits”; the variance of the residuals should be the same across all values of the x-axis. If the plot shows a pattern (e.g., bowtie or megaphone shape), then variances are not consistent, and this assumption has not been met."
   ]
  },
  {
   "cell_type": "markdown",
   "metadata": {},
   "source": [
    "* What exactly is a z-score \n",
    "    * The number of stds a single data point is above or below the mean \n",
    "* What exactly is a t-score \n",
    "    * A t-score is basically the same thing but accounts for the fact that we know less about the distribution due usually a low sample size or not knowing population std  \n",
    "* A z, t, or F measures extremeness in terms of distance from the mean. \n",
    "* What is a p-value  \n",
    "    *  The probability of getting a result at least as extreme as the sample  assuming the null hypothesis is true. That is to say the probability that you got that result entirely due to chance with null hypothesis true.  \n",
    "    * Assuming you null hypothesis is true what are the chance this (or something at least this extreme) even occurred. \n",
    "* What is an alpha  \n",
    "    * The cut off probability below which we reject a null hypothesis and therefore conclude that the sample did not occur by chance \n",
    "* An ANOVA is a test for 3 or more means (and therefore the sample) to test whether the the means are statistically significantly difference.  \n",
    "    * An anova seeks to find whether the sample are from the same population \n",
    "* A two sample t-test test the means for statistically difference \n",
    "* A one sample t-test (or z-test) tries to determine whether a sample mean is equal to the population  \n",
    "* PR(>F) is the probability of getting a result at least as extreme as the one the F-score represents. This is your p-value. \n",
    "* P-hat is the proportion of the sample that met the condition  \n",
    "* What is happening in chi squared is I am comparing three sample proportions and determine whether they are all the same statistically and therefore part of the same population "
   ]
  },
  {
   "cell_type": "markdown",
   "metadata": {},
   "source": [
    "## Data Cleaning Process"
   ]
  },
  {
   "cell_type": "markdown",
   "metadata": {},
   "source": [
    "Assuming we have a dataset with many rows, columns, and NaN\n",
    "We want to first check if the columns we care about have NaN values and clean them"
   ]
  },
  {
   "cell_type": "code",
   "execution_count": null,
   "metadata": {},
   "outputs": [],
   "source": [
    "1) Knowing your column names\n",
    "\n",
    "# Get column names\n",
    "column_names = df.columns\n",
    "print(column_names)\n",
    "# Get column data types\n",
    "df.dtypes"
   ]
  },
  {
   "cell_type": "code",
   "execution_count": null,
   "metadata": {},
   "outputs": [],
   "source": [
    "\n",
    "2) Converting column types to intergers or float64\n",
    "# astype(float) method\n",
    "\n",
    "df['DataFrame Column'] = df['DataFrame Column'].astype(float) \n",
    "\n",
    "#to_numeric method\n",
    "\n",
    "df['DataFrame Column'] = pd.to_numeric(df['DataFrame Column'],errors='coerce')\n",
    "\n",
    "What is the difference in these two methods?\n",
    "\n",
    "(1) For a column that contains numeric values stored as strings;\n",
    "\n",
    "(2) For a column that contains both numeric and non-numeric values. \n",
    "By setting errors=’coerce’, you’ll transform the non-numeric values into NaN.\n"
   ]
  },
  {
   "cell_type": "code",
   "execution_count": null,
   "metadata": {},
   "outputs": [],
   "source": [
    "3) To Drop multiple columsn\n",
    "\n",
    "df.drop(columns=['aspect_ratio', 'plot_keywords', 'movie_facebook_likes', 'genres'], inplace=True)"
   ]
  },
  {
   "cell_type": "code",
   "execution_count": null,
   "metadata": {},
   "outputs": [],
   "source": [
    "4) To Drope multiple rows\n",
    "\n",
    "df.drop([0,1,2,3], axis=0)"
   ]
  },
  {
   "cell_type": "code",
   "execution_count": null,
   "metadata": {},
   "outputs": [],
   "source": [
    "5) Finding the shape of the df\n",
    "\n",
    "df.shape #to see the number of rows and columns"
   ]
  },
  {
   "cell_type": "code",
   "execution_count": null,
   "metadata": {},
   "outputs": [],
   "source": [
    "6) finding NaN in a column\n",
    "\n",
    "df['gross'].isna()"
   ]
  },
  {
   "cell_type": "code",
   "execution_count": null,
   "metadata": {},
   "outputs": [],
   "source": [
    "7) creating a new df with the NaN dropped in a specific column\n",
    "\n",
    "we then can set a new variable for a dataframe where it is \n",
    "df1 = df.dropna(subset = ['gross'])"
   ]
  },
  {
   "cell_type": "markdown",
   "metadata": {},
   "source": [
    "Lets say we need to get movies made after 2000 and have a rating of \"R\""
   ]
  },
  {
   "cell_type": "code",
   "execution_count": null,
   "metadata": {},
   "outputs": [],
   "source": [
    "8) How to get a df with specific returns\n",
    "df1 = df[(df['title_year'] >= 2000.0) & (df['content_rating'] == 'R')]"
   ]
  },
  {
   "cell_type": "code",
   "execution_count": null,
   "metadata": {},
   "outputs": [],
   "source": [
    "9) "
   ]
  },
  {
   "cell_type": "code",
   "execution_count": null,
   "metadata": {},
   "outputs": [],
   "source": []
  },
  {
   "cell_type": "code",
   "execution_count": null,
   "metadata": {},
   "outputs": [],
   "source": []
  },
  {
   "cell_type": "code",
   "execution_count": null,
   "metadata": {},
   "outputs": [],
   "source": []
  },
  {
   "cell_type": "code",
   "execution_count": null,
   "metadata": {},
   "outputs": [],
   "source": []
  },
  {
   "cell_type": "markdown",
   "metadata": {},
   "source": [
    "## Baysian Approach"
   ]
  },
  {
   "cell_type": "code",
   "execution_count": null,
   "metadata": {},
   "outputs": [],
   "source": [
    "1) ID the questions (postieror) in terms of P(A|B)\n",
    "\n",
    "2) Understand what is given (prior / likeihood / marginal likeihood) \n",
    "\n",
    "3) if you are missing one of the figures how to determine to solve for it\n",
    "\n",
    "4) solve\n",
    "\n",
    "Key words like \"When\" are synonomous with \"Given\""
   ]
  },
  {
   "cell_type": "code",
   "execution_count": null,
   "metadata": {},
   "outputs": [],
   "source": [
    "There are two ways\n",
    "\n",
    "We either have \n",
    "\n",
    "P_a_given_b =  ( P_b_given_a  * P_a ) /  P_b \n",
    "\n",
    "or (depending on how much informaton we have)\n",
    "\n",
    "P_a_given_b =  ( P_b_given_a  * P_a ) /  (P_a * P_b_given_a) + (P_not_a * P_b_given_not_a) \n",
    "\n",
    "or (When we have )\n",
    "\n",
    "P_b_given_a =  ( P_a_given_b * P_b) /  P_a "
   ]
  },
  {
   "cell_type": "markdown",
   "metadata": {},
   "source": [
    "An advertising executive is studying television viewing habits of married men and women during prime time hours. Based on the past viewing records he has determined that during prime time wives are watching television 60% of the time. It has also been determined that when the wife is watching television, 40% of the time the husband is also watching. When the wife is not watching the television, 30% of the time the husband is watching the television. Find the probability that if the husband is watching the television, the wife is also watching the television."
   ]
  },
  {
   "cell_type": "markdown",
   "metadata": {},
   "source": [
    "P_a = 0.60 #P(A) The probability that wife is watching television\n",
    "P_b = #P(B) The probability the the husband is watching.\n",
    "P_b_given_a = 0.40 #P(B|A) The probability that the husband is watching given the wife is watching\n",
    "P_a_given_b =   #P(A|B) The probability that wife (that the wife is watching) given husband (that the husband is watching)\n",
    "\n",
    "P_not_a = 0.40           The prob that the wife is not watching tv\n",
    "P_b_given_not_a = 0.30   The husband is watching given that wife is not watching tv\n"
   ]
  },
  {
   "cell_type": "code",
   "execution_count": null,
   "metadata": {},
   "outputs": [],
   "source": [
    "P_a = 0.60 #wife watching tv\n",
    "P_b = ? # looking for\n",
    "P_b = (.60 * .40) + (.40 * .30) \n",
    "P_b = (P_a * P_b_given_a) + (P_not_a * P_b_given_not_a) \n",
    "P_b_given_a = 0.40 # Husband watching given that wife is watching\n",
    "P_a_given_b = ? #looking for\n",
    "P_a_given_b = 57.14%\n",
    "\n",
    "# 1) 60% of the time wives are watching tv, P_not_a = 0.40\n",
    "# 2) Now .\n",
    "\n",
    "P_a_given_b =  ( P_b_given_a  * P_a ) /  P_b \n",
    "\n",
    "P_a_given_b = (0.40 * 0.60) / (.36)\n",
    " \n"
   ]
  },
  {
   "cell_type": "markdown",
   "metadata": {},
   "source": [
    "## Type 1 Error & Type 2 Error"
   ]
  },
  {
   "cell_type": "markdown",
   "metadata": {},
   "source": [
    "Type 1 error - When you reject the null hypothesis incorrectly, A False Positive. Probabilty of rejecting the null hypothesis when the null hypothesis is, in fact true\n",
    "\n",
    "Type 2 error - When you fail to reject the null hypothesis incorrectly, A False Negative. Probabilty of failing to rejecting the null hypothesis when the null hypothesis is, in fact false"
   ]
  },
  {
   "cell_type": "code",
   "execution_count": null,
   "metadata": {},
   "outputs": [],
   "source": []
  },
  {
   "cell_type": "markdown",
   "metadata": {},
   "source": [
    "### Graph to visualize rejection regions"
   ]
  },
  {
   "cell_type": "code",
   "execution_count": null,
   "metadata": {},
   "outputs": [],
   "source": [
    "def visualize_t(t_stat, n_control, n_experimental):\n",
    "    “”\"\n",
    "    Visualize the critical t values on a t distribution\n",
    "    Parameters\n",
    "    -----------\n",
    "    t-stat: float\n",
    "    n_control: int\n",
    "    n_experiment: int\n",
    "    Returns\n",
    "    ----------\n",
    "    None\n",
    "    “”\"\n",
    "    # initialize a matplotlib “figure”\n",
    "    fig = plt.figure(figsize=(8,5))\n",
    "    ax = fig.gca()\n",
    "    # generate points on the x axis between -8 and 8:\n",
    "    xs = np.linspace(-8, 8, 500)\n",
    "    # use stats.t.ppf to get critical value. For alpha = 0.05 and two tailed test\n",
    "    crit = stats.t.ppf(1-0.025, (n_control+n_experimental-2))\n",
    "    # use stats.t.pdf to get values on the probability density function for the t-distribution\n",
    "    ys= stats.t.pdf(xs, (n_control+n_experimental-2), 0, 1)\n",
    "    ax.plot(xs, ys, linewidth=3, color=‘darkred’)\n",
    "    ax.axvline(crit, color=‘black’, linestyle=‘--’, lw=5)\n",
    "    ax.axvline(-crit, color=‘black’, linestyle=‘--’, lw=5)\n",
    "    plt.show()\n",
    "    return None\n",
    "visualize_t(t_stat, len(mm), len(ff))"
   ]
  }
 ],
 "metadata": {
  "kernelspec": {
   "display_name": "Python 3",
   "language": "python",
   "name": "python3"
  },
  "language_info": {
   "codemirror_mode": {
    "name": "ipython",
    "version": 3
   },
   "file_extension": ".py",
   "mimetype": "text/x-python",
   "name": "python",
   "nbconvert_exporter": "python",
   "pygments_lexer": "ipython3",
   "version": "3.7.6"
  }
 },
 "nbformat": 4,
 "nbformat_minor": 4
}
