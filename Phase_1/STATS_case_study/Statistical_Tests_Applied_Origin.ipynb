{
 "cells": [
  {
   "cell_type": "markdown",
   "metadata": {},
   "source": [
    "# Case Background & Key Questions\t\n",
    "\n",
    "Flatiron Health Insurance (FHI) is a growing private healthcare insurance provider founded on the premise that using data and analytics can improve the health insurance industry by providing better care and offerings to its patients. Every year, the Center for Disease Control (CDC) conducts surveys to understand the latest demographic, health, and fitness trends. You have been tasked with analyzing the recently published results of this year's survey and providing your recommendations back to the Chief Analytics Officer and Chief Marketing Officer. You have been assigned the task of taking a first look at the data and beginning to answer several key questions:\n",
    "\t\t\t\t\t\t\t\t\t\t\t \t\t\t\t\t\t\t\t\n",
    "1)  How does health status, represented by average number of days with bad physical health in the past month (PHYSHLTH), differ by state? Also provide an indication of distribution using whatever statistics you find suitable.\n",
    " \t\t\t\t\t\t\t\t\t\t\t\t \t\t\t\t\t\t\t\t\n",
    "2)  Digging deeper into the data, what are some factors that impact health (i.e. demographics, behaviors, previous illness, etc.)?\t\n",
    "\t\t\t\t\t\t \t\t\t\t\t\t\n",
    "To get you started, the IT department formatted the data set into a tab delimited text file for only NY, NJ, and CT (FHI’s primary markets) called `case_study.csv`. Below you will find a list of steps/questions that you will need to take in your investigation. The first part of the notebook will be focused on cleaning up your data and visualizing it.  The second part of the data set will be focused on performing statistical tests to make statements with statistical significance.  \n"
   ]
  },
  {
   "cell_type": "markdown",
   "metadata": {},
   "source": [
    "Before you begin writing your code to clean up this data in Pandas, I necourage you to watch the following video that explains the most efficient way to clean data in pandas.\n",
    "\n",
    "https://www.youtube.com/watch?v=nxWginnBklU&feature=youtu.be\n",
    "\n",
    "Also, here is a link to his notebook of sample code.  \n",
    "https://gitlab.com/cheevahagadog/talks-demos-n-such/tree/master/PyGotham2019"
   ]
  },
  {
   "cell_type": "code",
   "execution_count": 1,
   "metadata": {},
   "outputs": [],
   "source": [
    "import pandas as pd\n",
    "import matplotlib.pyplot as plt\n",
    "plt.style.use('ggplot')\n",
    "import numpy as np\n",
    "%matplotlib inline"
   ]
  },
  {
   "cell_type": "markdown",
   "metadata": {},
   "source": [
    "# pd.read_csv('case_study.csv')"
   ]
  },
  {
   "cell_type": "code",
   "execution_count": 2,
   "metadata": {},
   "outputs": [
    {
     "name": "stderr",
     "output_type": "stream",
     "text": [
      "/Users/ivan/opt/anaconda3/lib/python3.7/site-packages/IPython/core/interactiveshell.py:3063: DtypeWarning: Columns (171) have mixed types.Specify dtype option on import or set low_memory=False.\n",
      "  interactivity=interactivity, compiler=compiler, result=result)\n"
     ]
    }
   ],
   "source": [
    "#Load our dataframe account for the index columns\n",
    "df = pd.read_csv('case_study.csv', index_col=0)\n",
    "#pd.set_option('display.max_columns', 360)"
   ]
  },
  {
   "cell_type": "code",
   "execution_count": 3,
   "metadata": {},
   "outputs": [],
   "source": [
    "df.rename(columns={'_STATE': 'state' ,'PHYSHLTH': 'physical_health', 'SMOKDAY2': 'smoking'}, inplace= True)    # renaming 2 columns"
   ]
  },
  {
   "cell_type": "code",
   "execution_count": 4,
   "metadata": {},
   "outputs": [],
   "source": [
    "conditions = [ df['state'] == 9. ,df['state'] == 34. ,df['state'] == 36.]\n",
    "choises = ['Connecticut', 'New Jersey', 'New York']\n",
    "df['state'] = np.select(conditions, choises, default = 'NA')"
   ]
  },
  {
   "cell_type": "markdown",
   "metadata": {},
   "source": [
    "## Subset your dataframe to only include the states in the tri-state area (NJ, CT, NY)"
   ]
  },
  {
   "cell_type": "markdown",
   "metadata": {},
   "source": [
    "Now check to see how large our subset df."
   ]
  },
  {
   "cell_type": "markdown",
   "metadata": {},
   "source": [
    "**PHYSHLTH** is the column we are interested in for this analysis, so let's start to investigate the column. Since we have a data cookbook, a.k.a. data dictionary) we want to start there before looking at the code."
   ]
  },
  {
   "cell_type": "code",
   "execution_count": 5,
   "metadata": {
    "scrolled": true
   },
   "outputs": [
    {
     "data": {
      "text/plain": [
       "count    34545.000000\n",
       "mean        60.213403\n",
       "std         37.504566\n",
       "min          1.000000\n",
       "25%         15.000000\n",
       "50%         88.000000\n",
       "75%         88.000000\n",
       "max         99.000000\n",
       "Name: physical_health, dtype: float64"
      ]
     },
     "execution_count": 5,
     "metadata": {},
     "output_type": "execute_result"
    }
   ],
   "source": [
    "df['physical_health'].describe()"
   ]
  },
  {
   "cell_type": "markdown",
   "metadata": {},
   "source": [
    "## 1. Handle the non-normal values\n",
    "\n",
    "As you can see from the data dictionary, there are a number of responses that are coded with values that could throw off our descriptive statistics.  Let's clean up by mapping the responses to a more appropriate value, and handling any missing values.  "
   ]
  },
  {
   "cell_type": "code",
   "execution_count": 6,
   "metadata": {},
   "outputs": [],
   "source": [
    "#df[(df.physical_health != 99.0) & (df.physical_health != 77.0)]"
   ]
  },
  {
   "cell_type": "code",
   "execution_count": 7,
   "metadata": {},
   "outputs": [
    {
     "data": {
      "text/plain": [
       "(33747,)"
      ]
     },
     "execution_count": 7,
     "metadata": {},
     "output_type": "execute_result"
    }
   ],
   "source": [
    "df.drop(df[df['physical_health'] == 99.0 ].index, inplace=True)   # Delete values where patient - 'Refused'\n",
    "df.drop(df[df['physical_health'] == 77.0 ].index, inplace=True)   # Delete values where patient - 'Don't know/Not Sure\n",
    "df.physical_health = np.where(df.physical_health == 88.0, 0, df.physical_health)\n",
    "df.physical_health.shape"
   ]
  },
  {
   "cell_type": "code",
   "execution_count": 8,
   "metadata": {},
   "outputs": [
    {
     "data": {
      "text/plain": [
       "Int64Index([], dtype='int64')"
      ]
     },
     "execution_count": 8,
     "metadata": {},
     "output_type": "execute_result"
    }
   ],
   "source": [
    "df.loc[df['physical_health'] == 99.0 ].index"
   ]
  },
  {
   "cell_type": "code",
   "execution_count": 9,
   "metadata": {},
   "outputs": [
    {
     "data": {
      "text/plain": [
       "False    33747\n",
       "Name: physical_health, dtype: int64"
      ]
     },
     "execution_count": 9,
     "metadata": {},
     "output_type": "execute_result"
    }
   ],
   "source": [
    "df.physical_health.isna().value_counts()"
   ]
  },
  {
   "cell_type": "markdown",
   "metadata": {},
   "source": [
    "## 2. Generate the descriptive statistics\n",
    "\n",
    "Now that our target variable is cleaned up lets calculate the descriptive statistics, generate a graph that quickly shows those statistics, and generate a graph shows the distribution of the data."
   ]
  },
  {
   "cell_type": "code",
   "execution_count": 10,
   "metadata": {},
   "outputs": [
    {
     "data": {
      "text/plain": [
       "31"
      ]
     },
     "execution_count": 10,
     "metadata": {},
     "output_type": "execute_result"
    }
   ],
   "source": [
    "len(df.physical_health.unique())"
   ]
  },
  {
   "cell_type": "code",
   "execution_count": 11,
   "metadata": {},
   "outputs": [
    {
     "data": {
      "text/plain": [
       "count    33747.000000\n",
       "mean         4.085341\n",
       "std          8.513293\n",
       "min          0.000000\n",
       "25%          0.000000\n",
       "50%          0.000000\n",
       "75%          3.000000\n",
       "max         30.000000\n",
       "Name: physical_health, dtype: float64"
      ]
     },
     "execution_count": 11,
     "metadata": {},
     "output_type": "execute_result"
    }
   ],
   "source": [
    "# descriptive statistics\n",
    "df.physical_health.describe()"
   ]
  },
  {
   "cell_type": "code",
   "execution_count": 12,
   "metadata": {},
   "outputs": [
    {
     "data": {
      "image/png": "[encoded data removed]",
      "text/plain": [
       "<Figure size 1440x432 with 2 Axes>"
      ]
     },
     "metadata": {
      "needs_background": "light"
     },
     "output_type": "display_data"
    }
   ],
   "source": [
    "fig = plt.figure(figsize=(20,6))\n",
    "\n",
    "ax1 = fig.add_subplot(1,2,1)\n",
    "ax2 = fig.add_subplot(1,2,2)\n",
    "\n",
    "ax1.hist(df.physical_health, color='turquoise', rwidth = 0.9, edgecolor= 'black')\n",
    "ax1.set_title(\"Distribution of People's Sick Days\", size= 18)\n",
    "ax1.set_xlabel('Sick Days', size=10)\n",
    "ax1.set_ylabel('Number Of Observations', size=10)\n",
    "\n",
    "ax2.boxplot(df.physical_health, vert = False)\n",
    "ax2.set_xlabel('Sick Days', size=10)\n",
    "plt.show()"
   ]
  },
  {
   "cell_type": "markdown",
   "metadata": {},
   "source": [
    "## 3. Generate a graphic that compares the average number of sick days for each state. "
   ]
  },
  {
   "cell_type": "code",
   "execution_count": 13,
   "metadata": {},
   "outputs": [
    {
     "data": {
      "text/plain": [
       "state\n",
       "Connecticut    3.688562\n",
       "New Jersey     4.380957\n",
       "New York       4.148030\n",
       "Name: physical_health, dtype: float64"
      ]
     },
     "execution_count": 13,
     "metadata": {},
     "output_type": "execute_result"
    }
   ],
   "source": [
    "# code to calculate the average number of sick days by state\n",
    "state_grouped = df.groupby('state')['physical_health'].mean()\n",
    "state_grouped"
   ]
  },
  {
   "cell_type": "code",
   "execution_count": 14,
   "metadata": {},
   "outputs": [
    {
     "data": {
      "image/png": "[encoded data removed]",
      "text/plain": [
       "<Figure size 720x432 with 1 Axes>"
      ]
     },
     "metadata": {
      "needs_background": "light"
     },
     "output_type": "display_data"
    }
   ],
   "source": [
    "# code to graph those averages using matplotlib\n",
    "fig, ax = plt.subplots(figsize=(10,6))\n",
    "ax.bar(state_grouped.index ,state_grouped.values, color='turquoise', edgecolor= 'black', align='center')\n",
    "ax.set_title('Compering Health by State', size=15)\n",
    "ax.set_ylabel('AVG Days Sick', size=15)\n",
    "plt.show()"
   ]
  },
  {
   "cell_type": "code",
   "execution_count": 15,
   "metadata": {},
   "outputs": [],
   "source": [
    "ct = df.loc[ df['state'] == 'Connecticut' , ['physical_health']]\n",
    "nj = df.loc[ df['state'] == 'New Jersey' , ['physical_health']]\n",
    "ny = df.loc[ df['state'] == 'New York' , ['physical_health']]"
   ]
  },
  {
   "cell_type": "code",
   "execution_count": 16,
   "metadata": {},
   "outputs": [
    {
     "data": {
      "image/png": "[encoded data removed]",
      "text/plain": [
       "<Figure size 720x432 with 1 Axes>"
      ]
     },
     "metadata": {
      "needs_background": "light"
     },
     "output_type": "display_data"
    }
   ],
   "source": [
    "#graphic showing the histogram of data\n",
    "fig, ax = plt.subplots(figsize=(10,6))\n",
    "\n",
    "ax.hist(ct.values , label=\"Connecticut\", histtype='step')\n",
    "ax.hist(nj.values, label=\"New Jersey\", histtype='step')\n",
    "ax.hist(ny.values, label=\"New Jersey\", histtype='step')\n",
    "\n",
    "ax.set_xlabel('Sick Days')\n",
    "ax.set_ylabel('# of observations')\n",
    "ax.set_title(\"Distribution of People's Sick Days\")\n",
    "ax.legend()\n",
    "plt.show()\n"
   ]
  },
  {
   "cell_type": "markdown",
   "metadata": {},
   "source": [
    "## 4. Turn the number of sick days into a classification of of chronically sick people.  \n",
    "\n",
    "Chronically sick people account for a significant proportion of the costs for health insurers. If we can identify what leads people to be chronically sick, we can address them with specific treatments.\n",
    "\n"
   ]
  },
  {
   "cell_type": "code",
   "execution_count": 17,
   "metadata": {},
   "outputs": [],
   "source": [
    "# code to create new colum for chronically sick\n",
    "df['chron'] = np.where(df['physical_health']>15, 1, 0)"
   ]
  },
  {
   "cell_type": "code",
   "execution_count": 18,
   "metadata": {},
   "outputs": [
    {
     "data": {
      "text/plain": [
       "0    30474\n",
       "1     3273\n",
       "Name: chron, dtype: int64"
      ]
     },
     "execution_count": 18,
     "metadata": {},
     "output_type": "execute_result"
    }
   ],
   "source": [
    "df.chron.value_counts()"
   ]
  },
  {
   "cell_type": "markdown",
   "metadata": {},
   "source": [
    "## 5. Create a graphic that compares the percentage of people labeled as 'sick' in each state. "
   ]
  },
  {
   "cell_type": "code",
   "execution_count": 19,
   "metadata": {},
   "outputs": [
    {
     "data": {
      "text/plain": [
       "state\n",
       "Connecticut     8.623836\n",
       "New Jersey     10.830861\n",
       "New York        9.548670\n",
       "Name: chron, dtype: float64"
      ]
     },
     "execution_count": 19,
     "metadata": {},
     "output_type": "execute_result"
    }
   ],
   "source": [
    "# code to calculate averages per state\n",
    "chron_sick=df.groupby('state')['chron'].value_counts(normalize=True).loc[:,1]*100\n",
    "chron_sick"
   ]
  },
  {
   "cell_type": "code",
   "execution_count": 20,
   "metadata": {},
   "outputs": [
    {
     "data": {
      "image/png": "[encoded data removed]",
      "text/plain": [
       "<Figure size 720x432 with 1 Axes>"
      ]
     },
     "metadata": {
      "needs_background": "light"
     },
     "output_type": "display_data"
    }
   ],
   "source": [
    "# create graphic to compare chronically sick by state\n",
    "fig, ax = plt.subplots(figsize=(10,6))\n",
    "ax.bar(chron_sick.index ,chron_sick.values, color='orange', edgecolor= 'black', align='center')\n",
    "ax.set_title('Chronic Sick People by State', size=15)\n",
    "ax.set_ylabel('% of Chronic Sick People', size=15)\n",
    "plt.show()"
   ]
  },
  {
   "cell_type": "code",
   "execution_count": null,
   "metadata": {},
   "outputs": [],
   "source": []
  },
  {
   "cell_type": "markdown",
   "metadata": {},
   "source": [
    "## 6. Independent Variables (categorical)\n",
    "\n",
    "Does smoking affect the number of days people feel physically ill? \n",
    "Let's take the column `SMOKDAY2` and start to prepare it so that we can see how it is possibly correlated to `PHYSHLTH`. When cleaning this data you will find that many respondents were not asked that question. read the codebook to understand why, and use that information when cleaning up your data. I.E, you will need to process two columns in order to create a new column of smokers.\n",
    "\n",
    "1. Clean up the values.\n",
    "2. Calculate the descriptive statistics of the variable.\n",
    "3. Generate a histogram for the variable.\n",
    "4. Generate graphics that show how the responses to this variable might differ by state.\n",
    "5. Generate a graphic that compares the physical health of the different groups of 'smokers'."
   ]
  },
  {
   "cell_type": "code",
   "execution_count": 21,
   "metadata": {},
   "outputs": [],
   "source": [
    "#df = df[~df.smoking.isna()]  # droping NaN from smoking\n",
    "conditions = [ df['smoking'] == 1.0 ,df['smoking'] == 2.0 ,df['smoking'] == 3.0, df['smoking'] == 7.0, df['smoking'] == 9.0]\n",
    "choises = ['Everyday', 'Some Days', 'Non-Smoker', \"Dont'know\", 'Refused']\n",
    "df['smoking'] = np.select(conditions, choises)"
   ]
  },
  {
   "cell_type": "code",
   "execution_count": 22,
   "metadata": {},
   "outputs": [],
   "source": [
    "pct_smoking = df['smoking'].value_counts(normalize=True)*100"
   ]
  },
  {
   "cell_type": "code",
   "execution_count": 23,
   "metadata": {},
   "outputs": [
    {
     "data": {
      "image/png": "[encoded data removed]",
      "text/plain": [
       "<Figure size 720x432 with 1 Axes>"
      ]
     },
     "metadata": {
      "needs_background": "light"
     },
     "output_type": "display_data"
    }
   ],
   "source": [
    "fig, ax = plt.subplots(figsize=(10,6))\n",
    "ax.bar(pct_smoking.index ,pct_smoking.values, color='pink', edgecolor= 'black', align='center')\n",
    "ax.set_title('Smoking Status', size=15)\n",
    "ax.set_ylabel('Percent of Surveyed', size=15)\n",
    "plt.show()"
   ]
  },
  {
   "cell_type": "code",
   "execution_count": 24,
   "metadata": {},
   "outputs": [
    {
     "data": {
      "image/png": "[encoded data removed]",
      "text/plain": [
       "<Figure size 432x288 with 1 Axes>"
      ]
     },
     "metadata": {
      "needs_background": "light"
     },
     "output_type": "display_data"
    }
   ],
   "source": [
    "smk_groupped = df.groupby(['state'])['smoking'].value_counts(normalize=True)*100\n",
    "\n",
    "unst = smk_groupped.unstack()\n",
    "unst['Unknown'] = unst['Refused']+ unst[\"Dont'know\"]\n",
    "unst.drop(columns=[\"Dont'know\",'Refused'],inplace=True)\n",
    "unst.plot(kind = 'bar', stacked = True )\n",
    "plt.legend(loc='center left', bbox_to_anchor=(1, 0.75))\n",
    "plt.show()"
   ]
  },
  {
   "cell_type": "code",
   "execution_count": 25,
   "metadata": {},
   "outputs": [
    {
     "data": {
      "text/html": [
       "<div>\n",
       "<style scoped>\n",
       "    .dataframe tbody tr th:only-of-type {\n",
       "        vertical-align: middle;\n",
       "    }\n",
       "\n",
       "    .dataframe tbody tr th {\n",
       "        vertical-align: top;\n",
       "    }\n",
       "\n",
       "    .dataframe thead th {\n",
       "        text-align: right;\n",
       "    }\n",
       "</style>\n",
       "<table border=\"1\" class=\"dataframe\">\n",
       "  <thead>\n",
       "    <tr style=\"text-align: right;\">\n",
       "      <th>smoking</th>\n",
       "      <th>0</th>\n",
       "      <th>Dont'know</th>\n",
       "      <th>Everyday</th>\n",
       "      <th>Non-Smoker</th>\n",
       "      <th>Refused</th>\n",
       "      <th>Some Days</th>\n",
       "    </tr>\n",
       "    <tr>\n",
       "      <th>state</th>\n",
       "      <th></th>\n",
       "      <th></th>\n",
       "      <th></th>\n",
       "      <th></th>\n",
       "      <th></th>\n",
       "      <th></th>\n",
       "    </tr>\n",
       "  </thead>\n",
       "  <tbody>\n",
       "    <tr>\n",
       "      <th>Connecticut</th>\n",
       "      <td>59.435321</td>\n",
       "      <td>0.019207</td>\n",
       "      <td>6.779987</td>\n",
       "      <td>30.404302</td>\n",
       "      <td>0.057620</td>\n",
       "      <td>3.303563</td>\n",
       "    </tr>\n",
       "    <tr>\n",
       "      <th>New Jersey</th>\n",
       "      <td>59.565369</td>\n",
       "      <td>0.008728</td>\n",
       "      <td>7.863501</td>\n",
       "      <td>28.355734</td>\n",
       "      <td>0.017455</td>\n",
       "      <td>4.189213</td>\n",
       "    </tr>\n",
       "    <tr>\n",
       "      <th>New York</th>\n",
       "      <td>61.173796</td>\n",
       "      <td>0.025261</td>\n",
       "      <td>8.454025</td>\n",
       "      <td>25.926238</td>\n",
       "      <td>0.109464</td>\n",
       "      <td>4.311216</td>\n",
       "    </tr>\n",
       "  </tbody>\n",
       "</table>\n",
       "</div>"
      ],
      "text/plain": [
       "smoking              0  Dont'know  Everyday  Non-Smoker   Refused  Some Days\n",
       "state                                                                       \n",
       "Connecticut  59.435321   0.019207  6.779987   30.404302  0.057620   3.303563\n",
       "New Jersey   59.565369   0.008728  7.863501   28.355734  0.017455   4.189213\n",
       "New York     61.173796   0.025261  8.454025   25.926238  0.109464   4.311216"
      ]
     },
     "execution_count": 25,
     "metadata": {},
     "output_type": "execute_result"
    }
   ],
   "source": [
    "smk_groupped.unstack()"
   ]
  },
  {
   "cell_type": "code",
   "execution_count": 26,
   "metadata": {},
   "outputs": [
    {
     "data": {
      "image/png": "[encoded data removed]",
      "text/plain": [
       "<Figure size 432x288 with 1 Axes>"
      ]
     },
     "metadata": {
      "needs_background": "light"
     },
     "output_type": "display_data"
    }
   ],
   "source": [
    "df.groupby('smoking')['physical_health'].mean().plot(kind='bar')\n",
    "plt.show()"
   ]
  },
  {
   "cell_type": "code",
   "execution_count": 27,
   "metadata": {},
   "outputs": [],
   "source": [
    "df1 = df.copy()"
   ]
  },
  {
   "cell_type": "markdown",
   "metadata": {},
   "source": [
    "## 7. Independent Variables (continuous):\n",
    "\n",
    "Does the amount of days a person drinks affect the number of days they feel physically ill?\n",
    "To investigate this, let's look at a continuous variable (ALCDAY5) and see how that might impact a person's health. \n",
    "\n",
    "1. Clean up the values.\n",
    "2. Calculate the descriptive statistics of the variable.\n",
    "3. Generate a histogram for the variable.\n",
    "4. Generate graphics that show how the responses to this variable might differ by state.\n",
    "5. Calculate the correlation coefficient between `PHYSHLTH` and `ALCDAY5`.\n",
    "5. Generate a graphic that shows the possible relationship between `PHYSHLTH` and `ALCDAY5`."
   ]
  },
  {
   "cell_type": "code",
   "execution_count": 28,
   "metadata": {},
   "outputs": [],
   "source": [
    "conditions = [\n",
    "            ((df1['ALCDAY5']>=101.0) & (df1['ALCDAY5']<=107.0)),\n",
    "            ((df1['ALCDAY5']>=201.0) & (df1['ALCDAY5']<=230.0)),\n",
    "            df1['ALCDAY5']==888]\n",
    "\n",
    "choices = [\n",
    "    (df1['ALCDAY5']-100)*4,\n",
    "    df1['ALCDAY5']-200,\n",
    "    0]\n",
    "\n",
    "df1['alcohol'] = np.select(conditions, choices, default = np.nan)\n"
   ]
  },
  {
   "cell_type": "code",
   "execution_count": 29,
   "metadata": {},
   "outputs": [],
   "source": [
    "df1.dropna(subset=['alcohol'], inplace=True)"
   ]
  },
  {
   "cell_type": "code",
   "execution_count": 30,
   "metadata": {},
   "outputs": [
    {
     "data": {
      "image/png": "[encoded data removed]",
      "text/plain": [
       "<Figure size 432x288 with 1 Axes>"
      ]
     },
     "metadata": {
      "needs_background": "light"
     },
     "output_type": "display_data"
    }
   ],
   "source": [
    "# graphic showing the histogram of data\n",
    "df1['alcohol'].plot(kind='hist')\n",
    "plt.show()"
   ]
  },
  {
   "cell_type": "code",
   "execution_count": 31,
   "metadata": {},
   "outputs": [
    {
     "data": {
      "image/png": "[encoded data removed]",
      "text/plain": [
       "<Figure size 432x288 with 1 Axes>"
      ]
     },
     "metadata": {
      "needs_background": "light"
     },
     "output_type": "display_data"
    }
   ],
   "source": [
    "# graphic showing the histogram of data\n",
    "fig, ax = plt.subplots()\n",
    "# Plot a histogram of \"Weight\" for mens_rowing\n",
    "ax.hist(df1['alcohol'], bins=30)\n",
    "\n",
    "ax.set_xlabel('Days Drinking')\n",
    "ax.set_ylabel('# of observations')\n",
    "ax.set_title(\"Distribution of Days Drinking\")\n",
    "\n",
    "plt.show()"
   ]
  },
  {
   "cell_type": "code",
   "execution_count": 32,
   "metadata": {},
   "outputs": [
    {
     "data": {
      "text/plain": [
       "state\n",
       "Connecticut    6.036227\n",
       "New Jersey     4.913481\n",
       "New York       5.139898\n",
       "Name: alcohol, dtype: float64"
      ]
     },
     "execution_count": 32,
     "metadata": {},
     "output_type": "execute_result"
    }
   ],
   "source": [
    "# code to calculate averages per state\n",
    "alc_state =df1.groupby('state')['alcohol'].mean()\n",
    "alc_state"
   ]
  },
  {
   "cell_type": "code",
   "execution_count": 33,
   "metadata": {},
   "outputs": [
    {
     "data": {
      "image/png": "[encoded data removed]",
      "text/plain": [
       "<Figure size 720x432 with 1 Axes>"
      ]
     },
     "metadata": {
      "needs_background": "light"
     },
     "output_type": "display_data"
    }
   ],
   "source": [
    "fig, ax = plt.subplots(figsize=(10,6))\n",
    "\n",
    "# Add data: \"height\", \"weight\" as x-y, index as color\n",
    "ax.scatter(df1['alcohol'], df1['physical_health'],c ='b')\n",
    "\n",
    "ax.set_xlabel(\"Drinking Days\")\n",
    "ax.set_ylabel(\"Sick Days\")\n",
    "ax.set_title('Relationship between Drinking and Health')\n",
    "\n",
    "\n",
    "plt.show()"
   ]
  },
  {
   "cell_type": "code",
   "execution_count": 34,
   "metadata": {},
   "outputs": [
    {
     "data": {
      "text/plain": [
       "physical_health    1.000000\n",
       "alcohol           -0.090443\n",
       "Name: physical_health, dtype: float64"
      ]
     },
     "execution_count": 34,
     "metadata": {},
     "output_type": "execute_result"
    }
   ],
   "source": [
    "df1[['physical_health', 'alcohol']].corr()['physical_health']"
   ]
  },
  {
   "cell_type": "code",
   "execution_count": 35,
   "metadata": {},
   "outputs": [],
   "source": [
    "df1 = df.copy()"
   ]
  },
  {
   "cell_type": "code",
   "execution_count": 36,
   "metadata": {},
   "outputs": [],
   "source": [
    "df1['SEX'] = df1['SEX'].map({1.0 : 'Male', 2.0 : 'Female', 4.0 : None })\n",
    "df1.dropna(subset= ['SEX'], inplace= True)"
   ]
  },
  {
   "cell_type": "code",
   "execution_count": null,
   "metadata": {},
   "outputs": [],
   "source": []
  },
  {
   "cell_type": "markdown",
   "metadata": {},
   "source": [
    "## 8. Statistical Inference"
   ]
  },
  {
   "cell_type": "markdown",
   "metadata": {},
   "source": [
    "# - Create a 95% confidence interval for the population mean of physically ill days."
   ]
  },
  {
   "cell_type": "code",
   "execution_count": 37,
   "metadata": {},
   "outputs": [],
   "source": [
    "import scipy.stats as scs\n",
    "import math"
   ]
  },
  {
   "cell_type": "code",
   "execution_count": 38,
   "metadata": {},
   "outputs": [],
   "source": [
    "def confidence_interval(sample, threshold):\n",
    "    \"\"\"\n",
    "    params : sample - lsit of valuses with continuos values\n",
    "             trashold - integer as pct\n",
    "    \"\"\"\n",
    "    n = len(sample) # number of observations in the sample\n",
    "    m = sum(sample)/n # mean, avg\n",
    "    sigma = sample.std() # diviation \n",
    "    z_score = scs.norm.ppf(1-(1-threshold/100)/2)\n",
    "\n",
    "    moe = z_score*(sigma/math.sqrt(n)) # calculate margin of error\n",
    "    conf_interval = (m-moe, m+moe)\n",
    "    \n",
    "    return \"\"\"\n",
    "    \n",
    "    We are {}% confident that true population mean falls between {} and {} days\n",
    "    \"\"\".format(threshold, round(conf_interval[0],2), round(conf_interval[1],2))"
   ]
  },
  {
   "cell_type": "code",
   "execution_count": 39,
   "metadata": {},
   "outputs": [
    {
     "name": "stdout",
     "output_type": "stream",
     "text": [
      "\n",
      "    \n",
      "    We are 95% confident that true population mean falls between 3.99 and 4.18 days\n",
      "    \n"
     ]
    }
   ],
   "source": [
    "print(confidence_interval(df1['physical_health'], 95))"
   ]
  },
  {
   "cell_type": "markdown",
   "metadata": {},
   "source": [
    "# -  Create a 95% confidence interval for the true proportion of chronically sick people."
   ]
  },
  {
   "cell_type": "code",
   "execution_count": 40,
   "metadata": {},
   "outputs": [
    {
     "data": {
      "text/plain": [
       "array([0, 1])"
      ]
     },
     "execution_count": 40,
     "metadata": {},
     "output_type": "execute_result"
    }
   ],
   "source": [
    "df1['chron'].unique()  # 1 is chronically sick people, 0 - not"
   ]
  },
  {
   "cell_type": "code",
   "execution_count": 41,
   "metadata": {},
   "outputs": [],
   "source": [
    "def conf_interv_true_pop(sample, true_pop, threshold):\n",
    "    \"\"\"\n",
    "    params : sample - lsit of valuses - categorical dats with 2 types of val (True/False)\n",
    "             true_pop - portion from sample with true population (numeric)\n",
    "             trashold - integer as pct\n",
    "    \"\"\"\n",
    "    \n",
    "    n = len(sample)\n",
    "    p_h = len(true_pop)/n  # define proportion of true pop.\n",
    "    # checkimg conditions using the sampling distribution of the sample proportion: \n",
    "    # With successes being at least 10, the condition to use the z-method \n",
    "    # to calculate the interval is acceptable.\n",
    "    \n",
    "    if n*p_h > 10 and n*(1-p_h)>10:\n",
    "        \n",
    "        z_score = scs.norm.ppf(1-(1-threshold/100)/2)\n",
    "        sigma = (p_h*(1-p_h)/n)**(0.5)\n",
    "        moe = z_score*sigma\n",
    "        conf_interval = (p_h-moe, p_h+moe)\n",
    "\n",
    "        return \"\"\"\n",
    "        \n",
    "        We are {}% confident that proportion of chronicly sick people for the overal population falls btw {}% and {}%\n",
    "        \"\"\".format(threshold,round(conf_interval[0]*100,2),round(conf_interval[1]*100,2))"
   ]
  },
  {
   "cell_type": "code",
   "execution_count": 42,
   "metadata": {},
   "outputs": [
    {
     "name": "stdout",
     "output_type": "stream",
     "text": [
      "\n",
      "        \n",
      "        We are 95% confident that proportion of chronicly sick people for the overal population falls btw 9.38% and 10.01%\n",
      "        \n"
     ]
    }
   ],
   "source": [
    "true_pop = df1.chron[df['chron']==1]  # data with only chron sick people\n",
    "print(conf_interv_true_pop(df1['chron'], true_pop, 95))"
   ]
  },
  {
   "cell_type": "markdown",
   "metadata": {},
   "source": [
    "** For the follwing questions that require hypothesis tests, you must complete the following:**\n",
    "\n",
    "*1. Write down the null and alternative hypothesis you are testing.* \n",
    "\n",
    "*2. Select the appropriate test and calculate the test statistic and P-values.*\n",
    "\n",
    "*3. Determine the critical value for the 95% confidence interval.*\n",
    "\n",
    "*4. Evaluate the test statistic agains the critical value.*\n",
    "\n",
    "*5. Determine if you reject or fail to reject the null hypothesis and write a sentence explaining the results of your hypothesis test.*  \n"
   ]
  },
  {
   "cell_type": "markdown",
   "metadata": {},
   "source": [
    "## 9. Hypothesis Tests"
   ]
  },
  {
   "cell_type": "markdown",
   "metadata": {},
   "source": [
    "## a) The following questions are regarding the PHYSHLTH variable."
   ]
  },
  {
   "cell_type": "markdown",
   "metadata": {},
   "source": [
    "# What is the probability of getting this sample mean for days physically ill, if the population mean is 4?"
   ]
  },
  {
   "cell_type": "markdown",
   "metadata": {},
   "source": [
    " \n",
    " When p < alpha : Reject the Null Hypothesis and accept the Alternative Hypothesis\n",
    "\n",
    " When p > alpha : Fail to reject the Null Hypothesis."
   ]
  },
  {
   "cell_type": "code",
   "execution_count": 43,
   "metadata": {},
   "outputs": [],
   "source": [
    "# 1) Write down the null and alternative hypothesis you are testing.\n",
    "\n",
    "# H0: (True  Hyphotes): The population mean is 4\n",
    "# Ha: population mean is not = 4"
   ]
  },
  {
   "cell_type": "code",
   "execution_count": 44,
   "metadata": {},
   "outputs": [],
   "source": [
    "#2) Select the appropriate test and calculate the test statistic and P-values.\n",
    "# we dont have STD of the population - will go to T-test\n",
    "# Two tail test : Ha: mu != 4"
   ]
  },
  {
   "cell_type": "code",
   "execution_count": 45,
   "metadata": {},
   "outputs": [],
   "source": [
    "# 3) Determine the critical value for the 95% confidence interval.\n",
    "# alpha = 0.025"
   ]
  },
  {
   "cell_type": "code",
   "execution_count": 46,
   "metadata": {},
   "outputs": [],
   "source": [
    "# 4) Evaluate the test statistic agains the critical value."
   ]
  },
  {
   "cell_type": "code",
   "execution_count": 47,
   "metadata": {},
   "outputs": [],
   "source": [
    "def two_sides_test(sample, null_m, threshold):\n",
    "    \n",
    "    \"\"\"\n",
    "    params : sample - lsit of numric valuses \n",
    "             null_m - population mean for H0\n",
    "             trashold - integer as pct\n",
    "    \"\"\"\n",
    "    \n",
    "    n = len(sample)     # sample size\n",
    "    s = sample.std()    # STD of Sample\n",
    "    x_ = sample.mean()  # Sample Mean\n",
    "    mu = null_m         # proposed population mean\n",
    "    alpha = (1-(threshold)/100)/2\n",
    "    df = n-1\n",
    "    \n",
    "    t_crit = scs.t.ppf(1 - alpha, df=df)   # critical value \n",
    "    t = (x_ - mu)/(s/(n)**0.5)# find the test statistic\n",
    "    \n",
    "    p = 1-scs.t.cdf(t, df=df) \n",
    "    print(p)\n",
    "    \n",
    "     \n",
    "    \n",
    "    if t > t_crit or t < -t_crit :     #Evaluate the test statistic agains the critical value\n",
    "        \n",
    "        return \"\"\"\n",
    "        \n",
    "        We reject the null Hypotesys because the test statistic fall in the rejection area.\n",
    "        Based one statistical test our t value = {}, which gets in rejection area defined by critical values {} and -{}.\n",
    "        The probability of getting this sample mean is {}%\n",
    "        \"\"\".format(round(t,2),round(t_crit,2),round(t_crit,2), p*100)\n",
    "    \n",
    "    else:\n",
    "        return \"\"\"\n",
    "        \n",
    "        There is not enough evidence to reject the null Hypotesys.\n",
    "        Based one statistical test our t value = {},which does not get \n",
    "        in rejection area defined by critical values {} and -{}.\n",
    "        The probability of getting this sample is {}%.\n",
    "                    \"\"\".format(round(t,2),round(t_crit,2),round(t_crit,2),round(p*100,2))    "
   ]
  },
  {
   "cell_type": "code",
   "execution_count": 48,
   "metadata": {},
   "outputs": [
    {
     "name": "stdout",
     "output_type": "stream",
     "text": [
      "0.03390866769801115\n",
      "\n",
      "        \n",
      "        There is not enough evidence to reject the null Hypotesys.\n",
      "        Based one statistical test our t value = 1.83,which does not get \n",
      "        in rejection area defined by critical values 1.96 and -1.96.\n",
      "        The probability of getting this sample is 3.39%.\n",
      "                    \n"
     ]
    }
   ],
   "source": [
    "print(two_sides_test(df1['physical_health'], 4, 95))"
   ]
  },
  {
   "cell_type": "markdown",
   "metadata": {},
   "source": [
    "## Is there a statistically significant difference between men and women in the number of days a person feels phsyically ill?"
   ]
  },
  {
   "cell_type": "code",
   "execution_count": 49,
   "metadata": {},
   "outputs": [],
   "source": [
    "# 1) Write down the null and alternative hypothesis you are testing.\n",
    "\n",
    "# H0: There is a significant difference between men and women in the number of days a person feels phsyically ill? m1-m2 !=0\n",
    "# Ha: There is no no differance between men and women in the number of days a person feels phsyically ill. m1 = m2 "
   ]
  },
  {
   "cell_type": "code",
   "execution_count": 50,
   "metadata": {},
   "outputs": [],
   "source": [
    "#2) Select the appropriate test and calculate the test statistic and P-values.\n",
    "# We dont have STD of the population - will go to T-test\n",
    "# T test  - Difference of 2 means (m1-m2)"
   ]
  },
  {
   "cell_type": "code",
   "execution_count": 51,
   "metadata": {},
   "outputs": [],
   "source": [
    "# 3) Determine the critical value "
   ]
  },
  {
   "cell_type": "code",
   "execution_count": 52,
   "metadata": {},
   "outputs": [],
   "source": [
    "# 4) Evaluate the test statistic agains the critical value."
   ]
  },
  {
   "cell_type": "code",
   "execution_count": 97,
   "metadata": {},
   "outputs": [],
   "source": [
    "def diff_two_means(sample, threshold):\n",
    "    \n",
    "    x_f, x_m = df1.groupby('SEX')['physical_health'].mean().values\n",
    "    s_f, s_m = df1.groupby('SEX')['physical_health'].std()\n",
    "    n_f, n_m = df1.groupby('SEX')['physical_health'].count()\n",
    "    \n",
    "    alpha = (1-(threshold)/100)/2\n",
    "    df = len(sample)-1\n",
    "    t_crit = scs.t.ppf(1 - alpha, df=df)   # critical value \n",
    "    numer = (x_f - x_m) - 0\n",
    "    denum = math.sqrt((s_f**2/n_f)+(s_m**2/n_m))\n",
    "    delta_mu = numer/denum\n",
    "    \n",
    "    p = 1-scs.t.cdf(delta_mu, df=df) \n",
    "    print(p)\n",
    "    if delta_mu > t_crit or delta_mu < - t_crit :\n",
    "        \n",
    "        return \"\"\"\n",
    "        We reject the null Hypotesys because based one statistical test two groups sample means difference \n",
    "        is = {}, which gets in rejection area defined by critical values {} and -{}.\n",
    "        \"\"\".format(round(delta_mu,2),round(t_crit,2),round(t_crit,2))\n",
    "    \n",
    "    else:\n",
    "        return \"\"\"\n",
    "        There is not enough evidence to reject the null Hypotesys because based one statistical test\n",
    "        two groups sample means difference is = {}, which does not get in rejection area defined by critical values {} and -{}.\n",
    "        \"\"\".format(round(delta_mu,2),round(t_crit,2),round(t_crit,2))"
   ]
  },
  {
   "cell_type": "code",
   "execution_count": 98,
   "metadata": {},
   "outputs": [
    {
     "name": "stdout",
     "output_type": "stream",
     "text": [
      "3.82761807236065e-05\n",
      "\n",
      "        We reject the null Hypotesys because based one statistical test two groups sample means difference \n",
      "        is = 3.96, which gets in rejection area defined by critical values 1.96 and -1.96.\n",
      "        \n"
     ]
    }
   ],
   "source": [
    "print(diff_two_means(df1,95))"
   ]
  },
  {
   "cell_type": "markdown",
   "metadata": {},
   "source": [
    "## Perform a statistical test to determine if there statistically significant difference is physical health of people from the three states.\n"
   ]
  },
  {
   "cell_type": "code",
   "execution_count": 55,
   "metadata": {},
   "outputs": [],
   "source": [
    "# 1) Write down the null and alternative hypothesis you are testing.\n",
    "\n",
    "# H0: There is statistically significant difference in physical health of people from the three states\n",
    "# Ha: There is no no differance between difference is physical health of people from the three states"
   ]
  },
  {
   "cell_type": "code",
   "execution_count": 56,
   "metadata": {},
   "outputs": [],
   "source": [
    "#2) Select the appropriate test and calculate the test statistic and P-values.\n",
    "# As we have more then 2 groups (3 states) and we trying to compare physicsl health - will have to use ANOVA\n",
    "#          𝐻0  :  𝜇1  =  𝜇2  =  𝜇3\n",
    "#          𝐻𝑎  :  𝐻0  is not true\n",
    "# ANOVA - Analysis of Variance  (Perfoming F-test)\n",
    "# ANOVA will tell us if at least 1 of the groups not like another one"
   ]
  },
  {
   "cell_type": "code",
   "execution_count": 57,
   "metadata": {},
   "outputs": [
    {
     "data": {
      "text/plain": [
       "state\n",
       "Connecticut    3.684555\n",
       "New Jersey     4.380957\n",
       "New York       4.149078\n",
       "Name: physical_health, dtype: float64"
      ]
     },
     "execution_count": 57,
     "metadata": {},
     "output_type": "execute_result"
    }
   ],
   "source": [
    "df1.groupby('state')['physical_health'].mean()"
   ]
  },
  {
   "cell_type": "code",
   "execution_count": 58,
   "metadata": {},
   "outputs": [
    {
     "name": "stderr",
     "output_type": "stream",
     "text": [
      "/Users/ivan/opt/anaconda3/lib/python3.7/site-packages/numpy/core/_asarray.py:83: VisibleDeprecationWarning: Creating an ndarray from ragged nested sequences (which is a list-or-tuple of lists-or-tuples-or ndarrays with different lengths or shapes) is deprecated. If you meant to do this, you must specify 'dtype=object' when creating the ndarray\n",
      "  return array(a, dtype, copy=False, order=order)\n"
     ]
    },
    {
     "data": {
      "image/png": "[encoded data removed]",
      "text/plain": [
       "<Figure size 720x432 with 1 Axes>"
      ]
     },
     "metadata": {
      "needs_background": "light"
     },
     "output_type": "display_data"
    }
   ],
   "source": [
    "#Create a boxplot\n",
    "df1.boxplot('physical_health', by='state', figsize=(10,6))\n",
    "plt.show()"
   ]
  },
  {
   "cell_type": "code",
   "execution_count": 59,
   "metadata": {},
   "outputs": [],
   "source": [
    "from statsmodels.formula.api import ols   # like a linear reg function and calculates f stat as well\n",
    "import statsmodels.api as sm"
   ]
  },
  {
   "cell_type": "code",
   "execution_count": 60,
   "metadata": {},
   "outputs": [],
   "source": [
    "def anova_test(df, variable, threshold):\n",
    "    \"\"\"\n",
    "    params : df - dataframe \n",
    "             variable - String / collumn name in data\n",
    "             trashold - integer as pct. confidance. level\n",
    "    \"\"\"\n",
    "    alpha = round(1-threshold/100,2)\n",
    "    # t_crit = scs.t.ppf(alpha, df=len(df)-1)\n",
    "    # fit the model / can yopu predict a phys_halth based on state\n",
    "    anova_states = ols('{}~state'.format(variable), data=df1).fit()\n",
    "    anova_table = sm.stats.anova_lm(anova_states, type=2)\n",
    "    # print(anova_table)\n",
    "    f_score = round(anova_table['F']['state'],2)\n",
    "    # lets check what is the probability to get f_score or biger\n",
    "    pr = anova_table['PR(>F)']['state'] \n",
    "    \n",
    "    if pr < alpha:\n",
    "        \n",
    "        return \"\"\"\n",
    "        We reject the null Hypotesys because the test statistic falls in the rejection area.\n",
    "        Based one statistical test our value pr = {}, which smaller then trashold = {}.\n",
    "        \"\"\".format(pr,alpha)\n",
    "    \n",
    "    else:\n",
    "        \n",
    "        return \"\"\"\n",
    "        There is not enough evidence to reject the null Hypotesys because the test statistic does not fall in the rejection area.\n",
    "        Based one statistical test our value pr = {}, which way smaller then trashold = {}.\n",
    "        Another way we couldn't conclude that there is relationship between state and phys_health of patients. \n",
    "                    \"\"\".format(pr,alpha)\n",
    "    "
   ]
  },
  {
   "cell_type": "code",
   "execution_count": 61,
   "metadata": {},
   "outputs": [
    {
     "name": "stdout",
     "output_type": "stream",
     "text": [
      "\n",
      "        We reject the null Hypotesys because the test statistic falls in the rejection area.\n",
      "        Based one statistical test our value pr = 6.998830805800168e-09, which smaller then trashold = 0.05.\n",
      "        \n"
     ]
    }
   ],
   "source": [
    "print(anova_test(df1[['state','physical_health']], 'physical_health', 95))"
   ]
  },
  {
   "cell_type": "markdown",
   "metadata": {},
   "source": [
    "## The following questions are regarding the CHRONIC variable."
   ]
  },
  {
   "cell_type": "markdown",
   "metadata": {},
   "source": [
    "# What is the probability of drawing this sample proportion if chronically true population proportion is 0.10?"
   ]
  },
  {
   "cell_type": "code",
   "execution_count": 62,
   "metadata": {},
   "outputs": [],
   "source": [
    "# 1) Write down the null and alternative hypothesis you are testing.\n",
    "\n",
    "# H0 (True  Hyphotes) Chronically true population proportion is 0.10?\n",
    "# Ha Chronically true population proportion is not 0.10"
   ]
  },
  {
   "cell_type": "code",
   "execution_count": 63,
   "metadata": {},
   "outputs": [],
   "source": [
    "# 2) Select the appropriate test and calculate the test statistic and P-values.\n",
    "# Test for Population proportion! Two-tailed, non-directional"
   ]
  },
  {
   "cell_type": "code",
   "execution_count": 64,
   "metadata": {},
   "outputs": [],
   "source": [
    "# 3) Determine critical value for 95% interval conf!"
   ]
  },
  {
   "cell_type": "code",
   "execution_count": 65,
   "metadata": {},
   "outputs": [],
   "source": [
    "# 4) Evaluate the test statistic agains the critical value."
   ]
  },
  {
   "cell_type": "code",
   "execution_count": 66,
   "metadata": {},
   "outputs": [],
   "source": [
    "true_pop = df1.chron[df1['chron']==1]  # data with only chron sick people"
   ]
  },
  {
   "cell_type": "code",
   "execution_count": 67,
   "metadata": {},
   "outputs": [],
   "source": [
    "def population_proportion_test(sample, true_pop, p_0, threshold):\n",
    "    \"\"\"\n",
    "    params : sample - lsit of valuses - categorical dats with 2 types of val (True/False)\n",
    "             true_pop - portion from sample with true population (numerical val)\n",
    "             p_0 - true population proportion (0.10 for 10%)\n",
    "             trashold - integer as pct\n",
    "    \"\"\"\n",
    "    n = len(sample)\n",
    "    p_h = len(true_pop)/n  # define proportion of true pop.\n",
    "    # checkimg conditions using the sampling distribution of the sample proportion: \n",
    "    # With successes being at least 10, the condition to use the z-method \n",
    "    # to calculate the interval is acceptable.\n",
    "    \n",
    "    if n*p_h > 10 and n*(1-p_h)>10:\n",
    "        \n",
    "        numer = p_h - p_0                    # calculate test - statistic value\n",
    "        denum = math.sqrt(p_0*(1-p_0)/n)\n",
    "        z_score = numer/denum\n",
    "        \n",
    "        z_critical = scs.norm.ppf(1-(1-threshold/100)/2)  #  Determine critical value for 95% interval conf!\n",
    "        \n",
    "        p = scs.norm.cdf(z_score)\n",
    "    \n",
    "        if z_score > z_critical or z_score < - z_critical:    # Evaluate the test statistic agains the critical value.\n",
    "            \n",
    "            return \"\"\"\n",
    "            We reject the null Hypotesys because the test statistic falls in the rejection area.\n",
    "            Based one statistical test our z_value = {}, which gets in rejection area defined by critical values {} and -{}.\n",
    "            The probability of getting this sample mean is {}%\n",
    "            \"\"\".format(round(z_score,2),round(z_critical,2),round(z_critical,2), p*100)\n",
    "        else:\n",
    "            \n",
    "            return \"\"\"\n",
    "            There is not enough evidence to reject the null Hypotesys\n",
    "            Based one statistical test our z_value = {}, which does not get in rejection area defined by critical values {} and -{}.\n",
    "            The probability of getting this sample mean is {}%\n",
    "            \"\"\".format(round(z_score,2),round(z_critical,2),round(z_critical,2), round(p*100,2))\n",
    "        \n"
   ]
  },
  {
   "cell_type": "code",
   "execution_count": 68,
   "metadata": {},
   "outputs": [
    {
     "name": "stdout",
     "output_type": "stream",
     "text": [
      "\n",
      "            There is not enough evidence to reject the null Hypotesys\n",
      "            Based one statistical test our z_value = -1.87, which does not get in rejection area defined by critical values 1.96 and -1.96.\n",
      "            The probability of getting this sample mean is 3.09%\n",
      "            \n"
     ]
    }
   ],
   "source": [
    "print(population_proportion_test(df1['chron'], true_pop, p_0 =0.10, threshold=95))"
   ]
  },
  {
   "cell_type": "markdown",
   "metadata": {},
   "source": [
    "# Is there a statistically significant difference in the percentage of men and women who are chronically sick?"
   ]
  },
  {
   "cell_type": "code",
   "execution_count": 69,
   "metadata": {},
   "outputs": [],
   "source": [
    "# 1) Write down the null and alternative hypothesis you are testing.\n",
    "\n",
    "# H0 (True  Hyphotes) There is significant difference in the percentage of men and women who are chronically sick\n",
    "# Ha : There is no significant difference in the percentage of men and women who are chronically sick"
   ]
  },
  {
   "cell_type": "code",
   "execution_count": 70,
   "metadata": {},
   "outputs": [],
   "source": [
    "# 2) Select the appropriate test and calculate the test statistic and P-values.\n",
    "# Test for Difference of two Population proportion!"
   ]
  },
  {
   "cell_type": "code",
   "execution_count": 71,
   "metadata": {},
   "outputs": [],
   "source": [
    "# 3) Determine critical value for 95% interval conf!"
   ]
  },
  {
   "cell_type": "code",
   "execution_count": 72,
   "metadata": {},
   "outputs": [],
   "source": [
    "# 4) Evaluate the test statistic agains the critical value."
   ]
  },
  {
   "cell_type": "code",
   "execution_count": 73,
   "metadata": {},
   "outputs": [],
   "source": [
    "chron_male = df1[df1['SEX']=='Male']\n",
    "chron_female = df1[df1['SEX']=='Female']"
   ]
  },
  {
   "cell_type": "code",
   "execution_count": 74,
   "metadata": {},
   "outputs": [],
   "source": [
    "def two_population_proportion_test(sample1, sample2, variable, threshold):\n",
    "    \"\"\"\n",
    "    params : sample1 - male pop\n",
    "             sample2 - female ppop\n",
    "             variable - string / df column name /\n",
    "             trashold - integer - pct amount\n",
    "    \"\"\"\n",
    "    n_m = len(sample1)\n",
    "    n_f = len(sample2)\n",
    "    n_male_cr = sample1.groupby(variable)[variable].count().values[1]\n",
    "    n_female_cr = sample2.groupby(variable)[variable].count().values[1]\n",
    "    \n",
    "    alpha = (1-(threshold)/100)/2\n",
    "    df = (n_m + n_f) -1\n",
    "    t_crit = scs.t.ppf(1 - alpha, df=df)   # critical value \n",
    "    \n",
    "    p_m = n_male_cr/n_m\n",
    "    p_f = n_female_cr/n_f\n",
    "    \n",
    "    p = (n_male_cr+n_female_cr)/(n_m+n_f)\n",
    "    \n",
    "    numer = p_m - p_f\n",
    "    denum = (p*(1-p)*(1/n_m + 1/n_f))**0.5\n",
    "    \n",
    "    delta_p = numer/denum\n",
    "    \n",
    "    perce = (1-scs.norm.cdf(delta_p))\n",
    "    \n",
    "    if delta_p > t_crit or delta_p < - t_crit :\n",
    "\n",
    "        return \"\"\"\n",
    "        We reject the null Hypotesys. Based one statistical test difference of 2 proportions\n",
    "        our value = {}, which gets in rejection area defined by critical values {} and -{}.\n",
    "        \"\"\".format(round(delta_p,2),round(t_crit,2),round(t_crit,2))\n",
    "    else:\n",
    "        \n",
    "        return \"\"\"\n",
    "        There is not enough evidances to reject the null Hypotesys.\n",
    "        Based one statistical test difference of 2 proportions\n",
    "        our value = {}, which does not get in rejection area defined by critical values {} and -{}.\n",
    "        \"\"\".format(round(delta_p,2),round(t_crit,2),round(t_crit,2))\n",
    "    "
   ]
  },
  {
   "cell_type": "code",
   "execution_count": 75,
   "metadata": {},
   "outputs": [
    {
     "name": "stdout",
     "output_type": "stream",
     "text": [
      "\n",
      "        We reject the null Hypotesys. Based one statistical test difference of 2 proportions\n",
      "        our value = -4.73, which gets in rejection area defined by critical values 1.96 and -1.96.\n",
      "        \n"
     ]
    }
   ],
   "source": [
    "print(two_population_proportion_test(chron_male, chron_female, 'chron', 95))"
   ]
  },
  {
   "cell_type": "markdown",
   "metadata": {},
   "source": [
    "# Perform a statistical test to determine if there is a statistically significant difference in proportion of people with chronic health issues from the three states."
   ]
  },
  {
   "cell_type": "code",
   "execution_count": 76,
   "metadata": {},
   "outputs": [],
   "source": [
    "# 1) Write down the null and alternative hypothesis you are testing.\n",
    "\n",
    "# H0 (True  Hyphotes) There is significant difference in physical health of people from the three states\n",
    "# Ha : There is no significant difference in physical health of people from the three states\n",
    "\n",
    "# 2) Select the appropriate test and calculate the test statistic and P-values.\n",
    "# Chi Test as we have different groups with categorical data\n",
    "\n",
    "# 3) Determine critical value for 95% interval conf!\n",
    "\n",
    "# 4) Evaluate the test statistic agains the critical value."
   ]
  },
  {
   "cell_type": "code",
   "execution_count": 77,
   "metadata": {},
   "outputs": [],
   "source": [
    "from scipy.stats import chi2_contingency\n",
    "from scipy.stats import chi2 "
   ]
  },
  {
   "cell_type": "code",
   "execution_count": 78,
   "metadata": {},
   "outputs": [],
   "source": [
    "chron_by_state = df1.groupby('chron')['state'].value_counts().unstack()"
   ]
  },
  {
   "cell_type": "code",
   "execution_count": 79,
   "metadata": {},
   "outputs": [
    {
     "data": {
      "text/html": [
       "<div>\n",
       "<style scoped>\n",
       "    .dataframe tbody tr th:only-of-type {\n",
       "        vertical-align: middle;\n",
       "    }\n",
       "\n",
       "    .dataframe tbody tr th {\n",
       "        vertical-align: top;\n",
       "    }\n",
       "\n",
       "    .dataframe thead th {\n",
       "        text-align: right;\n",
       "    }\n",
       "</style>\n",
       "<table border=\"1\" class=\"dataframe\">\n",
       "  <thead>\n",
       "    <tr style=\"text-align: right;\">\n",
       "      <th>state</th>\n",
       "      <th>Connecticut</th>\n",
       "      <th>New Jersey</th>\n",
       "      <th>New York</th>\n",
       "    </tr>\n",
       "    <tr>\n",
       "      <th>chron</th>\n",
       "      <th></th>\n",
       "      <th></th>\n",
       "      <th></th>\n",
       "    </tr>\n",
       "  </thead>\n",
       "  <tbody>\n",
       "    <tr>\n",
       "      <th>0</th>\n",
       "      <td>9503</td>\n",
       "      <td>10217</td>\n",
       "      <td>10739</td>\n",
       "    </tr>\n",
       "    <tr>\n",
       "      <th>1</th>\n",
       "      <td>895</td>\n",
       "      <td>1241</td>\n",
       "      <td>1134</td>\n",
       "    </tr>\n",
       "  </tbody>\n",
       "</table>\n",
       "</div>"
      ],
      "text/plain": [
       "state  Connecticut  New Jersey  New York\n",
       "chron                                   \n",
       "0             9503       10217     10739\n",
       "1              895        1241      1134"
      ]
     },
     "execution_count": 79,
     "metadata": {},
     "output_type": "execute_result"
    }
   ],
   "source": [
    "chron_by_state"
   ]
  },
  {
   "cell_type": "code",
   "execution_count": 80,
   "metadata": {},
   "outputs": [],
   "source": [
    "def run_chiss(variable, threshold):\n",
    "    \"\"\"\n",
    "    params : \n",
    "    \"\"\"\n",
    "    alpha = 1- threshold/100\n",
    "    stat, p, dof, expected = chi2_contingency(variable) \n",
    "    \n",
    "    critical = chi2.ppf(alpha, dof) \n",
    "    \n",
    "    print('critical = %.3f, stat = %.3f' % (critical, stat))\n",
    "    print(p)\n",
    "    \n",
    "    if abs(stat) >= critical:\n",
    "        \n",
    "        return\"\"\"\n",
    "        We reject the null Hypotesys. Based one statistical Chi test: \n",
    "        stat value = {}, which gets in rejection area defined by critical values {}.\n",
    "        \"\"\".format(round(stat,2), round(critical,2))\n",
    "        \n",
    "    else:\n",
    "\n",
    "        return \"\"\"\n",
    "        There is not enough evidances to reject the null Hypotesys.\n",
    "        Based one statistical Chi test comparing 3 different groups with categorical variables.\n",
    "        stat value = {}, which does not get in rejection area defined by critical value {}.\n",
    "        \"\"\".format(round(stat,2),round(critical,2))\n",
    "\n",
    "#     if p <= alpha:\n",
    "#         print('Dependent (reject H0)')\n",
    "#     else:\n",
    "#         print('Independent (fail to reject H0)')  \n",
    "        "
   ]
  },
  {
   "cell_type": "code",
   "execution_count": 81,
   "metadata": {},
   "outputs": [
    {
     "name": "stdout",
     "output_type": "stream",
     "text": [
      "critical = 0.103, stat = 31.214\n",
      "1.667230814806794e-07\n",
      "\n",
      "        We reject the null Hypotesys. Based one statistical Chi test: \n",
      "        stat value = 31.21, which gets in rejection area defined by critical values 0.1.\n",
      "        \n"
     ]
    }
   ],
   "source": [
    "print(run_chiss(chron_by_state, 95))"
   ]
  },
  {
   "cell_type": "markdown",
   "metadata": {},
   "source": [
    "# 10. Independent Investigation\n"
   ]
  },
  {
   "cell_type": "markdown",
   "metadata": {},
   "source": [
    "Now that you have invesitgated physical health and chronic sickness and their relationships with states and gender, you will conduct a similar investigation with variables of your choosing. \n",
    "\n",
    "Select a continuous dependent varaible and a binary dependent variable that you would like to investigate. Then select a categorical independent variable with at least 3 groups and for which you will test to see if the response to the independent variable affects outcomes of the dependent variable.\n",
    "\n",
    "For your continuous dependent variable perform the following:\n",
    "  - Determine the sample mean and sample standard deviation\n",
    "  - Create a confidence interval for a population mean.\n",
    "  - Perform a two-sample test of means for gender.\n",
    "  - Perform a one-way ANOVA using your categorical independent variable.\n",
    "\n",
    "Select/create a binary variable from the survey questions as you dependent variable and perform the following:\n",
    "  - Create a confidence interval for a population proportion.\n",
    "  - Perform a two proportions z-test using gender.\n",
    "  - Perform a Chi-Square test using your categorical independent variable."
   ]
  },
  {
   "cell_type": "markdown",
   "metadata": {},
   "source": [
    "# Label: How many days did you do physical activities or exercises to STRENGTHEN your muscles per Month"
   ]
  },
  {
   "cell_type": "code",
   "execution_count": 82,
   "metadata": {},
   "outputs": [],
   "source": [
    "conditions = [\n",
    "            ((df1['STRENGTH']>=101.0) & (df1['STRENGTH']<=107.0)),\n",
    "            ((df1['STRENGTH']>=201.0) & (df1['STRENGTH']<=230.0)),\n",
    "            df1['STRENGTH']==888]\n",
    "\n",
    "choices = [\n",
    "    (df1['STRENGTH']-100)*4,\n",
    "    df1['STRENGTH']-200,\n",
    "    0]\n",
    "\n",
    "df1['phisactiv'] = np.select(conditions, choices, default = np.nan)\n",
    "df1.dropna(subset=['phisactiv'], inplace=True)\n",
    "df1['phisactiv'] = df1['phisactiv'].map(lambda x: int(x))"
   ]
  },
  {
   "cell_type": "markdown",
   "metadata": {},
   "source": [
    "# Determine the sample mean and sample standard deviation"
   ]
  },
  {
   "cell_type": "code",
   "execution_count": 83,
   "metadata": {},
   "outputs": [
    {
     "name": "stdout",
     "output_type": "stream",
     "text": [
      "\n",
      "Average days people exercise per month : 5.07 days,\n",
      "STD for days people exercise per month : 7.87 days.\n",
      "\n"
     ]
    }
   ],
   "source": [
    "mean = df1['phisactiv'].mean()\n",
    "std = df1['phisactiv'].std()\n",
    "\n",
    "print ((\"\"\"\n",
    "Average days people exercise per month : {} days,\n",
    "STD for days people exercise per month : {} days.\n",
    "\"\"\").format(round(mean,2),round(std,2)))"
   ]
  },
  {
   "cell_type": "markdown",
   "metadata": {},
   "source": [
    "# Create a confidence interval for a population mean."
   ]
  },
  {
   "cell_type": "code",
   "execution_count": 84,
   "metadata": {},
   "outputs": [
    {
     "name": "stdout",
     "output_type": "stream",
     "text": [
      "\n",
      "    \n",
      "    We are 95% confident that true population mean falls between 4.98 and 5.16 days\n",
      "    \n"
     ]
    }
   ],
   "source": [
    "print(confidence_interval(df1['phisactiv'], 95))"
   ]
  },
  {
   "cell_type": "markdown",
   "metadata": {},
   "source": [
    "# Perform a two-sample test of means for gender"
   ]
  },
  {
   "cell_type": "code",
   "execution_count": 85,
   "metadata": {},
   "outputs": [
    {
     "name": "stdout",
     "output_type": "stream",
     "text": [
      "\n",
      "        We reject the null Hypotesys because based one statistical test two groups sample means difference \n",
      "        is = 6.54, which gets in rejection area defined by critical values 1.96 and -1.96.\n",
      "        \n"
     ]
    }
   ],
   "source": [
    "print(diff_two_means(df1['phisactiv'], 95))"
   ]
  },
  {
   "cell_type": "markdown",
   "metadata": {},
   "source": [
    "# Perform a one-way ANOVA using your categorical independent variable."
   ]
  },
  {
   "cell_type": "code",
   "execution_count": 86,
   "metadata": {},
   "outputs": [
    {
     "data": {
      "text/plain": [
       "state\n",
       "Connecticut    5.330634\n",
       "New Jersey     4.967141\n",
       "New York       4.932231\n",
       "Name: phisactiv, dtype: float64"
      ]
     },
     "execution_count": 86,
     "metadata": {},
     "output_type": "execute_result"
    }
   ],
   "source": [
    "df1.groupby('state')['phisactiv'].mean()"
   ]
  },
  {
   "cell_type": "code",
   "execution_count": 87,
   "metadata": {},
   "outputs": [
    {
     "name": "stderr",
     "output_type": "stream",
     "text": [
      "/Users/ivan/opt/anaconda3/lib/python3.7/site-packages/numpy/core/_asarray.py:83: VisibleDeprecationWarning: Creating an ndarray from ragged nested sequences (which is a list-or-tuple of lists-or-tuples-or ndarrays with different lengths or shapes) is deprecated. If you meant to do this, you must specify 'dtype=object' when creating the ndarray\n",
      "  return array(a, dtype, copy=False, order=order)\n"
     ]
    },
    {
     "data": {
      "image/png": "[encoded data removed]",
      "text/plain": [
       "<Figure size 720x432 with 1 Axes>"
      ]
     },
     "metadata": {
      "needs_background": "light"
     },
     "output_type": "display_data"
    }
   ],
   "source": [
    "df1.boxplot('phisactiv', by='state', figsize=(10,6))\n",
    "plt.show()"
   ]
  },
  {
   "cell_type": "code",
   "execution_count": 88,
   "metadata": {},
   "outputs": [
    {
     "name": "stdout",
     "output_type": "stream",
     "text": [
      "\n",
      "        We reject the null Hypotesys because the test statistic falls in the rejection area.\n",
      "        Based one statistical test our value pr = 0.0005195653254757081, which smaller then trashold = 0.05.\n",
      "        \n"
     ]
    }
   ],
   "source": [
    "print(anova_test(df1[['state','phisactiv']], 'phisactiv', 95))"
   ]
  },
  {
   "cell_type": "markdown",
   "metadata": {},
   "source": [
    "# Select/create a binary variable from the survey questions as you dependent variable and perform the following:"
   ]
  },
  {
   "cell_type": "code",
   "execution_count": 89,
   "metadata": {},
   "outputs": [],
   "source": [
    "df1['MARITAL'] = df1['MARITAL'].map({1.0 : 'Yes', 5.0 : 'No'})\n",
    "df1.dropna(subset=['MARITAL'], inplace = True)"
   ]
  },
  {
   "cell_type": "markdown",
   "metadata": {},
   "source": [
    "# Create a confidence interval for a population proportion."
   ]
  },
  {
   "cell_type": "code",
   "execution_count": 90,
   "metadata": {},
   "outputs": [
    {
     "name": "stdout",
     "output_type": "stream",
     "text": [
      "\n",
      "        \n",
      "        We are 95% confident that proportion of chronicly sick people for the overal population falls btw 71.73% and 72.95%\n",
      "        \n"
     ]
    }
   ],
   "source": [
    "true_pop_m = df1[df1['MARITAL']=='Yes']['MARITAL'] # Data with only who takes insulin\n",
    "print(conf_interv_true_pop(df1['MARITAL'], true_pop_m, 95))"
   ]
  },
  {
   "cell_type": "markdown",
   "metadata": {},
   "source": [
    "# Perform a two proportions z-test using gender."
   ]
  },
  {
   "cell_type": "code",
   "execution_count": 91,
   "metadata": {},
   "outputs": [],
   "source": [
    "married_male = df1[df1['SEX']=='Male']\n",
    "married_female = df1[df1['SEX']=='Female']"
   ]
  },
  {
   "cell_type": "code",
   "execution_count": 92,
   "metadata": {},
   "outputs": [
    {
     "name": "stdout",
     "output_type": "stream",
     "text": [
      "\n",
      "        We reject the null Hypotesys. Based one statistical test difference of 2 proportions\n",
      "        our value = -3.0, which gets in rejection area defined by critical values 1.96 and -1.96.\n",
      "        \n"
     ]
    }
   ],
   "source": [
    "print(two_population_proportion_test(married_male, married_female, 'MARITAL', 95))"
   ]
  },
  {
   "cell_type": "markdown",
   "metadata": {},
   "source": [
    "# Perform a Chi-Square test using your categorical independent variable."
   ]
  },
  {
   "cell_type": "code",
   "execution_count": 93,
   "metadata": {},
   "outputs": [],
   "source": [
    "marital_by_state = df1.groupby('MARITAL')['state'].value_counts().unstack()"
   ]
  },
  {
   "cell_type": "code",
   "execution_count": 94,
   "metadata": {},
   "outputs": [
    {
     "name": "stdout",
     "output_type": "stream",
     "text": [
      "critical = 0.103, stat = 153.256\n",
      "5.259962644096122e-34\n",
      "\n",
      "        We reject the null Hypotesys. Based one statistical Chi test: \n",
      "        stat value = 153.26, which gets in rejection area defined by critical values 0.1.\n",
      "        \n"
     ]
    }
   ],
   "source": [
    "print(run_chiss(marital_by_state,95))"
   ]
  },
  {
   "cell_type": "code",
   "execution_count": null,
   "metadata": {},
   "outputs": [],
   "source": []
  }
 ],
 "metadata": {
  "kernelspec": {
   "display_name": "Python 3",
   "language": "python",
   "name": "python3"
  },
  "language_info": {
   "codemirror_mode": {
    "name": "ipython",
    "version": 3
   },
   "file_extension": ".py",
   "mimetype": "text/x-python",
   "name": "python",
   "nbconvert_exporter": "python",
   "pygments_lexer": "ipython3",
   "version": "3.7.6"
  }
 },
 "nbformat": 4,
 "nbformat_minor": 4
}
