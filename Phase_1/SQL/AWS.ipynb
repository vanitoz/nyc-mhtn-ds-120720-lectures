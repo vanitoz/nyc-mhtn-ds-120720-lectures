{
 "cells": [
  {
   "cell_type": "code",
   "execution_count": 1,
   "metadata": {},
   "outputs": [],
   "source": [
    "import sqlite3\n",
    "import pandas as pd\n",
    "import json\n",
    "import re    # regex module\n",
    "from datetime import date, datetime, timedelta"
   ]
  },
  {
   "cell_type": "code",
   "execution_count": 2,
   "metadata": {},
   "outputs": [],
   "source": [
    "f=open('students_info.json','r')\n",
    "data=json.load(f)"
   ]
  },
  {
   "cell_type": "code",
   "execution_count": 3,
   "metadata": {},
   "outputs": [],
   "source": [
    "conn = sqlite3.connect('students.db')\n",
    "cursor = conn.cursor()"
   ]
  },
  {
   "cell_type": "code",
   "execution_count": 4,
   "metadata": {},
   "outputs": [],
   "source": [
    "create_query = \"\"\" CREATE TABLE students\n",
    "                    (NAME TEXT NOT NULL,\n",
    "                    BIRTHDAY NUMERIC,\n",
    "                    FAV_FOOD TEXT NOT NULL,\n",
    "                    BIRTHPLACE TEXT NOT NULL,\n",
    "                    YEARS_IN_NYC INTEGER\n",
    "                    );\n",
    "                \"\"\""
   ]
  },
  {
   "cell_type": "code",
   "execution_count": 5,
   "metadata": {},
   "outputs": [
    {
     "data": {
      "text/plain": [
       "<sqlite3.Cursor at 0x7f848fe4bce0>"
      ]
     },
     "execution_count": 5,
     "metadata": {},
     "output_type": "execute_result"
    }
   ],
   "source": [
    "cursor.execute('DROP TABLE IF EXISTS students;')\n",
    "cursor.execute(create_query)"
   ]
  },
  {
   "cell_type": "code",
   "execution_count": 6,
   "metadata": {},
   "outputs": [],
   "source": [
    "def date_format(birthday):\n",
    "    spltd_bday = re.split('[/ -]|[.]', birthday)\n",
    "    \n",
    "    if len(spltd_bday)<3:\n",
    "        return None\n",
    "    else:\n",
    "        m,d,y = spltd_bday\n",
    "        date_obj = date(int(y),int(m),int(d))\n",
    "        \n",
    "        return datetime.strftime(date_obj, \"%m/%d/%Y\")"
   ]
  },
  {
   "cell_type": "code",
   "execution_count": 7,
   "metadata": {},
   "outputs": [],
   "source": [
    "students_list = []\n",
    "\n",
    "for student in data:\n",
    "    if type(student['fav_food']) == list:\n",
    "        for fav_food in student['fav_food']:\n",
    "            student_tuple = (student['name'], \n",
    "                             date_format(student['birthday']),\n",
    "                             fav_food,\n",
    "                             student['birthplace'],\n",
    "                             student['years_in_nyc'])\n",
    "            students_list.append(student_tuple)\n",
    "    else:\n",
    "        student_tuple = (student['name'], \n",
    "                         date_format(student['birthday']),\n",
    "                         student['fav_food'],\n",
    "                         student['birthplace'],\n",
    "                         student['years_in_nyc'])\n",
    "        \n",
    "        students_list.append(student_tuple)\n",
    "\n",
    "insert_statement = '''INSERT INTO students (name, birthday, fav_food, birthplace, years_in_nyc) VALUES ( ?, ?, ?, ?, ? )'''"
   ]
  },
  {
   "cell_type": "code",
   "execution_count": 8,
   "metadata": {},
   "outputs": [
    {
     "name": "stdout",
     "output_type": "stream",
     "text": [
      "12\n"
     ]
    },
    {
     "data": {
      "text/plain": [
       "('Sean Abu Wilson', '02/06/1985', 'Bread', 'Birmingham, AL', 9)"
      ]
     },
     "execution_count": 8,
     "metadata": {},
     "output_type": "execute_result"
    }
   ],
   "source": [
    "print(len(students_list))\n",
    "students_list[0]"
   ]
  },
  {
   "cell_type": "code",
   "execution_count": 9,
   "metadata": {},
   "outputs": [
    {
     "data": {
      "text/plain": [
       "<sqlite3.Cursor at 0x7f848fe4bce0>"
      ]
     },
     "execution_count": 9,
     "metadata": {},
     "output_type": "execute_result"
    }
   ],
   "source": [
    "cursor.executemany(insert_statement, students_list)"
   ]
  },
  {
   "cell_type": "code",
   "execution_count": 10,
   "metadata": {},
   "outputs": [
    {
     "data": {
      "text/html": [
       "<div>\n",
       "<style scoped>\n",
       "    .dataframe tbody tr th:only-of-type {\n",
       "        vertical-align: middle;\n",
       "    }\n",
       "\n",
       "    .dataframe tbody tr th {\n",
       "        vertical-align: top;\n",
       "    }\n",
       "\n",
       "    .dataframe thead th {\n",
       "        text-align: right;\n",
       "    }\n",
       "</style>\n",
       "<table border=\"1\" class=\"dataframe\">\n",
       "  <thead>\n",
       "    <tr style=\"text-align: right;\">\n",
       "      <th></th>\n",
       "      <th>NAME</th>\n",
       "      <th>BIRTHDAY</th>\n",
       "      <th>FAV_FOOD</th>\n",
       "      <th>BIRTHPLACE</th>\n",
       "      <th>YEARS_IN_NYC</th>\n",
       "    </tr>\n",
       "  </thead>\n",
       "  <tbody>\n",
       "    <tr>\n",
       "      <th>0</th>\n",
       "      <td>Sean Abu Wilson</td>\n",
       "      <td>02/06/1985</td>\n",
       "      <td>Bread</td>\n",
       "      <td>Birmingham, AL</td>\n",
       "      <td>9</td>\n",
       "    </tr>\n",
       "    <tr>\n",
       "      <th>1</th>\n",
       "      <td>christa</td>\n",
       "      <td>01/11/1996</td>\n",
       "      <td>buffalo wings</td>\n",
       "      <td>new york</td>\n",
       "      <td>2</td>\n",
       "    </tr>\n",
       "    <tr>\n",
       "      <th>2</th>\n",
       "      <td>Dariga Kokenova</td>\n",
       "      <td>None</td>\n",
       "      <td>Italian</td>\n",
       "      <td>Kazakhstan</td>\n",
       "      <td>14</td>\n",
       "    </tr>\n",
       "    <tr>\n",
       "      <th>3</th>\n",
       "      <td>Rafael Ferreira</td>\n",
       "      <td>10/13/1991</td>\n",
       "      <td>Linguine con Vongole</td>\n",
       "      <td>Denver, CO</td>\n",
       "      <td>5</td>\n",
       "    </tr>\n",
       "    <tr>\n",
       "      <th>4</th>\n",
       "      <td>Saad Raees</td>\n",
       "      <td>05/13/1992</td>\n",
       "      <td>ice cream</td>\n",
       "      <td>Karachi,Pakistan</td>\n",
       "      <td>10</td>\n",
       "    </tr>\n",
       "    <tr>\n",
       "      <th>5</th>\n",
       "      <td>Ivan Zakharchuk</td>\n",
       "      <td>01/27/1988</td>\n",
       "      <td>Mediterranean</td>\n",
       "      <td>Kiev</td>\n",
       "      <td>10</td>\n",
       "    </tr>\n",
       "    <tr>\n",
       "      <th>6</th>\n",
       "      <td>Anjanette Vanessa Jia Craynock Santiago Delgad...</td>\n",
       "      <td>10/03/1987</td>\n",
       "      <td>Japanese</td>\n",
       "      <td>Carolina, Puerto Rico</td>\n",
       "      <td>5</td>\n",
       "    </tr>\n",
       "    <tr>\n",
       "      <th>7</th>\n",
       "      <td>Guy Monahan</td>\n",
       "      <td>07/21/1988</td>\n",
       "      <td>Dumplings</td>\n",
       "      <td>Jersey City, NJ</td>\n",
       "      <td>31</td>\n",
       "    </tr>\n",
       "    <tr>\n",
       "      <th>8</th>\n",
       "      <td>Jonathan Silverman</td>\n",
       "      <td>08/04/1982</td>\n",
       "      <td>Pizza</td>\n",
       "      <td>Brooklyn, NY</td>\n",
       "      <td>37</td>\n",
       "    </tr>\n",
       "    <tr>\n",
       "      <th>9</th>\n",
       "      <td>Nick</td>\n",
       "      <td>02/27/1988</td>\n",
       "      <td>Japanese</td>\n",
       "      <td>UK</td>\n",
       "      <td>10</td>\n",
       "    </tr>\n",
       "    <tr>\n",
       "      <th>10</th>\n",
       "      <td>John</td>\n",
       "      <td>02/27/1988</td>\n",
       "      <td>Pizza</td>\n",
       "      <td>UK</td>\n",
       "      <td>10</td>\n",
       "    </tr>\n",
       "    <tr>\n",
       "      <th>11</th>\n",
       "      <td>Jennifer</td>\n",
       "      <td>02/27/1988</td>\n",
       "      <td>Pizza</td>\n",
       "      <td>UK</td>\n",
       "      <td>10</td>\n",
       "    </tr>\n",
       "  </tbody>\n",
       "</table>\n",
       "</div>"
      ],
      "text/plain": [
       "                                                 NAME    BIRTHDAY  \\\n",
       "0                                     Sean Abu Wilson  02/06/1985   \n",
       "1                                             christa  01/11/1996   \n",
       "2                                     Dariga Kokenova        None   \n",
       "3                                     Rafael Ferreira  10/13/1991   \n",
       "4                                          Saad Raees  05/13/1992   \n",
       "5                                     Ivan Zakharchuk  01/27/1988   \n",
       "6   Anjanette Vanessa Jia Craynock Santiago Delgad...  10/03/1987   \n",
       "7                                         Guy Monahan  07/21/1988   \n",
       "8                                  Jonathan Silverman  08/04/1982   \n",
       "9                                                Nick  02/27/1988   \n",
       "10                                               John  02/27/1988   \n",
       "11                                           Jennifer  02/27/1988   \n",
       "\n",
       "                FAV_FOOD             BIRTHPLACE  YEARS_IN_NYC  \n",
       "0                  Bread         Birmingham, AL             9  \n",
       "1          buffalo wings               new york             2  \n",
       "2                Italian             Kazakhstan            14  \n",
       "3   Linguine con Vongole             Denver, CO             5  \n",
       "4              ice cream       Karachi,Pakistan            10  \n",
       "5          Mediterranean                   Kiev            10  \n",
       "6               Japanese  Carolina, Puerto Rico             5  \n",
       "7              Dumplings        Jersey City, NJ            31  \n",
       "8                  Pizza           Brooklyn, NY            37  \n",
       "9               Japanese                     UK            10  \n",
       "10                 Pizza                     UK            10  \n",
       "11                 Pizza                     UK            10  "
      ]
     },
     "execution_count": 10,
     "metadata": {},
     "output_type": "execute_result"
    }
   ],
   "source": [
    "df = pd.DataFrame(cursor.execute(\"SELECT * FROM students\").fetchall())\n",
    "df.columns = [x[0] for x in cursor.description]\n",
    "df\n",
    "# cursor.execute(\"\"\"SELECT * \n",
    "#                 FROM students\n",
    "#                 ;\"\"\").fetchall()"
   ]
  },
  {
   "cell_type": "markdown",
   "metadata": {},
   "source": [
    "# Which student was born closest to the cohort's graduation date?"
   ]
  },
  {
   "cell_type": "code",
   "execution_count": 11,
   "metadata": {},
   "outputs": [],
   "source": [
    "# march 26 2021"
   ]
  },
  {
   "cell_type": "code",
   "execution_count": 12,
   "metadata": {},
   "outputs": [
    {
     "data": {
      "text/plain": [
       "[('Rafael Ferreira', '10/13/1991', 'Linguine con Vongole', 'Denver, CO', 5),\n",
       " ('Anjanette Vanessa Jia Craynock Santiago Delgado Betancourt Rivera',\n",
       "  '10/03/1987',\n",
       "  'Japanese',\n",
       "  'Carolina, Puerto Rico',\n",
       "  5),\n",
       " ('Jonathan Silverman', '08/04/1982', 'Pizza', 'Brooklyn, NY', 37),\n",
       " ('Guy Monahan', '07/21/1988', 'Dumplings', 'Jersey City, NJ', 31),\n",
       " ('Saad Raees', '05/13/1992', 'ice cream', 'Karachi,Pakistan', 10),\n",
       " ('Nick', '02/27/1988', 'Japanese', 'UK', 10),\n",
       " ('John', '02/27/1988', 'Pizza', 'UK', 10),\n",
       " ('Jennifer', '02/27/1988', 'Pizza', 'UK', 10),\n",
       " ('Sean Abu Wilson', '02/06/1985', 'Bread', 'Birmingham, AL', 9),\n",
       " ('Ivan Zakharchuk', '01/27/1988', 'Mediterranean', 'Kiev', 10),\n",
       " ('christa', '01/11/1996', 'buffalo wings', 'new york', 2),\n",
       " ('Dariga Kokenova', None, 'Italian', 'Kazakhstan', 14)]"
      ]
     },
     "execution_count": 12,
     "metadata": {},
     "output_type": "execute_result"
    }
   ],
   "source": [
    "cursor.execute(\"\"\"SELECT * \n",
    "                FROM students \n",
    "                ORDER BY BIRTHDAY DESC\n",
    "                ;\"\"\").fetchall()"
   ]
  },
  {
   "cell_type": "markdown",
   "metadata": {},
   "source": [
    "# Which 3 students have lived in NYC the shortest amount of time?"
   ]
  },
  {
   "cell_type": "code",
   "execution_count": 13,
   "metadata": {},
   "outputs": [
    {
     "data": {
      "text/plain": [
       "[('christa', '01/11/1996', 'buffalo wings', 'new york', 2),\n",
       " ('Rafael Ferreira', '10/13/1991', 'Linguine con Vongole', 'Denver, CO', 5),\n",
       " ('Anjanette Vanessa Jia Craynock Santiago Delgado Betancourt Rivera',\n",
       "  '10/03/1987',\n",
       "  'Japanese',\n",
       "  'Carolina, Puerto Rico',\n",
       "  5)]"
      ]
     },
     "execution_count": 13,
     "metadata": {},
     "output_type": "execute_result"
    }
   ],
   "source": [
    "cursor.execute(\"\"\"SELECT * \n",
    "                FROM students \n",
    "                ORDER BY YEARS_IN_NYC\n",
    "                LIMIT 3\n",
    "                ;\"\"\").fetchall()"
   ]
  },
  {
   "cell_type": "markdown",
   "metadata": {},
   "source": [
    "# How many students are native New Yorkers?"
   ]
  },
  {
   "cell_type": "code",
   "execution_count": 14,
   "metadata": {},
   "outputs": [
    {
     "data": {
      "text/plain": [
       "[(2,)]"
      ]
     },
     "execution_count": 14,
     "metadata": {},
     "output_type": "execute_result"
    }
   ],
   "source": [
    "cursor.execute(\"\"\"SELECT COUNT()\n",
    "                FROM students \n",
    "                WHERE BIRTHPLACE like '%NY%' \n",
    "                OR  \n",
    "                BIRTHPLACE like '%new york%'\n",
    "                ;\"\"\").fetchall()"
   ]
  },
  {
   "cell_type": "code",
   "execution_count": 15,
   "metadata": {},
   "outputs": [
    {
     "data": {
      "text/html": [
       "<div>\n",
       "<style scoped>\n",
       "    .dataframe tbody tr th:only-of-type {\n",
       "        vertical-align: middle;\n",
       "    }\n",
       "\n",
       "    .dataframe tbody tr th {\n",
       "        vertical-align: top;\n",
       "    }\n",
       "\n",
       "    .dataframe thead th {\n",
       "        text-align: right;\n",
       "    }\n",
       "</style>\n",
       "<table border=\"1\" class=\"dataframe\">\n",
       "  <thead>\n",
       "    <tr style=\"text-align: right;\">\n",
       "      <th></th>\n",
       "      <th>NAME</th>\n",
       "      <th>BIRTHDAY</th>\n",
       "      <th>FAV_FOOD</th>\n",
       "      <th>BIRTHPLACE</th>\n",
       "      <th>YEARS_IN_NYC</th>\n",
       "    </tr>\n",
       "  </thead>\n",
       "  <tbody>\n",
       "    <tr>\n",
       "      <th>0</th>\n",
       "      <td>Sean Abu Wilson</td>\n",
       "      <td>02/06/1985</td>\n",
       "      <td>Bread</td>\n",
       "      <td>Birmingham, AL</td>\n",
       "      <td>9</td>\n",
       "    </tr>\n",
       "    <tr>\n",
       "      <th>1</th>\n",
       "      <td>christa</td>\n",
       "      <td>01/11/1996</td>\n",
       "      <td>buffalo wings</td>\n",
       "      <td>new york</td>\n",
       "      <td>2</td>\n",
       "    </tr>\n",
       "    <tr>\n",
       "      <th>2</th>\n",
       "      <td>Dariga Kokenova</td>\n",
       "      <td>None</td>\n",
       "      <td>Italian</td>\n",
       "      <td>Kazakhstan</td>\n",
       "      <td>14</td>\n",
       "    </tr>\n",
       "    <tr>\n",
       "      <th>3</th>\n",
       "      <td>Rafael Ferreira</td>\n",
       "      <td>10/13/1991</td>\n",
       "      <td>Linguine con Vongole</td>\n",
       "      <td>Denver, CO</td>\n",
       "      <td>5</td>\n",
       "    </tr>\n",
       "    <tr>\n",
       "      <th>4</th>\n",
       "      <td>Saad Raees</td>\n",
       "      <td>05/13/1992</td>\n",
       "      <td>ice cream</td>\n",
       "      <td>Karachi,Pakistan</td>\n",
       "      <td>10</td>\n",
       "    </tr>\n",
       "    <tr>\n",
       "      <th>5</th>\n",
       "      <td>Ivan Zakharchuk</td>\n",
       "      <td>01/27/1988</td>\n",
       "      <td>Mediterranean</td>\n",
       "      <td>Kiev</td>\n",
       "      <td>10</td>\n",
       "    </tr>\n",
       "    <tr>\n",
       "      <th>6</th>\n",
       "      <td>Anjanette Vanessa Jia Craynock Santiago Delgad...</td>\n",
       "      <td>10/03/1987</td>\n",
       "      <td>Japanese</td>\n",
       "      <td>Carolina, Puerto Rico</td>\n",
       "      <td>5</td>\n",
       "    </tr>\n",
       "    <tr>\n",
       "      <th>7</th>\n",
       "      <td>Guy Monahan</td>\n",
       "      <td>07/21/1988</td>\n",
       "      <td>Dumplings</td>\n",
       "      <td>Jersey City, NJ</td>\n",
       "      <td>31</td>\n",
       "    </tr>\n",
       "    <tr>\n",
       "      <th>8</th>\n",
       "      <td>Jonathan Silverman</td>\n",
       "      <td>08/04/1982</td>\n",
       "      <td>Pizza</td>\n",
       "      <td>Brooklyn, NY</td>\n",
       "      <td>37</td>\n",
       "    </tr>\n",
       "    <tr>\n",
       "      <th>9</th>\n",
       "      <td>Nick</td>\n",
       "      <td>02/27/1988</td>\n",
       "      <td>Japanese</td>\n",
       "      <td>UK</td>\n",
       "      <td>10</td>\n",
       "    </tr>\n",
       "    <tr>\n",
       "      <th>10</th>\n",
       "      <td>John</td>\n",
       "      <td>02/27/1988</td>\n",
       "      <td>Pizza</td>\n",
       "      <td>UK</td>\n",
       "      <td>10</td>\n",
       "    </tr>\n",
       "    <tr>\n",
       "      <th>11</th>\n",
       "      <td>Jennifer</td>\n",
       "      <td>02/27/1988</td>\n",
       "      <td>Pizza</td>\n",
       "      <td>UK</td>\n",
       "      <td>10</td>\n",
       "    </tr>\n",
       "  </tbody>\n",
       "</table>\n",
       "</div>"
      ],
      "text/plain": [
       "                                                 NAME    BIRTHDAY  \\\n",
       "0                                     Sean Abu Wilson  02/06/1985   \n",
       "1                                             christa  01/11/1996   \n",
       "2                                     Dariga Kokenova        None   \n",
       "3                                     Rafael Ferreira  10/13/1991   \n",
       "4                                          Saad Raees  05/13/1992   \n",
       "5                                     Ivan Zakharchuk  01/27/1988   \n",
       "6   Anjanette Vanessa Jia Craynock Santiago Delgad...  10/03/1987   \n",
       "7                                         Guy Monahan  07/21/1988   \n",
       "8                                  Jonathan Silverman  08/04/1982   \n",
       "9                                                Nick  02/27/1988   \n",
       "10                                               John  02/27/1988   \n",
       "11                                           Jennifer  02/27/1988   \n",
       "\n",
       "                FAV_FOOD             BIRTHPLACE  YEARS_IN_NYC  \n",
       "0                  Bread         Birmingham, AL             9  \n",
       "1          buffalo wings               new york             2  \n",
       "2                Italian             Kazakhstan            14  \n",
       "3   Linguine con Vongole             Denver, CO             5  \n",
       "4              ice cream       Karachi,Pakistan            10  \n",
       "5          Mediterranean                   Kiev            10  \n",
       "6               Japanese  Carolina, Puerto Rico             5  \n",
       "7              Dumplings        Jersey City, NJ            31  \n",
       "8                  Pizza           Brooklyn, NY            37  \n",
       "9               Japanese                     UK            10  \n",
       "10                 Pizza                     UK            10  \n",
       "11                 Pizza                     UK            10  "
      ]
     },
     "execution_count": 15,
     "metadata": {},
     "output_type": "execute_result"
    }
   ],
   "source": [
    "df"
   ]
  },
  {
   "cell_type": "markdown",
   "metadata": {},
   "source": [
    "# Do any two students have the same favorite food?"
   ]
  },
  {
   "cell_type": "code",
   "execution_count": 16,
   "metadata": {},
   "outputs": [
    {
     "data": {
      "text/plain": [
       "('Pizza', 3)"
      ]
     },
     "execution_count": 16,
     "metadata": {},
     "output_type": "execute_result"
    }
   ],
   "source": [
    "cursor.execute(\"\"\"SELECT FAV_FOOD , COUNT(*)\n",
    "                FROM students \n",
    "                GROUP BY FAV_FOOD\n",
    "                HAVING COUNT(*)>1\n",
    "                ORDER BY COUNT(*) DESC \n",
    "                ;\"\"\").fetchone()"
   ]
  },
  {
   "cell_type": "code",
   "execution_count": 17,
   "metadata": {},
   "outputs": [
    {
     "data": {
      "text/plain": [
       "[('Pizza', 3),\n",
       " ('Japanese', 2),\n",
       " ('ice cream', 1),\n",
       " ('buffalo wings', 1),\n",
       " ('Mediterranean', 1),\n",
       " ('Linguine con Vongole', 1),\n",
       " ('Italian', 1),\n",
       " ('Dumplings', 1),\n",
       " ('Bread', 1)]"
      ]
     },
     "execution_count": 17,
     "metadata": {},
     "output_type": "execute_result"
    }
   ],
   "source": [
    "cursor.execute(\"\"\"SELECT FAV_FOOD , COUNT(*)\n",
    "                FROM students \n",
    "                GROUP BY FAV_FOOD\n",
    "                ORDER BY COUNT(*) DESC \n",
    "            \n",
    "                ;\"\"\").fetchall()"
   ]
  },
  {
   "cell_type": "code",
   "execution_count": 18,
   "metadata": {},
   "outputs": [],
   "source": [
    "max_query = \"\"\"SELECT FAV_FOOD, MAX(food_count)\n",
    "    FROM (\n",
    "            SELECT FAV_FOOD , COUNT(*) as food_count\n",
    "            FROM students \n",
    "            GROUP BY FAV_FOOD\n",
    "            ORDER BY COUNT(*) DESC \n",
    "        )\n",
    "\"\"\""
   ]
  },
  {
   "cell_type": "code",
   "execution_count": 19,
   "metadata": {},
   "outputs": [
    {
     "data": {
      "text/plain": [
       "<sqlite3.Cursor at 0x7f848fe4bce0>"
      ]
     },
     "execution_count": 19,
     "metadata": {},
     "output_type": "execute_result"
    }
   ],
   "source": [
    "cursor.execute(max_query)"
   ]
  },
  {
   "cell_type": "code",
   "execution_count": 20,
   "metadata": {},
   "outputs": [
    {
     "data": {
      "text/plain": [
       "[('Pizza', 3)]"
      ]
     },
     "execution_count": 20,
     "metadata": {},
     "output_type": "execute_result"
    }
   ],
   "source": [
    "cursor.fetchall()"
   ]
  },
  {
   "cell_type": "code",
   "execution_count": 21,
   "metadata": {},
   "outputs": [],
   "source": [
    "above_avg = \"\"\"\n",
    "SELECT NAME \n",
    "FROM students\n",
    "WHERE years_in_nyc > (SELECT avg(years_in_nyc) from students)\n",
    "\"\"\""
   ]
  },
  {
   "cell_type": "code",
   "execution_count": 22,
   "metadata": {},
   "outputs": [
    {
     "data": {
      "text/plain": [
       "[('Dariga Kokenova',), ('Guy Monahan',), ('Jonathan Silverman',)]"
      ]
     },
     "execution_count": 22,
     "metadata": {},
     "output_type": "execute_result"
    }
   ],
   "source": [
    "cursor.execute(above_avg).fetchall()"
   ]
  },
  {
   "cell_type": "code",
   "execution_count": 23,
   "metadata": {},
   "outputs": [
    {
     "data": {
      "text/plain": [
       "[(12.75,)]"
      ]
     },
     "execution_count": 23,
     "metadata": {},
     "output_type": "execute_result"
    }
   ],
   "source": [
    "cursor.execute ('SELECT avg(years_in_nyc) from students').fetchall()"
   ]
  },
  {
   "cell_type": "code",
   "execution_count": 24,
   "metadata": {},
   "outputs": [],
   "source": [
    "def date_format(birthday):\n",
    "    spltd_bday = re.split('[/ -]|[.]', birthday)\n",
    "    \n",
    "    if len(spltd_bday)<3:\n",
    "        return None\n",
    "    else:\n",
    "        m,d,y = spltd_bday\n",
    "        date_obj = date(int(y),int(m),int(d))\n",
    "        \n",
    "        return datetime.strftime(date_obj, \"%m/%d/%Y\")"
   ]
  },
  {
   "cell_type": "code",
   "execution_count": 25,
   "metadata": {},
   "outputs": [
    {
     "data": {
      "text/plain": [
       "'01/27/1988'"
      ]
     },
     "execution_count": 25,
     "metadata": {},
     "output_type": "execute_result"
    }
   ],
   "source": [
    "date_format('01.27.1988')"
   ]
  },
  {
   "cell_type": "code",
   "execution_count": null,
   "metadata": {},
   "outputs": [],
   "source": []
  }
 ],
 "metadata": {
  "kernelspec": {
   "display_name": "Python 3",
   "language": "python",
   "name": "python3"
  },
  "language_info": {
   "codemirror_mode": {
    "name": "ipython",
    "version": 3
   },
   "file_extension": ".py",
   "mimetype": "text/x-python",
   "name": "python",
   "nbconvert_exporter": "python",
   "pygments_lexer": "ipython3",
   "version": "3.7.6"
  }
 },
 "nbformat": 4,
 "nbformat_minor": 4
}
