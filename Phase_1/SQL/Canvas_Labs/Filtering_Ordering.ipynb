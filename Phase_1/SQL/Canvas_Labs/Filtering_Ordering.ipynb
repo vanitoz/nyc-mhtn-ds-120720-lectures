{
 "cells": [
  {
   "cell_type": "code",
   "execution_count": 1,
   "metadata": {},
   "outputs": [],
   "source": [
    "import sqlite3 \n",
    "conn = sqlite3.connect('pets_database.db')\n",
    "cur = conn.cursor()"
   ]
  },
  {
   "cell_type": "code",
   "execution_count": 5,
   "metadata": {},
   "outputs": [
    {
     "data": {
      "text/plain": [
       "['id', 'name', 'age', 'breed', 'owner_id']"
      ]
     },
     "execution_count": 5,
     "metadata": {},
     "output_type": "execute_result"
    }
   ],
   "source": [
    "[x[0] for x in cur.description]"
   ]
  },
  {
   "cell_type": "code",
   "execution_count": 2,
   "metadata": {},
   "outputs": [
    {
     "data": {
      "text/plain": [
       "[(1, 'Maru', 3, 'Scottish Fold', 1),\n",
       " (2, 'Hana', 1, 'Tabby', 1),\n",
       " (3, \"Lil' Bub\", 5, 'American Shorthair', None),\n",
       " (4, 'Moe', 10, 'Tabby', None),\n",
       " (5, 'Patches', 2, 'Calico', None),\n",
       " (6, None, None, 'Tabby', None)]"
      ]
     },
     "execution_count": 2,
     "metadata": {},
     "output_type": "execute_result"
    }
   ],
   "source": [
    "cur.execute(\"\"\"SELECT * from cats;\"\"\").fetchall()"
   ]
  },
  {
   "cell_type": "code",
   "execution_count": 7,
   "metadata": {},
   "outputs": [
    {
     "data": {
      "text/plain": [
       "[(6, None, None, 'Tabby', None),\n",
       " (2, 'Hana', 1, 'Tabby', 1),\n",
       " (5, 'Patches', 2, 'Calico', None),\n",
       " (1, 'Maru', 3, 'Scottish Fold', 1),\n",
       " (3, \"Lil' Bub\", 5, 'American Shorthair', None),\n",
       " (4, 'Moe', 10, 'Tabby', None)]"
      ]
     },
     "execution_count": 7,
     "metadata": {},
     "output_type": "execute_result"
    }
   ],
   "source": [
    "cur.execute(\"\"\"SELECT * FROM cats ORDER BY age;\"\"\").fetchall()  # ASC|DESC"
   ]
  },
  {
   "cell_type": "code",
   "execution_count": 8,
   "metadata": {},
   "outputs": [
    {
     "data": {
      "text/plain": [
       "[(4, 'Moe', 10, 'Tabby', None),\n",
       " (3, \"Lil' Bub\", 5, 'American Shorthair', None),\n",
       " (1, 'Maru', 3, 'Scottish Fold', 1),\n",
       " (5, 'Patches', 2, 'Calico', None),\n",
       " (2, 'Hana', 1, 'Tabby', 1),\n",
       " (6, None, None, 'Tabby', None)]"
      ]
     },
     "execution_count": 8,
     "metadata": {},
     "output_type": "execute_result"
    }
   ],
   "source": [
    "cur.execute(\"\"\"SELECT * FROM cats ORDER BY age DESC;\"\"\").fetchall() "
   ]
  },
  {
   "cell_type": "code",
   "execution_count": 13,
   "metadata": {},
   "outputs": [
    {
     "data": {
      "text/plain": [
       "[(4, 'Moe', 10, 'Tabby', None)]"
      ]
     },
     "execution_count": 13,
     "metadata": {},
     "output_type": "execute_result"
    }
   ],
   "source": [
    "cur.execute(\"\"\"SELECT * FROM cats ORDER BY age DESC LIMIT 1;\"\"\").fetchall() "
   ]
  },
  {
   "cell_type": "code",
   "execution_count": 16,
   "metadata": {},
   "outputs": [
    {
     "data": {
      "text/plain": [
       "[(4, 'Moe', 10, 'Tabby', None),\n",
       " (3, \"Lil' Bub\", 5, 'American Shorthair', None),\n",
       " (1, 'Maru', 3, 'Scottish Fold', 1),\n",
       " (5, 'Patches', 2, 'Calico', None),\n",
       " (2, 'Hana', 1, 'Tabby', 1),\n",
       " (6, None, None, 'Tabby', None)]"
      ]
     },
     "execution_count": 16,
     "metadata": {},
     "output_type": "execute_result"
    }
   ],
   "source": [
    "cur.execute(\"\"\"SELECT * FROM cats ORDER BY age DESC;\"\"\").fetchall() "
   ]
  },
  {
   "cell_type": "code",
   "execution_count": 17,
   "metadata": {},
   "outputs": [
    {
     "data": {
      "text/plain": [
       "[('Maru',), ('Hana',), ('Patches',)]"
      ]
     },
     "execution_count": 17,
     "metadata": {},
     "output_type": "execute_result"
    }
   ],
   "source": [
    "cur.execute(\"\"\"SELECT name FROM cats WHERE age BETWEEN 1 and 3;\"\"\").fetchall() "
   ]
  },
  {
   "cell_type": "code",
   "execution_count": 18,
   "metadata": {},
   "outputs": [
    {
     "data": {
      "text/plain": [
       "[(6, None, None, 'Tabby', None)]"
      ]
     },
     "execution_count": 18,
     "metadata": {},
     "output_type": "execute_result"
    }
   ],
   "source": [
    "cur.execute(\"\"\"SELECT * FROM cats WHERE name IS null;\"\"\").fetchall() "
   ]
  },
  {
   "cell_type": "code",
   "execution_count": 19,
   "metadata": {},
   "outputs": [
    {
     "data": {
      "text/plain": [
       "[(2,)]"
      ]
     },
     "execution_count": 19,
     "metadata": {},
     "output_type": "execute_result"
    }
   ],
   "source": [
    "cur.execute(\"\"\"SELECT COUNT(owner_id) FROM cats WHERE owner_id = 1;\"\"\").fetchall() "
   ]
  },
  {
   "cell_type": "markdown",
   "metadata": {},
   "source": [
    "### `GROUP BY`\n",
    "\n",
    "Lastly, we'll talk about the handy aggregate function `GROUP BY`. Like its name\n",
    "suggests, it groups your results by a given column.\n",
    "\n",
    "Let's take our table of cats\n",
    "\n",
    "```bash\n",
    "id          name        age         breed          owner_id  \n",
    "----------  ----------  ----------  -------------  ----------\n",
    "1           Maru        3           Scottish Fold  1         \n",
    "2           Hana        1           Tabby          1         \n",
    "3           Lil\\' Bub   5           American Shor            \n",
    "4           Moe         10          Tabby                    \n",
    "5           Patches     2           Calico                   \n",
    "6                                   Tabby                    \n",
    "```\n",
    "\n",
    "Here, you can see at a glance that there are three tabby cats and\n",
    "one of every other breed — but what if you had a larger database\n",
    "where you couldn't just tally up the number of cats *grouped by*\n",
    "breed? That's where — you guessed it! — `GROUP BY` comes in handy.\n",
    "\n",
    "``` sql\n",
    "SELECT breed, COUNT(breed) FROM cats GROUP BY breed;\n",
    "```"
   ]
  },
  {
   "cell_type": "code",
   "execution_count": 23,
   "metadata": {},
   "outputs": [
    {
     "data": {
      "text/plain": [
       "[('American Shorthair',), ('Calico',), ('Scottish Fold',), ('Tabby',)]"
      ]
     },
     "execution_count": 23,
     "metadata": {},
     "output_type": "execute_result"
    }
   ],
   "source": [
    "cur.execute(\"\"\"\n",
    "                SELECT breed \n",
    "                FROM cats \n",
    "                GROUP BY breed\n",
    "                ;\"\"\").fetchall() "
   ]
  },
  {
   "cell_type": "code",
   "execution_count": 26,
   "metadata": {},
   "outputs": [
    {
     "data": {
      "text/plain": [
       "[('American Shorthair', None, 1),\n",
       " ('Calico', None, 1),\n",
       " ('Scottish Fold', 1, 1),\n",
       " ('Tabby', None, 2),\n",
       " ('Tabby', 1, 1)]"
      ]
     },
     "execution_count": 26,
     "metadata": {},
     "output_type": "execute_result"
    }
   ],
   "source": [
    "cur.execute(\"\"\"\n",
    "                SELECT breed,owner_id,\n",
    "                COUNT(breed) \n",
    "                FROM cats \n",
    "                GROUP BY breed, owner_id\n",
    "            ;\"\"\").fetchall() "
   ]
  },
  {
   "cell_type": "code",
   "execution_count": 27,
   "metadata": {},
   "outputs": [
    {
     "data": {
      "text/plain": [
       "[('Maru',), ('Hana',), (\"Lil' Bub\",), ('Moe',), ('Patches',), (None,)]"
      ]
     },
     "execution_count": 27,
     "metadata": {},
     "output_type": "execute_result"
    }
   ],
   "source": [
    "cur.execute(\"\"\"SELECT cats.name FROM cats;\"\"\").fetchall() "
   ]
  },
  {
   "cell_type": "code",
   "execution_count": 31,
   "metadata": {},
   "outputs": [],
   "source": [
    "conn = sqlite3.connect('dogs.db')\n",
    "cur = conn.cursor()"
   ]
  },
  {
   "cell_type": "code",
   "execution_count": 32,
   "metadata": {},
   "outputs": [
    {
     "data": {
      "text/plain": [
       "[('Snoopy', 'beagle'),\n",
       " ('McGruff', 'bloodhound'),\n",
       " ('Scooby', 'great dane'),\n",
       " ('Little Ann', 'coonhound'),\n",
       " ('Pickles', 'black lab'),\n",
       " ('Clifford', 'big red'),\n",
       " ('Lassie', 'collie'),\n",
       " ('Snowy', 'fox terrier'),\n",
       " (None, 'golden retriever')]"
      ]
     },
     "execution_count": 32,
     "metadata": {},
     "output_type": "execute_result"
    }
   ],
   "source": [
    "cur.execute(\"\"\"SELECT name, breed FROM dogs;\"\"\").fetchall()"
   ]
  },
  {
   "cell_type": "code",
   "execution_count": 47,
   "metadata": {},
   "outputs": [
    {
     "data": {
      "text/plain": [
       "[(None,),\n",
       " ('Clifford',),\n",
       " ('Lassie',),\n",
       " ('Little Ann',),\n",
       " ('McGruff',),\n",
       " ('Pickles',),\n",
       " ('Scooby',),\n",
       " ('Snoopy',),\n",
       " ('Snowy',)]"
      ]
     },
     "execution_count": 47,
     "metadata": {},
     "output_type": "execute_result"
    }
   ],
   "source": [
    "cur.execute(\"\"\"\n",
    "                SELECT name \n",
    "                FROM dogs\n",
    "                ORDER BY name\n",
    "            ;\"\"\").fetchall()  # ASC|DES"
   ]
  },
  {
   "cell_type": "code",
   "execution_count": 52,
   "metadata": {},
   "outputs": [
    {
     "data": {
      "text/plain": [
       "[('Snoopy', 'beagle'),\n",
       " ('Clifford', 'big red'),\n",
       " (None, 'golden retriever'),\n",
       " ('Scooby', 'great dane'),\n",
       " ('Lassie', 'collie'),\n",
       " ('Pickles', 'black lab')]"
      ]
     },
     "execution_count": 52,
     "metadata": {},
     "output_type": "execute_result"
    }
   ],
   "source": [
    "cur.execute(\"\"\"\n",
    "                SELECT name, breed\n",
    "                FROM dogs\n",
    "                WHERE  hungry = 1\n",
    "                ORDER BY age\n",
    "                \n",
    "            ;\"\"\").fetchall()"
   ]
  },
  {
   "cell_type": "code",
   "execution_count": 53,
   "metadata": {},
   "outputs": [
    {
     "data": {
      "text/plain": [
       "[('Pickles', 13, 'mischievous')]"
      ]
     },
     "execution_count": 53,
     "metadata": {},
     "output_type": "execute_result"
    }
   ],
   "source": [
    "cur.execute(\"\"\"\n",
    "                SELECT name, age, temperament\n",
    "                FROM dogs\n",
    "                ORDER BY age DESC\n",
    "                LIMIT 1\n",
    "                \n",
    "            ;\"\"\").fetchall()"
   ]
  },
  {
   "cell_type": "code",
   "execution_count": 54,
   "metadata": {},
   "outputs": [
    {
     "data": {
      "text/plain": [
       "[(1, 'Snoopy', 3, 'M', 'beagle', 'friendly', 1),\n",
       " (6, 'Clifford', 4, 'M', 'big red', 'smiley', 1),\n",
       " (9, None, 4, 'M', 'golden retriever', 'playful', 1)]"
      ]
     },
     "execution_count": 54,
     "metadata": {},
     "output_type": "execute_result"
    }
   ],
   "source": [
    "cur.execute(\"\"\"\n",
    "                SELECT *\n",
    "                FROM dogs\n",
    "                ORDER BY age\n",
    "                LIMIT 3\n",
    "                \n",
    "            ;\"\"\").fetchall()"
   ]
  },
  {
   "cell_type": "code",
   "execution_count": 55,
   "metadata": {},
   "outputs": [
    {
     "data": {
      "text/plain": [
       "[('McGruff', 'bloodhound'),\n",
       " ('Snowy', 'fox terrier'),\n",
       " ('Lassie', 'collie'),\n",
       " ('Scooby', 'great dane'),\n",
       " ('Little Ann', 'coonhound')]"
      ]
     },
     "execution_count": 55,
     "metadata": {},
     "output_type": "execute_result"
    }
   ],
   "source": [
    "cur.execute(\"\"\"\n",
    "                SELECT name, breed\n",
    "                FROM dogs\n",
    "                WHERE age BETWEEN 5 and 10 \n",
    "                ORDER BY age DESC\n",
    "                \n",
    "            ;\"\"\").fetchall()"
   ]
  },
  {
   "cell_type": "markdown",
   "metadata": {},
   "source": [
    "### Select the name, age, and hungry columns for hungry dogs between the ages of two and seven.  This query should also list these dogs in alphabetical order."
   ]
  },
  {
   "cell_type": "code",
   "execution_count": 59,
   "metadata": {},
   "outputs": [],
   "source": [
    "import pandas as pd"
   ]
  },
  {
   "cell_type": "code",
   "execution_count": 69,
   "metadata": {},
   "outputs": [
    {
     "data": {
      "text/html": [
       "<div>\n",
       "<style scoped>\n",
       "    .dataframe tbody tr th:only-of-type {\n",
       "        vertical-align: middle;\n",
       "    }\n",
       "\n",
       "    .dataframe tbody tr th {\n",
       "        vertical-align: top;\n",
       "    }\n",
       "\n",
       "    .dataframe thead th {\n",
       "        text-align: right;\n",
       "    }\n",
       "</style>\n",
       "<table border=\"1\" class=\"dataframe\">\n",
       "  <thead>\n",
       "    <tr style=\"text-align: right;\">\n",
       "      <th></th>\n",
       "      <th>name</th>\n",
       "      <th>age</th>\n",
       "      <th>hungry</th>\n",
       "    </tr>\n",
       "  </thead>\n",
       "  <tbody>\n",
       "    <tr>\n",
       "      <th>0</th>\n",
       "      <td>None</td>\n",
       "      <td>4</td>\n",
       "      <td>1</td>\n",
       "    </tr>\n",
       "    <tr>\n",
       "      <th>1</th>\n",
       "      <td>Clifford</td>\n",
       "      <td>4</td>\n",
       "      <td>1</td>\n",
       "    </tr>\n",
       "    <tr>\n",
       "      <th>2</th>\n",
       "      <td>Lassie</td>\n",
       "      <td>7</td>\n",
       "      <td>1</td>\n",
       "    </tr>\n",
       "    <tr>\n",
       "      <th>3</th>\n",
       "      <td>Little Ann</td>\n",
       "      <td>5</td>\n",
       "      <td>0</td>\n",
       "    </tr>\n",
       "    <tr>\n",
       "      <th>4</th>\n",
       "      <td>Scooby</td>\n",
       "      <td>6</td>\n",
       "      <td>1</td>\n",
       "    </tr>\n",
       "    <tr>\n",
       "      <th>5</th>\n",
       "      <td>Snoopy</td>\n",
       "      <td>3</td>\n",
       "      <td>1</td>\n",
       "    </tr>\n",
       "  </tbody>\n",
       "</table>\n",
       "</div>"
      ],
      "text/plain": [
       "         name  age  hungry\n",
       "0        None    4       1\n",
       "1    Clifford    4       1\n",
       "2      Lassie    7       1\n",
       "3  Little Ann    5       0\n",
       "4      Scooby    6       1\n",
       "5      Snoopy    3       1"
      ]
     },
     "execution_count": 69,
     "metadata": {},
     "output_type": "execute_result"
    }
   ],
   "source": [
    "df = pd.DataFrame(cur.execute(\"\"\"\n",
    "                SELECT name, age, hungry\n",
    "                FROM dogs\n",
    "                WHERE age BETWEEN 2 and 7 \n",
    "                ORDER BY name\n",
    "                \n",
    "            ;\"\"\").fetchall())\n",
    "df.columns = [x[0] for x in cur.description]\n",
    "df"
   ]
  },
  {
   "cell_type": "code",
   "execution_count": null,
   "metadata": {},
   "outputs": [],
   "source": [
    "df.col"
   ]
  }
 ],
 "metadata": {
  "kernelspec": {
   "display_name": "social_net_env",
   "language": "python",
   "name": "social_net_env"
  },
  "language_info": {
   "codemirror_mode": {
    "name": "ipython",
    "version": 3
   },
   "file_extension": ".py",
   "mimetype": "text/x-python",
   "name": "python",
   "nbconvert_exporter": "python",
   "pygments_lexer": "ipython3",
   "version": "3.7.6"
  }
 },
 "nbformat": 4,
 "nbformat_minor": 4
}
