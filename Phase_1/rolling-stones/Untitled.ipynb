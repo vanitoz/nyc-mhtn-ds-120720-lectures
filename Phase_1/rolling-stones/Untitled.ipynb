{
 "cells": [
  {
   "cell_type": "code",
   "execution_count": 1,
   "metadata": {},
   "outputs": [
    {
     "data": {
      "text/plain": [
       "'/Users/ivan/Flat_Iron_Theory/nyc-mhtn-ds-120720-lectures/Phase_1/rolling-stones'"
      ]
     },
     "execution_count": 1,
     "metadata": {},
     "output_type": "execute_result"
    }
   ],
   "source": [
    "pwd"
   ]
  },
  {
   "cell_type": "code",
   "execution_count": 2,
   "metadata": {},
   "outputs": [
    {
     "name": "stdout",
     "output_type": "stream",
     "text": [
      "/Users/ivan/Flat_Iron_Theory/nyc-mhtn-ds-120720-lectures/Phase_1\n"
     ]
    }
   ],
   "source": [
    "cd .."
   ]
  },
  {
   "cell_type": "code",
   "execution_count": 3,
   "metadata": {},
   "outputs": [
    {
     "name": "stdout",
     "output_type": "stream",
     "text": [
      "/Users/ivan/Flat_Iron_Theory/nyc-mhtn-ds-120720-lectures\n"
     ]
    }
   ],
   "source": [
    "cd .."
   ]
  },
  {
   "cell_type": "code",
   "execution_count": 4,
   "metadata": {},
   "outputs": [
    {
     "name": "stdout",
     "output_type": "stream",
     "text": [
      "/Users/ivan/Flat_Iron_Theory\n"
     ]
    }
   ],
   "source": [
    "cd .."
   ]
  },
  {
   "cell_type": "code",
   "execution_count": 5,
   "metadata": {},
   "outputs": [
    {
     "name": "stdout",
     "output_type": "stream",
     "text": [
      "/Users/ivan\n"
     ]
    }
   ],
   "source": [
    "cd .."
   ]
  },
  {
   "cell_type": "code",
   "execution_count": 6,
   "metadata": {},
   "outputs": [
    {
     "name": "stdout",
     "output_type": "stream",
     "text": [
      "\u001b[34mApplications\u001b[m\u001b[m/\n",
      "\u001b[34mApplied Data Science with Python(graduated\u001b[m\u001b[m/\n",
      "\u001b[34mDesktop\u001b[m\u001b[m/\n",
      "\u001b[34mDocuments\u001b[m\u001b[m/\n",
      "\u001b[34mDownloads\u001b[m\u001b[m/\n",
      "\u001b[34mFL_week1\u001b[m\u001b[m/\n",
      "\u001b[34mFlat_Iron_Prep\u001b[m\u001b[m/\n",
      "\u001b[34mFlat_Iron_Theory\u001b[m\u001b[m/\n",
      "\u001b[34mLibrary\u001b[m\u001b[m/\n",
      "\u001b[34mMovies\u001b[m\u001b[m/\n",
      "\u001b[34mMusic\u001b[m\u001b[m/\n",
      "\u001b[34mPictures\u001b[m\u001b[m/\n",
      "\u001b[34mPortfolio_Construction_Analysis_Python_LABS\u001b[m\u001b[m/\n",
      "\u001b[34mPublic\u001b[m\u001b[m/\n",
      "\u001b[34mPython For Everyone\u001b[m\u001b[m/\n",
      "\u001b[34mPython_Programming_Specialization\u001b[m\u001b[m/\n",
      "\u001b[34mSaad-Ivan\u001b[m\u001b[m/\n",
      "\u001b[34mStaticics_w_Python\u001b[m\u001b[m/\n",
      "\u001b[34mUntitled Folder\u001b[m\u001b[m/\n",
      "\u001b[34m__pycache__\u001b[m\u001b[m/\n",
      "example.md\n",
      "\u001b[34mnltk_data\u001b[m\u001b[m/\n",
      "\u001b[34mopt\u001b[m\u001b[m/\n",
      "\u001b[34mseaborn-data\u001b[m\u001b[m/\n",
      "\u001b[34mwarmups_nyc\u001b[m\u001b[m/\n"
     ]
    }
   ],
   "source": [
    "ls"
   ]
  },
  {
   "cell_type": "code",
   "execution_count": 7,
   "metadata": {},
   "outputs": [
    {
     "name": "stdout",
     "output_type": "stream",
     "text": [
      "/Users/ivan/warmups_nyc\n"
     ]
    }
   ],
   "source": [
    "cd warmups_nyc/"
   ]
  },
  {
   "cell_type": "code",
   "execution_count": 8,
   "metadata": {},
   "outputs": [
    {
     "name": "stdout",
     "output_type": "stream",
     "text": [
      "\u001b[34mdsc-central_tendency_warmup\u001b[m\u001b[m/ \u001b[34mdsc-for_loop_warmup\u001b[m\u001b[m/\n",
      "\u001b[34mdsc-dictionary_warmup\u001b[m\u001b[m/\n"
     ]
    }
   ],
   "source": [
    "ls"
   ]
  },
  {
   "cell_type": "code",
   "execution_count": 10,
   "metadata": {},
   "outputs": [
    {
     "name": "stdout",
     "output_type": "stream",
     "text": [
      "/Users/ivan/warmups_nyc/dsc-central_tendency_warmup\n"
     ]
    }
   ],
   "source": [
    "cd dsc-central_tendency_warmup"
   ]
  },
  {
   "cell_type": "code",
   "execution_count": 11,
   "metadata": {},
   "outputs": [
    {
     "name": "stdout",
     "output_type": "stream",
     "text": [
      "README.md    \u001b[34mdata\u001b[m\u001b[m/        index.ipynb  \u001b[34mindex_files\u001b[m\u001b[m/ \u001b[34msublessons\u001b[m\u001b[m/\n"
     ]
    }
   ],
   "source": [
    "ls"
   ]
  },
  {
   "cell_type": "code",
   "execution_count": null,
   "metadata": {},
   "outputs": [],
   "source": []
  }
 ],
 "metadata": {
  "kernelspec": {
   "display_name": "Python 3",
   "language": "python",
   "name": "python3"
  },
  "language_info": {
   "codemirror_mode": {
    "name": "ipython",
    "version": 3
   },
   "file_extension": ".py",
   "mimetype": "text/x-python",
   "name": "python",
   "nbconvert_exporter": "python",
   "pygments_lexer": "ipython3",
   "version": "3.7.6"
  }
 },
 "nbformat": 4,
 "nbformat_minor": 4
}
