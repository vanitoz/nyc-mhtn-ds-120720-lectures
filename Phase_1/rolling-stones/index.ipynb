{
 "cells": [
  {
   "cell_type": "markdown",
   "metadata": {},
   "source": [
    "# Instructions:"
   ]
  },
  {
   "cell_type": "markdown",
   "metadata": {},
   "source": [
    "## Getting Started\n",
    "In this exercise, we will be using data from `rolling stone's top 500 albums`. We have this data contained in the `data.csv` file. We will be building out the following functions to answer questions and interact with this data.\n",
    "\n",
    "> **remember:** reading from a csv file in python looks like the following:\n",
    "\n",
    "```python \n",
    "import csv\n",
    "\n",
    "    with open(file_name) as f:\n",
    "        # we are using DictReader because we want our information to be in dictionary format.\n",
    "        reader = csv.DictReader(f)\n",
    "        # some more code\n",
    "```\n",
    "\n",
    "Once we have our `reader` reading our file as dictionaries, we want our data to be a list of dictionaries. So, we need to loop through our `reader` and create a list. *hint: list comprehension / for loops are your friend\"\n",
    "\n",
    "```python\n",
    "# our data will look something like this once we have read it and turned it into a list of `OrderedDict`s\n",
    "# don't worry, the ordered dicts look different but we can interact with them the same way we do normal dicts\n",
    "[OrderedDict([('number', '1'), ('year', '1967'), ('album', \"Sgt. Pepper's Lonely Hearts Club Band\"), ('artist', 'The Beatles'), ('genre', 'Rock'), ('subgenre', 'Rock & Roll, Psychedelic Rock')]), OrderedDict([('number', '2'), ('year', '1966'), ('album', 'Pet Sounds'), ('artist', 'The Beach Boys'), ('genre', 'Rock'), ('subgenre', 'Pop Rock, Psychedelic Rock')]), OrderedDict([('number', '3'), ('year', '1966'), ('album', 'Revolver'), ('artist', 'The Beatles'), ('genre', 'Rock'), ('subgenre', 'Psychedelic Rock, Pop Rock')])]\n",
    "```\n",
    "\n",
    "After we have our data formated the way we want it, we can now begin working on defining our functions."
   ]
  },
  {
   "cell_type": "markdown",
   "metadata": {},
   "source": [
    "\n",
    "### Functions to build-out:\n",
    "\n",
    "Each of the following functions can be defined in the `functions.py` file. \n",
    "\n",
    "* **Searching functions**\n",
    "  * Find by name - Takes in a string that represents the name of an album. Should return a dictionary with the correct album, or return `None`.\n",
    "  * Find by rank - Takes in a number that represents the rank in the list of top albums and returns the album with that rank. If there is no album with that rank, it returns `None`.\n",
    "  * Find by year - Takes in a number for the year in which an album was released and returns a list of albums that were released in that year. If there are no albums released in the given year, it returns an empty list.\n",
    "  * Find by years - Takes in a start year and end year. Returns a list of all albums that were released on or between the start and end years. If no albums are found for those years, then an empty list is returned. \n",
    "  * Find by ranks - Takes in a start rank and end rank. Returns a list of albums that are ranked between the start and end ranks. If no albums are found for those ranks, then an empty list is returned.\n",
    "* **All functions**\n",
    "  * All titles - Returns a list of titles for each album.\n",
    "  * All artists - Returns a list of artist names for each album.\n",
    "* **Questions to answer / functions**\n",
    "  * Artists with the most albums - Returns the artist with the highest amount of albums on the list of top albums \n",
    "  * Most popular word - Returns the word used most in amongst all album titles\n",
    "  * Histogram of albums by decade - Returns a histogram with each decade pointing to the number of albums released during that decade.\n",
    "  * Histogram by genre - Returns a histogram with each genre pointing to the number of albums that are categorized as being in that genre."
   ]
  },
  {
   "cell_type": "code",
   "execution_count": 57,
   "metadata": {},
   "outputs": [],
   "source": [
    "import csv\n",
    "with open('data.csv') as f:\n",
    "# we are using DictReader because we want our information to be in dictionary format.\n",
    "    reader = csv.DictReader(f)\n",
    "    info_lst =list(reader)"
   ]
  },
  {
   "cell_type": "code",
   "execution_count": 123,
   "metadata": {},
   "outputs": [
    {
     "data": {
      "text/plain": [
       "OrderedDict([('number', '1'),\n",
       "             ('year', '1967'),\n",
       "             ('album', \"Sgt. Pepper's Lonely Hearts Club Band\"),\n",
       "             ('artist', 'The Beatles'),\n",
       "             ('genre', 'Rock'),\n",
       "             ('subgenre', 'Rock & Roll, Psychedelic Rock')])"
      ]
     },
     "execution_count": 123,
     "metadata": {},
     "output_type": "execute_result"
    }
   ],
   "source": [
    "info_lst[0]"
   ]
  },
  {
   "cell_type": "code",
   "execution_count": null,
   "metadata": {},
   "outputs": [],
   "source": [
    "def find_by_name(string):\n",
    "    \"\"\"\n",
    "     Takes in a string that represents the name of an album.\n",
    "     Should return a dictionary with the correct album, or return None\n",
    "    \"\"\"\n",
    "    for d in info_lst:\n",
    "        if d['album'] == string:\n",
    "            return dict(d)\n",
    "    return (\"There is no album with name: '{}'\").format(string)"
   ]
  },
  {
   "cell_type": "code",
   "execution_count": 95,
   "metadata": {},
   "outputs": [],
   "source": [
    "def find_by_rank(rank):\n",
    "    \"\"\"\n",
    "    Takes in a number that represents the rank in the list of top albums\n",
    "    and returns the album with that rank. If there is no album with that rank, it returns None\n",
    "    \"\"\"\n",
    "    for d in info_lst:\n",
    "        if int(d['number']) == rank:\n",
    "            return dict(d)\n",
    "    return (\"There is no Album with rank: '{}'\").format(rank)"
   ]
  },
  {
   "cell_type": "code",
   "execution_count": 97,
   "metadata": {},
   "outputs": [],
   "source": [
    "def find_by_year(year):\n",
    "    \"\"\"\n",
    "    Takes in a number for the year in which an album was released and returns a list of\n",
    "    albums that were released in that year. If there are no albums released in the given\n",
    "    year, it returns an empty list.\n",
    "    \"\"\"\n",
    "    lst_of_albums = []\n",
    "    \n",
    "    for d in info_lst:\n",
    "        if int(d['year']) == year:\n",
    "            lst_of_albums.append(d['album'])\n",
    "            \n",
    "    return lst_of_albums"
   ]
  },
  {
   "cell_type": "code",
   "execution_count": 140,
   "metadata": {},
   "outputs": [],
   "source": [
    "def find_by_years(start_year,end_year):\n",
    "    \"\"\"\n",
    "    Find by years - Takes in a start year and end year.\n",
    "    Returns a list of all albums that were released on or between the start\n",
    "    and end years. If no albums are found for those years, then an empty list is returned.\n",
    "    \n",
    "    params :start_year - smaller year\n",
    "            end_year - bigger year\n",
    "    \"\"\"\n",
    "    lst_of_albums = []\n",
    "    \n",
    "    for d in info_lst:\n",
    "        if (int(d['year'])<=end_year ) and (int(d['year'])>=start_year):\n",
    "            lst_of_albums.append(d['album'])\n",
    "    \n",
    "    return lst_of_albums"
   ]
  },
  {
   "cell_type": "code",
   "execution_count": 143,
   "metadata": {},
   "outputs": [],
   "source": [
    "def find_by_ranks(rank_1,rank_2):\n",
    "    \"\"\"\n",
    "    Takes in a start rank and end rank. Returns a list of albums that are\n",
    "    ranked between the start and end ranks. If no albums are found for those\n",
    "    ranks, then an empty list is returned.\n",
    "    params :rank_1 - smaller rank\n",
    "            rank_2 - bigger rank\n",
    "    \"\"\"\n",
    "    lst_of_albums = []\n",
    "    \n",
    "    for d in info_lst:\n",
    "        if (int(d['number'])<=rank_2 ) and (int(d['number'])>=rank_1):\n",
    "            lst_of_albums.append(d['album'])\n",
    "    \n",
    "    return lst_of_albums"
   ]
  },
  {
   "cell_type": "markdown",
   "metadata": {},
   "source": [
    "\n",
    "## Next Steps"
   ]
  },
  {
   "cell_type": "code",
   "execution_count": 11,
   "metadata": {},
   "outputs": [
    {
     "name": "stdout",
     "output_type": "stream",
     "text": [
      "['1\\tLike a Rolling Stone\\tBob Dylan\\t1965\\n', '2\\tSatisfaction\\tThe Rolling Stones\\t1965\\n', '3\\tImagine\\tJohn Lennon\\t1971\\n', \"4\\tWhat's Going On\\tMarvin Gaye\\t1971\\n\"]\n"
     ]
    }
   ],
   "source": [
    "text_file = open('top-500-songs.txt', 'r')\n",
    "lines = text_file.readlines()\n",
    "print(lines[:4])"
   ]
  },
  {
   "cell_type": "code",
   "execution_count": 20,
   "metadata": {},
   "outputs": [
    {
     "data": {
      "text/plain": [
       "['1', 'Like a Rolling Stone', 'Bob Dylan', '1965']"
      ]
     },
     "execution_count": 20,
     "metadata": {},
     "output_type": "execute_result"
    }
   ],
   "source": [
    "lines[0].strip().split('\\t')"
   ]
  },
  {
   "cell_type": "code",
   "execution_count": 19,
   "metadata": {},
   "outputs": [
    {
     "data": {
      "text/plain": [
       "[('number', '1'),\n",
       " ('album', 'Like a Rolling Stone'),\n",
       " ('artist', 'Bob Dylan'),\n",
       " ('year', '1965\\n')]"
      ]
     },
     "execution_count": 19,
     "metadata": {},
     "output_type": "execute_result"
    }
   ],
   "source": [
    "header =['number','album','artist','year']\n",
    "list(zip(header,lines[0].split('\\t')))"
   ]
  },
  {
   "cell_type": "markdown",
   "metadata": {},
   "source": [
    "### Working with the top 500 songs"
   ]
  },
  {
   "cell_type": "markdown",
   "metadata": {},
   "source": [
    "If we can't already re-use our searching functions (i.e. Find by name, Find by rank, Find by year, Find by years, Find by ranks), all functions (i.e. all titles, all artists), and questions-to-answer functions (i.e. Artists with the most albums (or songs), Most popular word, Histogram by decade, Histogram by genre) with the song data we just formatted, then refactor these functions so that they can be used with either set of data. This is a good practice for ensuring that our code is as reusable and modular as possible, which is important when writing code for any project, especially when it comes time to scale a project. Things are easier to read, and there is less code to worry about (and more importantly there is less code to debug when something goes wrong).\n",
    "\n",
    "Once we have our functions working for both sets of data, we can start writing new functions!\n",
    "\n",
    "Luckily for us, this next dataset is already made for us. We were curious to find out which songs on the top 500 songs overlapped with the top albums and vice versa. So, we created a data set that is a list of dictionaries in JSON format. Each dictionary contains the name of the artist, the album, and the tracks (songs) on that given album. We can use this data to check which songs on the top 500 list are featured on the albums on the top albums list.\n",
    "\n",
    "To load our JSON file we will write:\n",
    "\n",
    "```python\n",
    "import json\n",
    "\n",
    "file = open('track_data.json', 'r')\n",
    "json_data = json.load(file)\n",
    "\n",
    "print(json_data)\n",
    "# output will look like this:\n",
    "[{'artist': 'The Beatles', 'album': \"Sgt. Pepper's Lonely Hearts Club Band\", 'tracks': [\"Sgt. Pepper's Lonely Hearts Club Band - Remix\", 'With A Little Help From My Friends - Remix', 'Lucy In The Sky With Diamonds - Remix', 'Getting Better - Remix', 'Fixing A Hole - Remix', \"She's Leaving Home - Remix\", 'Being For The Benefit Of Mr. Kite! - Remix', 'Within You Without You - Remix', \"When I'm Sixty-Four - Remix\", 'Lovely Rita - Remix', 'Good Morning Good Morning - Remix', \"Sgt. Pepper's Lonely Hearts Club Band (Reprise) - Remix\", 'A Day In The Life - Remix', \"Sgt. Pepper's Lonely Hearts Club Band - Take 9 And Speech\", 'With A Little Help From My Friends - Take 1 / False Start And Take 2 / Instrumental', 'Lucy In The Sky With Diamonds - Take 1', 'Getting Better - Take 1 / Instrumental And Speech At The End', 'Fixing A Hole - Speech And Take 3', \"She's Leaving Home - Take 1 / Instrumental\", 'Being For The Benefit Of Mr. Kite! - Take 4', 'Within You Without You - Take 1 / Indian Instruments', \"When I'm Sixty-Four - Take 2\", 'Lovely Rita - Speech And Take 9', 'Good Morning Good Morning - Take 8', \"Sgt. Pepper's Lonely Hearts Club Band (Reprise) - Speech And Take 8\", 'A Day In The Life - Take 1 With Hums', 'Strawberry Fields Forever - Take 7', 'Strawberry Fields Forever - Take 26', 'Strawberry Fields Forever - Stereo Mix 2015', 'Penny Lane - Take 6 / Instrumental', 'Penny Lane - Stereo Mix 2017']}, {'artist': 'The Beach Boys', 'album': 'Pet Sounds', 'tracks': [\"Wouldn't It Be Nice - Digitally Remastered 96\", 'You Still Believe In Me - Digitally Remastered 96', \"That's Not Me - 1996 Digital Remaster\", \"Don't Talk (Put Your Head On My Shoulder) - 1996 Digital Remaster\", \"I'm Waiting For The Day - Digitally Remastered 96\", \"Let's Go Away For Awhile - Digitally Remastered 96\", 'Sloop John B - 1996 - Remaster', 'God Only Knows - 1997 - Remaster', \"I Know There's An Answer - Digitally Remastered 96\", 'Here Today - Digitally Remastered 96', \"I Just Wasn't Made For These Times - Digitally Remastered 96\", 'Pet Sounds - Digitally Remastered 96', 'Caroline, No - 1996 Digital Remaster', 'Hang On To Your Ego', \"Wouldn't It Be Nice - 2000 - Remaster\", 'You Still Believe In Me - 1996 Digital Remaster', \"That's Not Me - 1996 Digital Remaster\", \"Don't Talk (Put Your Head On My Shoulder) - 1996 Digital Remaster\", \"I'm Waiting For The Day - 1996 Digital Remaster\", \"Let's Go Away For Awhile - 1996 Digital Remaster\", 'Sloop John B - 1996 Digital Remaster', 'God Only Knows - 1996 Digital Remaster', \"I Know There's An Answer - 1996 Digital Remaster\", 'Here Today - 1996 Digital Remaster', \"I Just Wasn't Made For These Times - 1996 Digital Remaster\", 'Pet Sounds - 1996 Digital Remaster', 'Caroline, No - 1996 Digital Remaster']}, {'artist': 'The Beatles', 'album': 'Revolver', 'tracks': ['Taxman - Remastered', 'Eleanor Rigby - Remastered', \"I'm Only Sleeping - Remastered\", 'Love You To - Remastered', 'Here, There And Everywhere - Remastered', 'Yellow Submarine - Remastered', 'She Said She Said - Remastered', 'Good Day Sunshine - Remastered', 'And Your Bird Can Sing - Remastered', 'For No One - Remastered', 'Doctor Robert - Remastered', 'I Want To Tell You - Remastered', 'Got To Get You Into My Life - Remastered', 'Tomorrow Never Knows - Remastered']}, {'artist': 'Bob Dylan', 'album': 'Highway 61 Revisited', 'tracks': ['Like a Rolling Stone', 'Tombstone Blues', 'It Takes a Lot to Laugh, It Takes a Train to Cry', 'From a Buick 6', 'Ballad of a Thin Man', 'Queen Jane Approximately', 'Highway 61 Revisited', \"Just Like Tom Thumb's Blues\", 'Desolation Row']}, ...]\n",
    "```"
   ]
  },
  {
   "cell_type": "code",
   "execution_count": 1,
   "metadata": {},
   "outputs": [],
   "source": [
    "import json\n",
    "\n",
    "file = open('track_data.json', 'r')\n",
    "json_data = json.load(file)\n",
    "\n",
    "# print(json_data)"
   ]
  },
  {
   "cell_type": "markdown",
   "metadata": {},
   "source": [
    "### Define the following functions:\n",
    "\n",
    "**albumWithMostTopSongs** - returns the name of the artist and album that has that most songs featured on the top 500 songs list\n",
    "\n",
    "**albumsWithTopSongs** - returns a list with the name of only the albums that have tracks featured on the list of top 500 songs\n",
    "\n",
    "**songsThatAreOnTopAlbums** - returns a list with the name of only the songs featured on the list of top albums\n",
    "\n",
    "**top10AlbumsByTopSongs** - returns a histogram with the 10 albums that have the most songs that appear in the top songs list. The album names should point to the number of songs that appear on the top 500 songs list.\n",
    "\n",
    "**topOverallArtist** - Artist featured with the most songs and albums on the two lists. This means that if Brittany Spears had 3 of her albums featured on the top albums listed and 10 of her songs featured on the top songs, she would have a total of 13. The artist with the highest aggregate score would be the top overall artist."
   ]
  }
 ],
 "metadata": {
  "kernelspec": {
   "display_name": "Python 3",
   "language": "python",
   "name": "python3"
  },
  "language_info": {
   "codemirror_mode": {
    "name": "ipython",
    "version": 3
   },
   "file_extension": ".py",
   "mimetype": "text/x-python",
   "name": "python",
   "nbconvert_exporter": "python",
   "pygments_lexer": "ipython3",
   "version": "3.7.6"
  }
 },
 "nbformat": 4,
 "nbformat_minor": 4
}
