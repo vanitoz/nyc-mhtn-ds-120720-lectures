{
 "cells": [
  {
   "cell_type": "markdown",
   "metadata": {},
   "source": [
    "# Instructions:"
   ]
  },
  {
   "cell_type": "markdown",
   "metadata": {},
   "source": [
    "## Getting Started\n",
    "In this exercise, we will be using data from `rolling stone's top 500 albums`. We have this data contained in the `data.csv` file. We will be building out the following functions to answer questions and interact with this data.\n",
    "\n",
    "> **remember:** reading from a csv file in python looks like the following:\n",
    "\n",
    "```python \n",
    "import csv\n",
    "\n",
    "    with open(file_name) as f:\n",
    "        # we are using DictReader because we want our information to be in dictionary format.\n",
    "        reader = csv.DictReader(f)\n",
    "        # some more code\n",
    "```\n",
    "\n",
    "Once we have our `reader` reading our file as dictionaries, we want our data to be a list of dictionaries. So, we need to loop through our `reader` and create a list. *hint: list comprehension / for loops are your friend\"\n",
    "\n",
    "```python\n",
    "# our data will look something like this once we have read it and turned it into a list of `OrderedDict`s\n",
    "# don't worry, the ordered dicts look different but we can interact with them the same way we do normal dicts\n",
    "[OrderedDict([('number', '1'), ('year', '1967'), ('album', \"Sgt. Pepper's Lonely Hearts Club Band\"), ('artist', 'The Beatles'), ('genre', 'Rock'), ('subgenre', 'Rock & Roll, Psychedelic Rock')]), OrderedDict([('number', '2'), ('year', '1966'), ('album', 'Pet Sounds'), ('artist', 'The Beach Boys'), ('genre', 'Rock'), ('subgenre', 'Pop Rock, Psychedelic Rock')]), OrderedDict([('number', '3'), ('year', '1966'), ('album', 'Revolver'), ('artist', 'The Beatles'), ('genre', 'Rock'), ('subgenre', 'Psychedelic Rock, Pop Rock')])]\n",
    "```\n",
    "\n",
    "After we have our data formated the way we want it, we can now begin working on defining our functions."
   ]
  },
  {
   "cell_type": "markdown",
   "metadata": {},
   "source": [
    "\n",
    "### Functions to build-out:\n",
    "\n",
    "Each of the following functions can be defined in the `functions.py` file. \n",
    "\n",
    "* **Searching functions**\n",
    "  * Find by name - Takes in a string that represents the name of an album. Should return a dictionary with the correct album, or return `None`.\n",
    "  * Find by rank - Takes in a number that represents the rank in the list of top albums and returns the album with that rank. If there is no album with that rank, it returns `None`.\n",
    "  * Find by year - Takes in a number for the year in which an album was released and returns a list of albums that were released in that year. If there are no albums released in the given year, it returns an empty list.\n",
    "  * Find by years - Takes in a start year and end year. Returns a list of all albums that were released on or between the start and end years. If no albums are found for those years, then an empty list is returned. \n",
    "  * Find by ranks - Takes in a start rank and end rank. Returns a list of albums that are ranked between the start and end ranks. If no albums are found for those ranks, then an empty list is returned.\n",
    "* **All functions**\n",
    "  * All titles - Returns a list of titles for each album.\n",
    "  * All artists - Returns a list of artist names for each album.\n",
    "* **Questions to answer / functions**\n",
    "  * Artists with the most albums - Returns the artist with the highest amount of albums on the list of top albums \n",
    "  * Most popular word - Returns the word used most in amongst all album titles\n",
    "  * Histogram of albums by decade - Returns a histogram with each decade pointing to the number of albums released during that decade.\n",
    "  * Histogram by genre - Returns a histogram with each genre pointing to the number of albums that are categorized as being in that genre."
   ]
  },
  {
   "cell_type": "code",
   "execution_count": 17,
   "metadata": {},
   "outputs": [],
   "source": [
    "import csv\n",
    "import matplotlib.pyplot as plt\n",
    "with open('data.csv') as f:\n",
    "# we are using DictReader because we want our information to be in dictionary format.\n",
    "    reader = csv.DictReader(f)\n",
    "    albums_list =list(reader)"
   ]
  },
  {
   "cell_type": "code",
   "execution_count": 299,
   "metadata": {},
   "outputs": [
    {
     "data": {
      "text/plain": [
       "OrderedDict([('number', '1'),\n",
       "             ('year', '1967'),\n",
       "             ('album', \"Sgt. Pepper's Lonely Hearts Club Band\"),\n",
       "             ('artist', 'The Beatles'),\n",
       "             ('genre', 'Rock'),\n",
       "             ('subgenre', 'Rock & Roll, Psychedelic Rock')])"
      ]
     },
     "execution_count": 299,
     "metadata": {},
     "output_type": "execute_result"
    }
   ],
   "source": [
    "albums_list[0]"
   ]
  },
  {
   "cell_type": "code",
   "execution_count": 268,
   "metadata": {},
   "outputs": [],
   "source": [
    "def find_album_by_name(string):\n",
    "    \"\"\"\n",
    "     Takes in a string that represents the name of an album.\n",
    "     Should return a dictionary with the correct album, or return None\n",
    "    \"\"\"\n",
    "    for d in albums_list:\n",
    "        if d['album'] == string:\n",
    "            return dict(d)\n",
    "    return (\"There is no album with name: '{}'\").format(string)"
   ]
  },
  {
   "cell_type": "code",
   "execution_count": 269,
   "metadata": {},
   "outputs": [],
   "source": [
    "def find_album_by_rank(rank):\n",
    "    \"\"\"\n",
    "    Takes in a number that represents the rank in the list of top albums\n",
    "    and returns the album with that rank. If there is no album with that rank, it returns None\n",
    "    \"\"\"\n",
    "    for d in albums_list:\n",
    "        if int(d['number']) == rank:\n",
    "            return dict(d)\n",
    "    return (\"There is no Album with rank: '{}'\").format(rank)"
   ]
  },
  {
   "cell_type": "code",
   "execution_count": 270,
   "metadata": {},
   "outputs": [],
   "source": [
    "def find_album_by_year(year):\n",
    "    \"\"\"\n",
    "    Takes in a number for the year in which an album was released and returns a list of\n",
    "    albums that were released in that year. If there are no albums released in the given\n",
    "    year, it returns an empty list.\n",
    "    \"\"\"\n",
    "    lst_of_albums = []\n",
    "    \n",
    "    for d in albums_list:\n",
    "        if int(d['year']) == year:\n",
    "            lst_of_albums.append(d['album'])\n",
    "            \n",
    "    return lst_of_albums"
   ]
  },
  {
   "cell_type": "code",
   "execution_count": null,
   "metadata": {},
   "outputs": [],
   "source": []
  },
  {
   "cell_type": "code",
   "execution_count": 22,
   "metadata": {},
   "outputs": [],
   "source": [
    "def find_albums_by_years(start_year,end_year):\n",
    "    \"\"\"\n",
    "    Find by years - Takes in a start year and end year.\n",
    "    Returns a list of all albums that were released on or between the start\n",
    "    and end years. If no albums are found for those years, then an empty list is returned.\n",
    "    \n",
    "    params :start_year - smaller year\n",
    "            end_year - bigger year\n",
    "    \"\"\"\n",
    "    lst_of_albums = []\n",
    "    \n",
    "    for d in albums_list:\n",
    "        if (int(d['year'])<=end_year ) and (int(d['year'])>=start_year):\n",
    "            lst_of_albums.append(d['album'])\n",
    "    \n",
    "    return lst_of_albums"
   ]
  },
  {
   "cell_type": "code",
   "execution_count": 272,
   "metadata": {},
   "outputs": [],
   "source": [
    "#find_albums_by_years(1966,1985)"
   ]
  },
  {
   "cell_type": "code",
   "execution_count": 23,
   "metadata": {},
   "outputs": [],
   "source": [
    "def find_albums_by_ranks(rank_1,rank_2):\n",
    "    \"\"\"\n",
    "    Takes in a start rank and end rank. Returns a list of albums that are\n",
    "    ranked between the start and end ranks. If no albums are found for those\n",
    "    ranks, then an empty list is returned.\n",
    "    params :rank_1 - smaller rank\n",
    "            rank_2 - bigger rank\n",
    "    \"\"\"\n",
    "    lst_of_albums = []\n",
    "    \n",
    "    for d in albums_list:\n",
    "        if (int(d['number'])<=rank_2 ) and (int(d['number'])>=rank_1):\n",
    "            lst_of_albums.append(d['album'])\n",
    "    \n",
    "    return lst_of_albums"
   ]
  },
  {
   "cell_type": "markdown",
   "metadata": {},
   "source": [
    "# All titles - Returns a list of titles for each album."
   ]
  },
  {
   "cell_type": "code",
   "execution_count": 24,
   "metadata": {},
   "outputs": [
    {
     "data": {
      "text/plain": [
       "[\"Sgt. Pepper's Lonely Hearts Club Band\",\n",
       " 'Pet Sounds',\n",
       " 'Revolver',\n",
       " 'Highway 61 Revisited']"
      ]
     },
     "execution_count": 24,
     "metadata": {},
     "output_type": "execute_result"
    }
   ],
   "source": [
    "list_titles = [d['album'] for d in albums_list]\n",
    "list_titles[:4]"
   ]
  },
  {
   "cell_type": "code",
   "execution_count": 276,
   "metadata": {},
   "outputs": [
    {
     "data": {
      "text/plain": [
       "OrderedDict([('number', '1'),\n",
       "             ('year', '1967'),\n",
       "             ('album', \"Sgt. Pepper's Lonely Hearts Club Band\"),\n",
       "             ('artist', 'The Beatles'),\n",
       "             ('genre', 'Rock'),\n",
       "             ('subgenre', 'Rock & Roll, Psychedelic Rock')])"
      ]
     },
     "execution_count": 276,
     "metadata": {},
     "output_type": "execute_result"
    }
   ],
   "source": [
    "albums_list[0]"
   ]
  },
  {
   "cell_type": "markdown",
   "metadata": {},
   "source": [
    "# All artists - Returns a list of artist names for each album."
   ]
  },
  {
   "cell_type": "code",
   "execution_count": 281,
   "metadata": {},
   "outputs": [],
   "source": [
    "list_artist = [d['artist'] for d in albums_list]\n",
    "#set(list_artist)"
   ]
  },
  {
   "cell_type": "markdown",
   "metadata": {},
   "source": [
    "# Artists with the most albums - Returns the artist with the highest amount of albums on the list of top albums"
   ]
  },
  {
   "cell_type": "code",
   "execution_count": 26,
   "metadata": {},
   "outputs": [
    {
     "data": {
      "text/plain": [
       "['The Beatles', 'The Beach Boys', 'The Beatles', 'Bob Dylan', 'The Beatles']"
      ]
     },
     "execution_count": 26,
     "metadata": {},
     "output_type": "execute_result"
    }
   ],
   "source": [
    "list_artist[:5]"
   ]
  },
  {
   "cell_type": "code",
   "execution_count": 282,
   "metadata": {},
   "outputs": [
    {
     "data": {
      "text/plain": [
       "[('The Beatles', 10),\n",
       " ('Bob Dylan', 10),\n",
       " ('The Rolling Stones', 10),\n",
       " ('Bruce Springsteen', 8),\n",
       " ('The Who', 7),\n",
       " ('U2', 5)]"
      ]
     },
     "execution_count": 282,
     "metadata": {},
     "output_type": "execute_result"
    }
   ],
   "source": [
    "top_artists = {}\n",
    "\n",
    "for artist in list_artist:\n",
    "    \n",
    "    if artist not in top_artists:\n",
    "        top_artists[artist]=1\n",
    "    else:\n",
    "        top_artists[artist]+=1\n",
    "\n",
    "sorted_artists = sorted(top_artists.items(), key = lambda x: x[1], reverse=True)\n",
    "\n",
    "top_3_artists = [artist for artist,albums in sorted_artists[:3]]\n",
    "\n",
    "#top_3_artists\n",
    "sorted_artists[:6]"
   ]
  },
  {
   "cell_type": "markdown",
   "metadata": {},
   "source": [
    "# Most popular word - Returns the word used most in amongst all album titles"
   ]
  },
  {
   "cell_type": "code",
   "execution_count": 28,
   "metadata": {},
   "outputs": [
    {
     "data": {
      "text/plain": [
       "'The'"
      ]
     },
     "execution_count": 28,
     "metadata": {},
     "output_type": "execute_result"
    }
   ],
   "source": [
    "titels_words = {}\n",
    "\n",
    "for title in list_titles:\n",
    "    for word in title.split(' '):\n",
    "        if word in titels_words:\n",
    "            titels_words[word]+=1\n",
    "        else:\n",
    "            titels_words[word]=1\n",
    "            \n",
    "sorted_words = sorted(titels_words.items(), key = lambda x: x[1], reverse =True)\n",
    "sorted_words[0][0]"
   ]
  },
  {
   "cell_type": "markdown",
   "metadata": {},
   "source": [
    "# Histogram of albums by decade - Returns a histogram with each decade pointing to the number of albums released during that decade."
   ]
  },
  {
   "cell_type": "code",
   "execution_count": 29,
   "metadata": {},
   "outputs": [
    {
     "data": {
      "text/plain": [
       "Text(0,0.5,'Number of Albums')"
      ]
     },
     "execution_count": 29,
     "metadata": {},
     "output_type": "execute_result"
    },
    {
     "data": {
      "image/png": "[encoded data removed]",
      "text/plain": [
       "<Figure size 720x360 with 1 Axes>"
      ]
     },
     "metadata": {
      "needs_background": "light"
     },
     "output_type": "display_data"
    }
   ],
   "source": [
    "years_albums = [ int(d['year']) for d in albums_list ]\n",
    "years_decades = [ (year//10)*10 for year in years_albums ]\n",
    "\n",
    "fig, ax = plt.subplots(figsize=(10,5))   # create a fig and axis \n",
    "\n",
    "ax.hist(years_decades, bins=6, color='turquoise', rwidth = 0.9, edgecolor= 'black')  # taking our axis and plot on it\n",
    "ax.set_title('Histogram of albums by decade', size= 18)\n",
    "ax.set_xlabel('Decades', size=15)\n",
    "ax.set_ylabel('Number of Albums', size=15)"
   ]
  },
  {
   "cell_type": "markdown",
   "metadata": {},
   "source": [
    "# Histogram by genre - Returns a histogram with each genre pointing to the number of albums that are categorized as being in that genre."
   ]
  },
  {
   "cell_type": "code",
   "execution_count": 303,
   "metadata": {},
   "outputs": [],
   "source": [
    "# genres = [ d['genre'] for d in albums_list ]\n",
    "# genres_list =[]\n",
    "# for i in genres:\n",
    "#     for j in i.split(','):\n",
    "#         genres_list.append(j.replace('&','').strip())\n",
    "        \n",
    "# fig, ax = plt.subplots(figsize=(16,6))\n",
    "# ax.hist(genres_list, bins = 14 , color='orange', edgecolor= 'black', align='left')\n",
    "# ax.set_title('Histogram of albums by each genre', size=18)\n",
    "# ax.set_ylabel('Number of Albums', size=15)\n",
    "# ax.set_xlabel('Genre')\n",
    "# #ax.set_xticklabels(set(genres_list), rotation =45)"
   ]
  },
  {
   "cell_type": "code",
   "execution_count": 230,
   "metadata": {},
   "outputs": [
    {
     "data": {
      "text/plain": [
       "Text(0.5,0,'Genre')"
      ]
     },
     "execution_count": 230,
     "metadata": {},
     "output_type": "execute_result"
    },
    {
     "data": {
      "image/png": "[encoded data removed]",
      "text/plain": [
       "<Figure size 1152x432 with 1 Axes>"
      ]
     },
     "metadata": {
      "needs_background": "light"
     },
     "output_type": "display_data"
    }
   ],
   "source": [
    "genres_dict ={}\n",
    "\n",
    "for genre in genres_list:\n",
    "    if genre in genres_dict:\n",
    "        genres_dict[genre]+=1\n",
    "    else:\n",
    "        genres_dict[genre]=1\n",
    "        \n",
    "fig, ax = plt.subplots(figsize=(16,6))\n",
    "ax.bar(genres_dict.keys() ,genres_dict.values(), color='pink', edgecolor= 'black', align='center')\n",
    "ax.set_title('Number of albums by each genre', size=18)\n",
    "ax.set_ylabel('Number of Albums', size=15)\n",
    "ax.set_xlabel('Genre', size= 18)\n",
    "#ax.set_xticklabels(set(genres_list), rotation =45)"
   ]
  },
  {
   "cell_type": "markdown",
   "metadata": {},
   "source": [
    "\n",
    "## Next Steps"
   ]
  },
  {
   "cell_type": "code",
   "execution_count": 31,
   "metadata": {},
   "outputs": [
    {
     "name": "stdout",
     "output_type": "stream",
     "text": [
      "['1\\tLike a Rolling Stone\\tBob Dylan\\t1965\\n', '2\\tSatisfaction\\tThe Rolling Stones\\t1965\\n', '3\\tImagine\\tJohn Lennon\\t1971\\n', \"4\\tWhat's Going On\\tMarvin Gaye\\t1971\\n\"]\n"
     ]
    }
   ],
   "source": [
    "# open the text file in read\n",
    "text_file = open('top-500-songs.txt', 'r')\n",
    "lines = text_file.readlines()\n",
    "print(lines[:4])"
   ]
  },
  {
   "cell_type": "code",
   "execution_count": 32,
   "metadata": {},
   "outputs": [
    {
     "data": {
      "text/plain": [
       "['500', 'More Than a Feeling', 'Boston', '1976']"
      ]
     },
     "execution_count": 32,
     "metadata": {},
     "output_type": "execute_result"
    }
   ],
   "source": [
    "lines_songs = [line.strip().split('\\t') for line in lines]\n",
    "lines_songs[-1]"
   ]
  },
  {
   "cell_type": "code",
   "execution_count": 33,
   "metadata": {},
   "outputs": [
    {
     "data": {
      "text/plain": [
       "{'rank': '1',\n",
       " 'name': 'Like a Rolling Stone',\n",
       " 'artist': 'Bob Dylan',\n",
       " 'year': '1965'}"
      ]
     },
     "execution_count": 33,
     "metadata": {},
     "output_type": "execute_result"
    }
   ],
   "source": [
    "songs_list  = []\n",
    "for song in lines_songs:\n",
    "    songs = {}\n",
    "    songs['rank']=song[0]\n",
    "    songs['name']=song[1]\n",
    "    songs['artist']=song[2]\n",
    "    songs['year']=song[3]\n",
    "    songs_list.append(songs)\n",
    "    \n",
    "songs_list[0]"
   ]
  },
  {
   "cell_type": "code",
   "execution_count": 34,
   "metadata": {},
   "outputs": [],
   "source": [
    "def find_song_by_name(string):\n",
    "    \"\"\"\n",
    "     Takes in a string that represents the name of an song.\n",
    "     Should return a dictionary with the correct song, or return None\n",
    "    \"\"\"\n",
    "    for d in songs_list:\n",
    "        if d['name'] == string:\n",
    "            return d\n",
    "    return (\"There is no song with name: '{}'\").format(string)"
   ]
  },
  {
   "cell_type": "code",
   "execution_count": 35,
   "metadata": {},
   "outputs": [],
   "source": [
    "def find_song_by_rank(rank):\n",
    "    \"\"\"\n",
    "    Takes in a number that represents the rank in the list of top songs\n",
    "    and returns the song with that rank. If there is no album with that rank, it returns None\n",
    "    \"\"\"\n",
    "    for d in songs_list:\n",
    "        if int(d['rank']) == rank:\n",
    "            return d\n",
    "    return (\"There is no song with rank: '{}'\").format(rank)"
   ]
  },
  {
   "cell_type": "code",
   "execution_count": 36,
   "metadata": {},
   "outputs": [],
   "source": [
    "def find_song_by_year(year):\n",
    "    \"\"\"\n",
    "    Takes in a number for the year in which an song was released and returns a list of\n",
    "    songs that were released in that year. If there are no songs released in the given\n",
    "    year, it returns an empty list.\n",
    "    \"\"\"\n",
    "    lst_of_albums = []\n",
    "    \n",
    "    for d in songs_list:\n",
    "        if int(d['year']) == year:\n",
    "            lst_of_albums.append(d['name'])\n",
    "            \n",
    "    return lst_of_albums"
   ]
  },
  {
   "cell_type": "code",
   "execution_count": 37,
   "metadata": {},
   "outputs": [],
   "source": [
    "def find_songs_by_years(start_year,end_year):\n",
    "    \"\"\"\n",
    "    Find by years - Takes in a start year and end year.\n",
    "    Returns a list of all songs that were released on or between the start\n",
    "    and end years. If no songs are found for those years, then an empty list is returned.\n",
    "    \n",
    "    params :start_year - smaller year\n",
    "            end_year - bigger year\n",
    "    \"\"\"\n",
    "    lst_of_songs = []\n",
    "    \n",
    "    for d in songs_list:\n",
    "        if (int(d['year'])<=end_year ) and (int(d['year'])>=start_year):\n",
    "            lst_of_songs.append(d['name'])\n",
    "    \n",
    "    return lst_of_songs"
   ]
  },
  {
   "cell_type": "code",
   "execution_count": 38,
   "metadata": {},
   "outputs": [],
   "source": [
    "def find_by_ranks(rank_1,rank_2):\n",
    "    \"\"\"\n",
    "    Takes in a start rank and end rank. Returns a list of songs that are\n",
    "    ranked between the start and end ranks. If no songs are found for those\n",
    "    ranks, then an empty list is returned.\n",
    "    params :rank_1 - smaller rank\n",
    "            rank_2 - bigger rank\n",
    "    \"\"\"\n",
    "    lst_of_songs = []\n",
    "    \n",
    "    for d in songs_list:\n",
    "        if (int(d['rank'])<=rank_2 ) and (int(d['rank'])>=rank_1):\n",
    "            lst_of_songs.append(d['name'])\n",
    "    \n",
    "    return lst_of_songs"
   ]
  },
  {
   "cell_type": "code",
   "execution_count": 39,
   "metadata": {},
   "outputs": [],
   "source": [
    "# All artists - Returns a list of artist names for each album.\n",
    "list_artist = [d['artist'] for d in songs_list]"
   ]
  },
  {
   "cell_type": "code",
   "execution_count": 40,
   "metadata": {},
   "outputs": [
    {
     "data": {
      "text/plain": [
       "'The Beatles'"
      ]
     },
     "execution_count": 40,
     "metadata": {},
     "output_type": "execute_result"
    }
   ],
   "source": [
    "# Artists with the most songs - Returns the artist with the highest amount of songs on the list of top albums\n",
    "\n",
    "top_artists = {}\n",
    "\n",
    "for artist in list_artist:\n",
    "    \n",
    "    if artist not in top_artists:\n",
    "        top_artists[artist]=1\n",
    "    else:\n",
    "        top_artists[artist]+=1\n",
    "\n",
    "sorted_artists = sorted(top_artists.items(), key = lambda x: x[1], reverse=True)\n",
    "sorted_artists[0][0]"
   ]
  },
  {
   "cell_type": "code",
   "execution_count": 41,
   "metadata": {},
   "outputs": [],
   "source": [
    "# All titles - Returns a list of titles for each album.\n",
    "\n",
    "list_titles = [d['name'] for d in songs_list]"
   ]
  },
  {
   "cell_type": "code",
   "execution_count": 42,
   "metadata": {},
   "outputs": [
    {
     "data": {
      "text/plain": [
       "'the'"
      ]
     },
     "execution_count": 42,
     "metadata": {},
     "output_type": "execute_result"
    }
   ],
   "source": [
    "# Most popular word - Returns the word used most in amongst all album titles\n",
    "\n",
    "for title in list_titles:\n",
    "    for word in title.split(' '):\n",
    "        if word in titels_words:\n",
    "            titels_words[word]+=1\n",
    "        else:\n",
    "            titels_words[word]=1\n",
    "            \n",
    "sorted_words = sorted(titels_words.items(), key = lambda x: x[1], reverse =True)\n",
    "sorted_words[0][0]"
   ]
  },
  {
   "cell_type": "code",
   "execution_count": 43,
   "metadata": {},
   "outputs": [
    {
     "data": {
      "text/plain": [
       "Text(0,0.5,'Number of Songs')"
      ]
     },
     "execution_count": 43,
     "metadata": {},
     "output_type": "execute_result"
    },
    {
     "data": {
      "image/png": "[encoded data removed]",
      "text/plain": [
       "<Figure size 720x360 with 1 Axes>"
      ]
     },
     "metadata": {
      "needs_background": "light"
     },
     "output_type": "display_data"
    }
   ],
   "source": [
    "# Histogram of albums by decade - Returns a histogram with each decade pointing to the number of albums released during that decade.\n",
    "\n",
    "years_albums = [ int(d['year']) for d in songs_list ]\n",
    "years_decades = [ (year//10)*10 for year in years_albums ]\n",
    "\n",
    "fig, ax = plt.subplots(figsize=(10,5))   # create a fig and axis \n",
    "\n",
    "ax.hist(years_decades, bins=6, color='gray', rwidth = 0.9, edgecolor= 'black')  # taking our axis and plot on it\n",
    "ax.set_title('Histogram of albums by decade', size= 18)\n",
    "ax.set_xlabel('Decades', size=15)\n",
    "ax.set_ylabel('Number of Songs', size=15)"
   ]
  },
  {
   "cell_type": "code",
   "execution_count": 44,
   "metadata": {},
   "outputs": [
    {
     "data": {
      "text/plain": [
       "{'number': '1',\n",
       " 'year': '1967',\n",
       " 'album': \"Sgt. Pepper's Lonely Hearts Club Band\",\n",
       " 'artist': 'The Beatles',\n",
       " 'genre': 'Rock',\n",
       " 'subgenre': 'Rock & Roll, Psychedelic Rock'}"
      ]
     },
     "execution_count": 44,
     "metadata": {},
     "output_type": "execute_result"
    }
   ],
   "source": [
    "dict(albums_list[0])"
   ]
  },
  {
   "cell_type": "code",
   "execution_count": 45,
   "metadata": {},
   "outputs": [
    {
     "data": {
      "text/plain": [
       "{'rank': '1',\n",
       " 'name': 'Like a Rolling Stone',\n",
       " 'artist': 'Bob Dylan',\n",
       " 'year': '1965'}"
      ]
     },
     "execution_count": 45,
     "metadata": {},
     "output_type": "execute_result"
    }
   ],
   "source": [
    "songs_list[0]"
   ]
  },
  {
   "cell_type": "markdown",
   "metadata": {},
   "source": [
    "### Working with the top 500 songs"
   ]
  },
  {
   "cell_type": "markdown",
   "metadata": {},
   "source": [
    "If we can't already re-use our searching functions (i.e. Find by name, Find by rank, Find by year, Find by years, Find by ranks), all functions (i.e. all titles, all artists), and questions-to-answer functions (i.e. Artists with the most albums (or songs), Most popular word, Histogram by decade, Histogram by genre) with the song data we just formatted, then refactor these functions so that they can be used with either set of data. This is a good practice for ensuring that our code is as reusable and modular as possible, which is important when writing code for any project, especially when it comes time to scale a project. Things are easier to read, and there is less code to worry about (and more importantly there is less code to debug when something goes wrong).\n",
    "\n",
    "Once we have our functions working for both sets of data, we can start writing new functions!\n",
    "\n",
    "Luckily for us, this next dataset is already made for us. We were curious to find out which songs on the top 500 songs overlapped with the top albums and vice versa. So, we created a data set that is a list of dictionaries in JSON format. Each dictionary contains the name of the artist, the album, and the tracks (songs) on that given album. We can use this data to check which songs on the top 500 list are featured on the albums on the top albums list.\n",
    "\n",
    "To load our JSON file we will write:\n",
    "\n",
    "```python\n",
    "import json\n",
    "\n",
    "file = open('track_data.json', 'r')\n",
    "json_data = json.load(file)\n",
    "\n",
    "print(json_data)\n",
    "# output will look like this:\n",
    "[{'artist': 'The Beatles', 'album': \"Sgt. Pepper's Lonely Hearts Club Band\", 'tracks': [\"Sgt. Pepper's Lonely Hearts Club Band - Remix\", 'With A Little Help From My Friends - Remix', 'Lucy In The Sky With Diamonds - Remix', 'Getting Better - Remix', 'Fixing A Hole - Remix', \"She's Leaving Home - Remix\", 'Being For The Benefit Of Mr. Kite! - Remix', 'Within You Without You - Remix', \"When I'm Sixty-Four - Remix\", 'Lovely Rita - Remix', 'Good Morning Good Morning - Remix', \"Sgt. Pepper's Lonely Hearts Club Band (Reprise) - Remix\", 'A Day In The Life - Remix', \"Sgt. Pepper's Lonely Hearts Club Band - Take 9 And Speech\", 'With A Little Help From My Friends - Take 1 / False Start And Take 2 / Instrumental', 'Lucy In The Sky With Diamonds - Take 1', 'Getting Better - Take 1 / Instrumental And Speech At The End', 'Fixing A Hole - Speech And Take 3', \"She's Leaving Home - Take 1 / Instrumental\", 'Being For The Benefit Of Mr. Kite! - Take 4', 'Within You Without You - Take 1 / Indian Instruments', \"When I'm Sixty-Four - Take 2\", 'Lovely Rita - Speech And Take 9', 'Good Morning Good Morning - Take 8', \"Sgt. Pepper's Lonely Hearts Club Band (Reprise) - Speech And Take 8\", 'A Day In The Life - Take 1 With Hums', 'Strawberry Fields Forever - Take 7', 'Strawberry Fields Forever - Take 26', 'Strawberry Fields Forever - Stereo Mix 2015', 'Penny Lane - Take 6 / Instrumental', 'Penny Lane - Stereo Mix 2017']}, {'artist': 'The Beach Boys', 'album': 'Pet Sounds', 'tracks': [\"Wouldn't It Be Nice - Digitally Remastered 96\", 'You Still Believe In Me - Digitally Remastered 96', \"That's Not Me - 1996 Digital Remaster\", \"Don't Talk (Put Your Head On My Shoulder) - 1996 Digital Remaster\", \"I'm Waiting For The Day - Digitally Remastered 96\", \"Let's Go Away For Awhile - Digitally Remastered 96\", 'Sloop John B - 1996 - Remaster', 'God Only Knows - 1997 - Remaster', \"I Know There's An Answer - Digitally Remastered 96\", 'Here Today - Digitally Remastered 96', \"I Just Wasn't Made For These Times - Digitally Remastered 96\", 'Pet Sounds - Digitally Remastered 96', 'Caroline, No - 1996 Digital Remaster', 'Hang On To Your Ego', \"Wouldn't It Be Nice - 2000 - Remaster\", 'You Still Believe In Me - 1996 Digital Remaster', \"That's Not Me - 1996 Digital Remaster\", \"Don't Talk (Put Your Head On My Shoulder) - 1996 Digital Remaster\", \"I'm Waiting For The Day - 1996 Digital Remaster\", \"Let's Go Away For Awhile - 1996 Digital Remaster\", 'Sloop John B - 1996 Digital Remaster', 'God Only Knows - 1996 Digital Remaster', \"I Know There's An Answer - 1996 Digital Remaster\", 'Here Today - 1996 Digital Remaster', \"I Just Wasn't Made For These Times - 1996 Digital Remaster\", 'Pet Sounds - 1996 Digital Remaster', 'Caroline, No - 1996 Digital Remaster']}, {'artist': 'The Beatles', 'album': 'Revolver', 'tracks': ['Taxman - Remastered', 'Eleanor Rigby - Remastered', \"I'm Only Sleeping - Remastered\", 'Love You To - Remastered', 'Here, There And Everywhere - Remastered', 'Yellow Submarine - Remastered', 'She Said She Said - Remastered', 'Good Day Sunshine - Remastered', 'And Your Bird Can Sing - Remastered', 'For No One - Remastered', 'Doctor Robert - Remastered', 'I Want To Tell You - Remastered', 'Got To Get You Into My Life - Remastered', 'Tomorrow Never Knows - Remastered']}, {'artist': 'Bob Dylan', 'album': 'Highway 61 Revisited', 'tracks': ['Like a Rolling Stone', 'Tombstone Blues', 'It Takes a Lot to Laugh, It Takes a Train to Cry', 'From a Buick 6', 'Ballad of a Thin Man', 'Queen Jane Approximately', 'Highway 61 Revisited', \"Just Like Tom Thumb's Blues\", 'Desolation Row']}, ...]\n",
    "```"
   ]
  },
  {
   "cell_type": "code",
   "execution_count": 191,
   "metadata": {},
   "outputs": [],
   "source": [
    "# songs_list[:5]"
   ]
  },
  {
   "cell_type": "code",
   "execution_count": 198,
   "metadata": {},
   "outputs": [],
   "source": [
    "#json_data[0]"
   ]
  },
  {
   "cell_type": "code",
   "execution_count": 185,
   "metadata": {},
   "outputs": [],
   "source": [
    "import json\n",
    "\n",
    "file = open('track_data.json', 'r')\n",
    "json_data = json.load(file)"
   ]
  },
  {
   "cell_type": "code",
   "execution_count": 207,
   "metadata": {},
   "outputs": [
    {
     "data": {
      "text/plain": [
       "{'rank': '1',\n",
       " 'name': 'Like a Rolling Stone',\n",
       " 'artist': 'Bob Dylan',\n",
       " 'year': '1965'}"
      ]
     },
     "execution_count": 207,
     "metadata": {},
     "output_type": "execute_result"
    }
   ],
   "source": [
    "songs_list[0]"
   ]
  },
  {
   "cell_type": "markdown",
   "metadata": {},
   "source": [
    "### Define the following functions:\n",
    "\n",
    "**albumWithMostTopSongs** - returns the name of the artist and album that has that most songs featured on the top 500 songs list\n",
    "\n",
    "**albumsWithTopSongs** - returns a list with the name of only the albums that have tracks featured on the list of top 500 songs\n",
    "\n",
    "**songsThatAreOnTopAlbums** - returns a list with the name of only the songs featured on the list of top albums\n",
    "\n",
    "**top10AlbumsByTopSongs** - returns a histogram with the 10 albums that have the most songs that appear in the top songs list. The album names should point to the number of songs that appear on the top 500 songs list.\n",
    "\n",
    "**topOverallArtist** - Artist featured with the most songs and albums on the two lists. This means that if Brittany Spears had 3 of her albums featured on the top albums listed and 10 of her songs featured on the top songs, she would have a total of 13. The artist with the highest aggregate score would be the top overall artist."
   ]
  },
  {
   "cell_type": "code",
   "execution_count": 236,
   "metadata": {},
   "outputs": [
    {
     "data": {
      "text/plain": [
       "['Like a Rolling Stone',\n",
       " 'Satisfaction',\n",
       " 'Imagine',\n",
       " \"What's Going On\",\n",
       " 'Respect']"
      ]
     },
     "execution_count": 236,
     "metadata": {},
     "output_type": "execute_result"
    }
   ],
   "source": [
    "list_titles_500 = [d['name'] for d in songs_list]\n",
    "list_titles_500[:5]"
   ]
  },
  {
   "cell_type": "code",
   "execution_count": 285,
   "metadata": {},
   "outputs": [],
   "source": [
    "def albumWithMostTopSongs(songs_list, list_top_500):\n",
    "    \"\"\"\n",
    "    Returns the name of the artist and album that has that most songs featured on the top 500 songs list\n",
    "    \"\"\"\n",
    "    d_list = [d.copy() for d in songs_list] # created copy of dict-s in new list\n",
    "    counted_tracks =[]\n",
    "    \n",
    "    for d in d_list:\n",
    "        d['count']=0\n",
    "        for track in d['tracks']:\n",
    "            if track in list_top_500:\n",
    "                d['count']+=1\n",
    "        counted_tracks.append(d)\n",
    "    \n",
    "    max_count = counted_tracks[0]['count']\n",
    "\n",
    "    artist = None\n",
    "    album = None\n",
    "    \n",
    "    for d in counted_tracks:\n",
    "        if d['count'] > max_count:\n",
    "            max_count = d['count']\n",
    "            artist = d['artist'] \n",
    "            album = d['album']\n",
    "\n",
    "    return 'Name of the artist : {},  album that has most songs featured on the top 500 songs list: {}, {}'.format(artist,album,max_count)"
   ]
  },
  {
   "cell_type": "code",
   "execution_count": 286,
   "metadata": {},
   "outputs": [
    {
     "data": {
      "text/plain": [
       "'Name of the artist : Elvis Presley,  album that has most songs featured on the top 500 songs list: Elvis Presley, 8'"
      ]
     },
     "execution_count": 286,
     "metadata": {},
     "output_type": "execute_result"
    }
   ],
   "source": [
    "albumWithMostTopSongs(json_data, list_titles_500)"
   ]
  },
  {
   "cell_type": "code",
   "execution_count": 296,
   "metadata": {},
   "outputs": [],
   "source": [
    "def albumsWithTopSongs(songs_list, list_top_500):\n",
    "    \"\"\"\n",
    "    Returns a list with the name of only the albums that have tracks featured on the list of top 500 songs\n",
    "    \"\"\"\n",
    "    albums = []\n",
    "    for song in list_top_500:\n",
    "        for album in songs_list:\n",
    "            if song in album['tracks']:\n",
    "                albums.append(album['album'])\n",
    "                \n",
    "    return albums"
   ]
  },
  {
   "cell_type": "code",
   "execution_count": 298,
   "metadata": {},
   "outputs": [
    {
     "data": {
      "text/plain": [
       "['Highway 61 Revisited',\n",
       " \"What's Going On\",\n",
       " 'Otis Blue: Otis Redding Sings Soul',\n",
       " 'I Never Loved a Man the Way I Love You',\n",
       " 'Ready to Die']"
      ]
     },
     "execution_count": 298,
     "metadata": {},
     "output_type": "execute_result"
    }
   ],
   "source": [
    "albumsWithTopSongs(json_data,list_titles_500)[:5]"
   ]
  },
  {
   "cell_type": "code",
   "execution_count": 291,
   "metadata": {},
   "outputs": [
    {
     "data": {
      "text/plain": [
       "{'artist': 'The Beatles',\n",
       " 'album': \"Sgt. Pepper's Lonely Hearts Club Band\",\n",
       " 'tracks': [\"Sgt. Pepper's Lonely Hearts Club Band - Remix\",\n",
       "  'With A Little Help From My Friends - Remix',\n",
       "  'Lucy In The Sky With Diamonds - Remix',\n",
       "  'Getting Better - Remix',\n",
       "  'Fixing A Hole - Remix',\n",
       "  \"She's Leaving Home - Remix\",\n",
       "  'Being For The Benefit Of Mr. Kite! - Remix',\n",
       "  'Within You Without You - Remix',\n",
       "  \"When I'm Sixty-Four - Remix\",\n",
       "  'Lovely Rita - Remix',\n",
       "  'Good Morning Good Morning - Remix',\n",
       "  \"Sgt. Pepper's Lonely Hearts Club Band (Reprise) - Remix\",\n",
       "  'A Day In The Life - Remix',\n",
       "  \"Sgt. Pepper's Lonely Hearts Club Band - Take 9 And Speech\",\n",
       "  'With A Little Help From My Friends - Take 1 / False Start And Take 2 / Instrumental',\n",
       "  'Lucy In The Sky With Diamonds - Take 1',\n",
       "  'Getting Better - Take 1 / Instrumental And Speech At The End',\n",
       "  'Fixing A Hole - Speech And Take 3',\n",
       "  \"She's Leaving Home - Take 1 / Instrumental\",\n",
       "  'Being For The Benefit Of Mr. Kite! - Take 4',\n",
       "  'Within You Without You - Take 1 / Indian Instruments',\n",
       "  \"When I'm Sixty-Four - Take 2\",\n",
       "  'Lovely Rita - Speech And Take 9',\n",
       "  'Good Morning Good Morning - Take 8',\n",
       "  \"Sgt. Pepper's Lonely Hearts Club Band (Reprise) - Speech And Take 8\",\n",
       "  'A Day In The Life - Take 1 With Hums',\n",
       "  'Strawberry Fields Forever - Take 7',\n",
       "  'Strawberry Fields Forever - Take 26',\n",
       "  'Strawberry Fields Forever - Stereo Mix 2015',\n",
       "  'Penny Lane - Take 6 / Instrumental',\n",
       "  'Penny Lane - Stereo Mix 2017']}"
      ]
     },
     "execution_count": 291,
     "metadata": {},
     "output_type": "execute_result"
    }
   ],
   "source": [
    "json_data[0]"
   ]
  },
  {
   "cell_type": "code",
   "execution_count": 301,
   "metadata": {},
   "outputs": [
    {
     "data": {
      "text/plain": [
       "OrderedDict([('number', '1'),\n",
       "             ('year', '1967'),\n",
       "             ('album', \"Sgt. Pepper's Lonely Hearts Club Band\"),\n",
       "             ('artist', 'The Beatles'),\n",
       "             ('genre', 'Rock'),\n",
       "             ('subgenre', 'Rock & Roll, Psychedelic Rock')])"
      ]
     },
     "execution_count": 301,
     "metadata": {},
     "output_type": "execute_result"
    }
   ],
   "source": [
    "albums_list[0]"
   ]
  },
  {
   "cell_type": "code",
   "execution_count": 295,
   "metadata": {},
   "outputs": [
    {
     "data": {
      "text/plain": [
       "179"
      ]
     },
     "execution_count": 295,
     "metadata": {},
     "output_type": "execute_result"
    }
   ],
   "source": [
    "albums = []\n",
    "for song in list_titles_500:\n",
    "    for album in json_data:\n",
    "        if song in album['tracks']:\n",
    "            albums.append(album['album'])"
   ]
  },
  {
   "cell_type": "code",
   "execution_count": 70,
   "metadata": {},
   "outputs": [],
   "source": [
    "def songsThatAreOnTopAlbums():\n",
    "    \"\"\"\n",
    "    Returns a list with the name of only the songs featured on the list of top albums\n",
    "    \"\"\"\n",
    "    pass"
   ]
  },
  {
   "cell_type": "code",
   "execution_count": 71,
   "metadata": {},
   "outputs": [],
   "source": [
    "def top10AlbumsByTopSongs():\n",
    "    \"\"\"\n",
    "    \n",
    "    \"\"\"\n",
    "    \n",
    "    pass"
   ]
  },
  {
   "cell_type": "code",
   "execution_count": 72,
   "metadata": {},
   "outputs": [],
   "source": [
    "def topOverallArtist():\n",
    "    \"\"\"\n",
    "    \n",
    "    \"\"\"\n",
    "    pass"
   ]
  },
  {
   "cell_type": "code",
   "execution_count": null,
   "metadata": {},
   "outputs": [],
   "source": []
  }
 ],
 "metadata": {
  "kernelspec": {
   "display_name": "Python 3",
   "language": "python",
   "name": "python3"
  },
  "language_info": {
   "codemirror_mode": {
    "name": "ipython",
    "version": 3
   },
   "file_extension": ".py",
   "mimetype": "text/x-python",
   "name": "python",
   "nbconvert_exporter": "python",
   "pygments_lexer": "ipython3",
   "version": "3.7.6"
  }
 },
 "nbformat": 4,
 "nbformat_minor": 4
}
