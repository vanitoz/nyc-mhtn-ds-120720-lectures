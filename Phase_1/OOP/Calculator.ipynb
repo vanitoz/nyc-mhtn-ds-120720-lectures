{
 "cells": [
  {
   "cell_type": "code",
   "execution_count": null,
   "metadata": {},
   "outputs": [],
   "source": [
    "#!/usr/bin/env python3\n",
    "# -*- coding: utf-8 -*-\n",
    "\"\"\"\n",
    "Created on Wed Sep  4 14:25:52 2019\n",
    "\n",
    "@author: swilson5\n",
    "\"\"\"\n",
    "import math\n",
    "\n",
    "\n",
    "class Calculator:\n",
    "\n",
    "    def __init__(self, data):\n",
    "        self.data = sorted(data)\n",
    "        self._calc_stats()\n",
    "\n",
    "    def _calc_mean(self):\n",
    "        return self.total/self.length\n",
    "\n",
    "    def _calc_median(self):\n",
    "        n = self.length\n",
    "        if n % 2 == 1:\n",
    "            return self.data[(n-1)//2]\n",
    "        else:\n",
    "            return (self.data[n//2-1]+self.data[n//2])/2\n",
    "\n",
    "    def _calc_variance(self):\n",
    "        sum_value = 0\n",
    "        for item in self.data:\n",
    "            sum_value += (item - (self.mean))**2\n",
    "        return sum_value/(self.length-1)\n",
    "\n",
    "    def _calc_stddev(self):\n",
    "        return math.sqrt(self.variance)\n",
    "\n",
    "    def _calc_stats(self):\n",
    "        self.length = len(self.data)\n",
    "        self.total = sum(self.data)\n",
    "        self.mean = self._calc_mean()\n",
    "        self.median = self._calc_median()\n",
    "        self.variance = self._calc_variance()\n",
    "        self.stand_dev = self._calc_stddev()\n",
    "\n",
    "    def add_data(self, new_data):\n",
    "        \"\"\"Takes a list of data, adds all of those values\n",
    "            from the data set of the object,\n",
    "            and recalculates the descriptive statistics.\n",
    "        \"\"\"\n",
    "        self.data.extend(new_data)\n",
    "        self.data = sorted(self.data)\n",
    "        self._calc_stats()\n",
    "        return\n",
    "\n",
    "    def remove_data(self, new_data):\n",
    "        \"\"\"Takes a list of data, removes all of those values\n",
    "            from the data set of the object,\n",
    "            and recalculates the descriptive statistics.\n",
    "        \"\"\"\n",
    "        self.data = [x for x in self.data if x not in new_data]\n",
    "        self._calc_stats()\n",
    "        return"
   ]
  },
  {
   "cell_type": "code",
   "execution_count": 1,
   "metadata": {},
   "outputs": [],
   "source": [
    " l =[2, 10, 15, 20, 4, 55, 80]"
   ]
  },
  {
   "cell_type": "code",
   "execution_count": 2,
   "metadata": {},
   "outputs": [
    {
     "data": {
      "text/plain": [
       "26.571428571428573"
      ]
     },
     "execution_count": 2,
     "metadata": {},
     "output_type": "execute_result"
    }
   ],
   "source": [
    "sum(l)/len(l)"
   ]
  },
  {
   "cell_type": "code",
   "execution_count": null,
   "metadata": {},
   "outputs": [],
   "source": []
  }
 ],
 "metadata": {
  "kernelspec": {
   "display_name": "Python 3",
   "language": "python",
   "name": "python3"
  },
  "language_info": {
   "codemirror_mode": {
    "name": "ipython",
    "version": 3
   },
   "file_extension": ".py",
   "mimetype": "text/x-python",
   "name": "python",
   "nbconvert_exporter": "python",
   "pygments_lexer": "ipython3",
   "version": "3.7.6"
  }
 },
 "nbformat": 4,
 "nbformat_minor": 4
}
