{
 "cells": [
  {
   "cell_type": "markdown",
   "metadata": {},
   "source": [
    "# Summary Statistics Warmup"
   ]
  },
  {
   "cell_type": "markdown",
   "metadata": {},
   "source": [
    "For this warmup, we will be parsing data held in objects returned from the Spotify API.  "
   ]
  },
  {
   "cell_type": "markdown",
   "metadata": {},
   "source": [
    "![spotify](https://developer.spotify.com/assets/branding-guidelines/logo@2x.png)"
   ]
  },
  {
   "cell_type": "code",
   "execution_count": 3,
   "metadata": {},
   "outputs": [],
   "source": [
    "import requests\n",
    "import json\n",
    "import numpy as np\n",
    "import matplotlib.pyplot as plt\n",
    "import pickle"
   ]
  },
  {
   "cell_type": "code",
   "execution_count": 4,
   "metadata": {},
   "outputs": [],
   "source": [
    "with open('data/jazz_query_response', 'rb') as read_file:\n",
    "    jazz_tracks = pickle.load(read_file)"
   ]
  },
  {
   "cell_type": "code",
   "execution_count": null,
   "metadata": {},
   "outputs": [],
   "source": []
  },
  {
   "cell_type": "markdown",
   "metadata": {},
   "source": [
    "# Task 1"
   ]
  },
  {
   "cell_type": "markdown",
   "metadata": {},
   "source": [
    "The jazz_tracks object loaded above is a list of dictionaries. Each element of the dictionary contains data about a song. \n",
    "\n",
    "The first task is to parse this list, and gather the song length data from each dictionary.  \n",
    "\n",
    "To do so, you will have to loop through jazz_tracks, use the appropriate key to access the song length data for each element, then append this data ponit to the list.  The list should then be composed of 1000 song lengths."
   ]
  },
  {
   "cell_type": "code",
   "execution_count": 7,
   "metadata": {},
   "outputs": [
    {
     "data": {
      "text/plain": [
       "dict_keys(['album', 'artists', 'available_markets', 'disc_number', 'duration_ms', 'explicit', 'external_ids', 'external_urls', 'href', 'id', 'is_local', 'name', 'popularity', 'preview_url', 'track_number', 'type', 'uri'])"
      ]
     },
     "execution_count": 7,
     "metadata": {},
     "output_type": "execute_result"
    }
   ],
   "source": [
    "jazz_tracks[0].keys()"
   ]
  },
  {
   "cell_type": "code",
   "execution_count": 15,
   "metadata": {},
   "outputs": [
    {
     "data": {
      "text/plain": [
       "1000"
      ]
     },
     "execution_count": 15,
     "metadata": {},
     "output_type": "execute_result"
    }
   ],
   "source": [
    "# Your code here\n",
    "track_durations = []\n",
    "\n",
    "for song in jazz_tracks:\n",
    "    track_durations.append(song['duration_ms'])\n",
    "    \n",
    "len(track_durations)"
   ]
  },
  {
   "cell_type": "markdown",
   "metadata": {},
   "source": [
    "# Task 2\n",
    "\n",
    "Now that you have the track durations of each jazz song stored in the track_durations list,  calculate the mean song length in our sample of tracks.\n",
    "\n",
    "Don't use a built in operator, numpy, or the like.  Do it from scratch.\n"
   ]
  },
  {
   "cell_type": "code",
   "execution_count": 16,
   "metadata": {},
   "outputs": [
    {
     "data": {
      "text/plain": [
       "238829.013"
      ]
     },
     "execution_count": 16,
     "metadata": {},
     "output_type": "execute_result"
    }
   ],
   "source": [
    "# Your code here\n",
    "track_mean_length = sum(track_durations)/len(track_durations)\n",
    "track_mean_length"
   ]
  },
  {
   "cell_type": "code",
   "execution_count": 17,
   "metadata": {},
   "outputs": [
    {
     "name": "stdout",
     "output_type": "stream",
     "text": [
      "The average track length is 238829.013 ms\n"
     ]
    }
   ],
   "source": [
    "print(f'The average track length is {track_mean_length} ms')"
   ]
  },
  {
   "cell_type": "code",
   "execution_count": 18,
   "metadata": {},
   "outputs": [
    {
     "data": {
      "text/plain": [
       "238829.013"
      ]
     },
     "execution_count": 18,
     "metadata": {},
     "output_type": "execute_result"
    }
   ],
   "source": [
    "# Cross check with numpy\n",
    "np.mean(track_durations)"
   ]
  },
  {
   "cell_type": "markdown",
   "metadata": {},
   "source": [
    "# Task 3\n",
    "Calculate the variance and standard deviation of the sample of track lengths. \n",
    "\n",
    "Since it is a sample, use the number of tracks minus 1 in the sample as the denominator."
   ]
  },
  {
   "cell_type": "markdown",
   "metadata": {},
   "source": [
    "The population variance $\\sigma _{j}^{2}$ can be estimate by the sample variance: \n",
    "\n",
    "$$s_j^2 = \\frac{1}{n-1}\\sum_{i=1}^{n}(X_{ij}-\\bar{x}_j)^2$$"
   ]
  },
  {
   "cell_type": "code",
   "execution_count": 21,
   "metadata": {},
   "outputs": [
    {
     "data": {
      "text/plain": [
       "9000620195.035862"
      ]
     },
     "execution_count": 21,
     "metadata": {},
     "output_type": "execute_result"
    }
   ],
   "source": [
    "# Your code here\n",
    "track_length_variance = None\n",
    "\n",
    "n = len(track_durations)\n",
    "mean = track_mean_length\n",
    "sq_deviation_sum = [(x-mean)**2 for x in track_durations]\n",
    "track_length_variance = sum(sq_deviation_sum)/(n-1)\n",
    "track_length_variance"
   ]
  },
  {
   "cell_type": "code",
   "execution_count": 22,
   "metadata": {},
   "outputs": [
    {
     "data": {
      "text/plain": [
       "9000620195.035866"
      ]
     },
     "execution_count": 22,
     "metadata": {},
     "output_type": "execute_result"
    }
   ],
   "source": [
    "# Cross check with numpy.  ddof stands for degrees\n",
    "np.var(track_durations, ddof=1)"
   ]
  },
  {
   "cell_type": "code",
   "execution_count": 26,
   "metadata": {},
   "outputs": [
    {
     "data": {
      "text/plain": [
       "94871.59846358583"
      ]
     },
     "execution_count": 26,
     "metadata": {},
     "output_type": "execute_result"
    }
   ],
   "source": [
    "# Your code here\n",
    "import math\n",
    "track_standard_deviation = math.sqrt(track_length_variance)  # (track_length_variance)**(1/2)\n",
    "track_standard_deviation"
   ]
  },
  {
   "cell_type": "code",
   "execution_count": 27,
   "metadata": {},
   "outputs": [
    {
     "data": {
      "text/plain": [
       "94871.59846358585"
      ]
     },
     "execution_count": 27,
     "metadata": {},
     "output_type": "execute_result"
    }
   ],
   "source": [
    "# Cross check with numpy\n",
    "np.std(track_durations, ddof=1)"
   ]
  },
  {
   "cell_type": "markdown",
   "metadata": {},
   "source": [
    "# Task 4: Covariance and correlation"
   ]
  },
  {
   "cell_type": "markdown",
   "metadata": {},
   "source": [
    "The formula for covariance of a sample is  \n",
    "\n",
    "$$s_{jk} = \\frac{1}{n-1}\\sum_{i=1}^{n}(x_{ij}-\\bar{x}_j)(x_{ik}-\\bar{x}_k)$$"
   ]
  },
  {
   "cell_type": "markdown",
   "metadata": {},
   "source": [
    "Here are 4 lists variables taken from our Spotify API request."
   ]
  },
  {
   "cell_type": "code",
   "execution_count": 37,
   "metadata": {},
   "outputs": [
    {
     "data": {
      "text/plain": [
       "1000"
      ]
     },
     "execution_count": 37,
     "metadata": {},
     "output_type": "execute_result"
    }
   ],
   "source": [
    "popularity = [track['popularity'] for track in jazz_tracks]\n",
    "duration = [track['duration_ms'] for track in jazz_tracks]\n",
    "total_tracks = [track['album']['total_tracks'] for track in jazz_tracks]\n",
    "track_number =  [track['track_number'] for track in jazz_tracks]\n",
    "len(track_number)"
   ]
  },
  {
   "cell_type": "markdown",
   "metadata": {},
   "source": [
    "Write a function that takes in any two of the 4 lists, and returns the covariance between them."
   ]
  },
  {
   "cell_type": "code",
   "execution_count": 48,
   "metadata": {},
   "outputs": [],
   "source": [
    "# Your code here\n",
    "def covariance(lst_1, lst_2):\n",
    "    n = len(lst_1)\n",
    "    mean_lst1 = sum(lst_1)/n\n",
    "    mean_lst2 = sum(lst_2)/n\n",
    "    summ = 0\n",
    "    for i in range(0,n):\n",
    "        summ += (lst_1[i]-mean_lst1)*(lst_2[i]-mean_lst2)\n",
    "    return summ/n-1"
   ]
  },
  {
   "cell_type": "code",
   "execution_count": 49,
   "metadata": {},
   "outputs": [
    {
     "data": {
      "text/plain": [
       "-39605.132937"
      ]
     },
     "execution_count": 49,
     "metadata": {},
     "output_type": "execute_result"
    }
   ],
   "source": [
    "covariance(popularity,duration)"
   ]
  },
  {
   "cell_type": "markdown",
   "metadata": {},
   "source": [
    "The correlation between two array-like objects is simply the covariance divided by the product of the standard deviatiations of each list.\n",
    "\n",
    "Write a function which calculates the correlation.  You can use the covariance function you calculated above within the correlation function."
   ]
  },
  {
   "cell_type": "code",
   "execution_count": 50,
   "metadata": {},
   "outputs": [],
   "source": [
    "# Your code here\n",
    "import numpy as np\n",
    "def correlation(lst_1,lst_2):\n",
    "    \n",
    "    return covariance(lst_1,lst_2)/(np.std(lst_1)*np.std(lst_2))"
   ]
  },
  {
   "cell_type": "code",
   "execution_count": 53,
   "metadata": {},
   "outputs": [
    {
     "data": {
      "text/plain": [
       "-0.34516950905446286"
      ]
     },
     "execution_count": 53,
     "metadata": {},
     "output_type": "execute_result"
    }
   ],
   "source": [
    "correlation(popularity,track_number)"
   ]
  },
  {
   "cell_type": "markdown",
   "metadata": {},
   "source": [
    "Using your function, of the four lists above, which have the strongest correlation?  Is the correlation positive or negative? What does this mean?"
   ]
  },
  {
   "cell_type": "markdown",
   "metadata": {},
   "source": [
    "- Your written answer here"
   ]
  },
  {
   "cell_type": "markdown",
   "metadata": {},
   "source": [
    "# Task 5:"
   ]
  },
  {
   "cell_type": "code",
   "execution_count": 55,
   "metadata": {},
   "outputs": [
    {
     "data": {
      "text/plain": [
       "[206639, 192160, 155933, 119786, 237106]"
      ]
     },
     "execution_count": 55,
     "metadata": {},
     "output_type": "execute_result"
    }
   ],
   "source": [
    "track_durations[:5]"
   ]
  },
  {
   "cell_type": "markdown",
   "metadata": {},
   "source": [
    "Let's look at a histogram of the jazz track lengths."
   ]
  },
  {
   "cell_type": "code",
   "execution_count": 20,
   "metadata": {},
   "outputs": [
    {
     "data": {
      "image/png": "[encoded data removed]",
      "text/plain": [
       "<Figure size 432x288 with 1 Axes>"
      ]
     },
     "metadata": {
      "needs_background": "light"
     },
     "output_type": "display_data"
    }
   ],
   "source": [
    "# Don't worry about the matplotlib syntax yet\n",
    "fig, ax = plt.subplots()\n",
    "ax.hist(track_durations, bins=20)\n",
    "ax.set_title('Jazz Song Length')\n",
    "ax.set_xlabel('Song Length in MS');"
   ]
  },
  {
   "cell_type": "markdown",
   "metadata": {},
   "source": [
    "Describe the shape of this histogram in the markdown cell below. Is it skewed? Which way? Does the mean you calculated above seem correct? Does it indicate the presence of outliers of song length?"
   ]
  },
  {
   "cell_type": "markdown",
   "metadata": {},
   "source": [
    "- your answer here\n",
    ">\n"
   ]
  },
  {
   "cell_type": "markdown",
   "metadata": {},
   "source": [
    "# Task 6\n",
    "\n",
    "Now, let's write a function that takes in any list of track lengths, then prints and returns the mean, variance, and standard deviation of the list.\n",
    "\n",
    "Feel free to use numpy or other methods to calculate the statistics.\n",
    "\n",
    "As a bonus, the function is pre-coded to print out a histogram as well."
   ]
  },
  {
   "cell_type": "code",
   "execution_count": 42,
   "metadata": {},
   "outputs": [
    {
     "ename": "SyntaxError",
     "evalue": "invalid syntax (<ipython-input-42-e2c99dd6d74f>, line 18)",
     "output_type": "error",
     "traceback": [
      "\u001b[0;36m  File \u001b[0;32m\"<ipython-input-42-e2c99dd6d74f>\"\u001b[0;36m, line \u001b[0;32m18\u001b[0m\n\u001b[0;31m    ax.hist(<fill_in>, bins=20)\u001b[0m\n\u001b[0m            ^\u001b[0m\n\u001b[0;31mSyntaxError\u001b[0m\u001b[0;31m:\u001b[0m invalid syntax\n"
     ]
    }
   ],
   "source": [
    "def track_length_descriptor(track_duration_list, genre=''):\n",
    "    \n",
    "    '''\n",
    "    Params\n",
    "    ______\n",
    "    track_duration_list: a list of track lengths in milliseconds \n",
    "    returned from the spotify API\n",
    "    \n",
    "    genre: a string to add genre to the histogram title.\n",
    "    \n",
    "    Returns\n",
    "    _______\n",
    "    a list containing the mean, variance, and standard deviation of the tracks\n",
    "    \n",
    "    '''\n",
    "    \n",
    "    fig, ax = plt.subplots()\n",
    "    ax.hist(<fill_in>, bins=20)\n",
    "    ax.set_title(f'{genre} Song Length')\n",
    "    ax.set_xlabel('Song Length in MS');\n",
    "    plt.show()\n",
    "    \n"
   ]
  },
  {
   "cell_type": "code",
   "execution_count": 44,
   "metadata": {},
   "outputs": [],
   "source": [
    "with open('data/track_length_lists', 'rb') as read_file:\n",
    "    classical_track_durations, rap_track_durations, punk_track_durations = pickle.load(read_file)"
   ]
  },
  {
   "cell_type": "markdown",
   "metadata": {},
   "source": [
    "Use your function to compare track length statistics between classicle, rap, and punk songs.  "
   ]
  },
  {
   "cell_type": "code",
   "execution_count": 45,
   "metadata": {},
   "outputs": [
    {
     "data": {
      "image/png": "[encoded data removed]",
      "text/plain": [
       "<Figure size 432x288 with 1 Axes>"
      ]
     },
     "metadata": {
      "needs_background": "light"
     },
     "output_type": "display_data"
    },
    {
     "name": "stdout",
     "output_type": "stream",
     "text": [
      "\n",
      "    The mean track length of Classical songs is 165906.707 ms.\n",
      "    The variance of track lengths of Classical songs is 12858950170.405153 ms.\n",
      "    The standard deviation of track lengths of Classical songs is 113397.31112511069 ms.\n",
      "    \n",
      "    \n",
      "    \n"
     ]
    },
    {
     "data": {
      "text/plain": [
       "[165906.707, 12858950170.405153, 113397.31112511069]"
      ]
     },
     "execution_count": 45,
     "metadata": {},
     "output_type": "execute_result"
    }
   ],
   "source": [
    "track_length_descriptor(classical_track_durations, \"Classical\")"
   ]
  },
  {
   "cell_type": "code",
   "execution_count": 46,
   "metadata": {},
   "outputs": [
    {
     "data": {
      "image/png": "[encoded data removed]",
      "text/plain": [
       "<Figure size 432x288 with 1 Axes>"
      ]
     },
     "metadata": {
      "needs_background": "light"
     },
     "output_type": "display_data"
    },
    {
     "name": "stdout",
     "output_type": "stream",
     "text": [
      "\n",
      "    The mean track length of Rap songs is 202687.558 ms.\n",
      "    The variance of track lengths of Rap songs is 2652897639.9546356 ms.\n",
      "    The standard deviation of track lengths of Rap songs is 51506.28738275198 ms.\n",
      "    \n",
      "    \n",
      "    \n"
     ]
    },
    {
     "data": {
      "text/plain": [
       "[202687.558, 2652897639.9546356, 51506.28738275198]"
      ]
     },
     "execution_count": 46,
     "metadata": {},
     "output_type": "execute_result"
    }
   ],
   "source": [
    "track_length_descriptor(rap_track_durations, 'Rap')"
   ]
  },
  {
   "cell_type": "code",
   "execution_count": 47,
   "metadata": {},
   "outputs": [
    {
     "data": {
      "image/png": "[encoded data removed]",
      "text/plain": [
       "<Figure size 432x288 with 1 Axes>"
      ]
     },
     "metadata": {
      "needs_background": "light"
     },
     "output_type": "display_data"
    },
    {
     "name": "stdout",
     "output_type": "stream",
     "text": [
      "\n",
      "    The mean track length of Punk songs is 216115.196 ms.\n",
      "    The variance of track lengths of Punk songs is 3202906042.827584 ms.\n",
      "    The standard deviation of track lengths of Punk songs is 56594.22269832482 ms.\n",
      "    \n",
      "    \n",
      "    \n"
     ]
    },
    {
     "data": {
      "text/plain": [
       "[216115.196, 3202906042.827584, 56594.22269832482]"
      ]
     },
     "execution_count": 47,
     "metadata": {},
     "output_type": "execute_result"
    }
   ],
   "source": [
    "track_length_descriptor(punk_track_durations, 'Punk')"
   ]
  }
 ],
 "metadata": {
  "kernelspec": {
   "display_name": "Python 3",
   "language": "python",
   "name": "python3"
  },
  "language_info": {
   "codemirror_mode": {
    "name": "ipython",
    "version": 3
   },
   "file_extension": ".py",
   "mimetype": "text/x-python",
   "name": "python",
   "nbconvert_exporter": "python",
   "pygments_lexer": "ipython3",
   "version": "3.7.6"
  }
 },
 "nbformat": 4,
 "nbformat_minor": 4
}
