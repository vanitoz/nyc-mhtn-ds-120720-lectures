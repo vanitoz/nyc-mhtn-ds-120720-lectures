{
 "cells": [
  {
   "cell_type": "markdown",
   "metadata": {
    "Collapsed": "false"
   },
   "source": [
    "# What's the point?"
   ]
  },
  {
   "cell_type": "markdown",
   "metadata": {
    "Collapsed": "false"
   },
   "source": [
    "You are a data scientist for the MTA. For your first project, they want you to predict the number of subway riders for each day. You decide to do a linear regression model predict the riders but need to gather data first. With a partner brainstorm a list of different variables you think would explain the number of daily riders. "
   ]
  },
  {
   "cell_type": "markdown",
   "metadata": {
    "Collapsed": "false"
   },
   "source": [
    "# Multiple Linear Regression\n",
    "\n",
    "**Aim**: SWBAT create and interpret a multiple linear regression model, explain the necessity of and perform basic data preparation, and explain what multicolinearity is and how to avoid it. Also, SWBAT check the assumptions of linear regression.\n",
    "\n",
    "Breaking down today's lecture:\n",
    "1. What's the point?*\n",
    "2. How does it work?\n",
    "3. Muliticolini-what? \n",
    "4. Linear Regression Data Prep\n",
    "5. Linear Regression Assumptions*\n",
    "\n",
    "*Sections with stars also apply to simple linear regression, too!*\n",
    "\n",
    "*Notebook based on Flatiron DS Immersive instructor Sean Abu's Multiple Linear Regression lecture.*"
   ]
  },
  {
   "cell_type": "markdown",
   "metadata": {
    "Collapsed": "false"
   },
   "source": [
    "## Why multiple linear regression?\n"
   ]
  },
  {
   "cell_type": "markdown",
   "metadata": {
    "Collapsed": "false"
   },
   "source": [
    "Using all of the features you mentioned is _far_ more effective at predicting and understanding ridership!\n",
    "\n",
    "But, generally speaking, there are 3 major uses for (multiple) linear regression analysis.  \n",
    "\n",
    "1. Useful to **identify the strength of the effect** that the independent variables have on a dependent variable.\n",
    "    - Strong or weak relationship? \n",
    "\n",
    "\n",
    "2. **Quantitatively forecast effects or impacts of changes.**  That is, multiple linear regression analysis helps us to understand how much will the dependent variable change when we change the independent variables.  \n",
    "     - Multiple linear regression allows us to do so _comparatively_ -- does one feature have _more_ of an impact than another? \n",
    "     - Allows us the answer the question: What is the most important feature when predicting our target? \n",
    "\n",
    "\n",
    "3. **Predicts trends and other values outside your dataset.**  The multiple linear regression analysis can be used to get point estimates."
   ]
  },
  {
   "cell_type": "markdown",
   "metadata": {
    "Collapsed": "false"
   },
   "source": [
    "# How does it work?"
   ]
  },
  {
   "cell_type": "markdown",
   "metadata": {
    "Collapsed": "false"
   },
   "source": [
    "## Code\n",
    "Basically the same as what we've already learned!"
   ]
  },
  {
   "cell_type": "code",
   "execution_count": 1,
   "metadata": {
    "Collapsed": "false"
   },
   "outputs": [],
   "source": [
    "import pandas as pd\n",
    "import numpy as np\n",
    "import statsmodels.api as sm\n",
    "import matplotlib.pyplot as plt\n",
    "import seaborn as sns\n",
    "plt.style.use('seaborn')\n",
    "sns.set(style=\"white\")"
   ]
  },
  {
   "cell_type": "code",
   "execution_count": 2,
   "metadata": {
    "Collapsed": "false"
   },
   "outputs": [],
   "source": [
    "#read in car data\n",
    "df = sns.load_dataset('mpg')\n"
   ]
  },
  {
   "cell_type": "code",
   "execution_count": 3,
   "metadata": {},
   "outputs": [],
   "source": [
    "#fill in the missing values for horsepower\n",
    "df['horsepower'].fillna((df['horsepower'].mean()), inplace=True)\n"
   ]
  },
  {
   "cell_type": "code",
   "execution_count": 4,
   "metadata": {
    "Collapsed": "false",
    "scrolled": true
   },
   "outputs": [
    {
     "data": {
      "text/html": [
       "<div>\n",
       "<style scoped>\n",
       "    .dataframe tbody tr th:only-of-type {\n",
       "        vertical-align: middle;\n",
       "    }\n",
       "\n",
       "    .dataframe tbody tr th {\n",
       "        vertical-align: top;\n",
       "    }\n",
       "\n",
       "    .dataframe thead th {\n",
       "        text-align: right;\n",
       "    }\n",
       "</style>\n",
       "<table border=\"1\" class=\"dataframe\">\n",
       "  <thead>\n",
       "    <tr style=\"text-align: right;\">\n",
       "      <th></th>\n",
       "      <th>mpg</th>\n",
       "      <th>cylinders</th>\n",
       "      <th>displacement</th>\n",
       "      <th>horsepower</th>\n",
       "      <th>weight</th>\n",
       "      <th>acceleration</th>\n",
       "      <th>model_year</th>\n",
       "      <th>origin</th>\n",
       "      <th>name</th>\n",
       "    </tr>\n",
       "  </thead>\n",
       "  <tbody>\n",
       "    <tr>\n",
       "      <th>0</th>\n",
       "      <td>18.0</td>\n",
       "      <td>8</td>\n",
       "      <td>307.0</td>\n",
       "      <td>130.0</td>\n",
       "      <td>3504</td>\n",
       "      <td>12.0</td>\n",
       "      <td>70</td>\n",
       "      <td>usa</td>\n",
       "      <td>chevrolet chevelle malibu</td>\n",
       "    </tr>\n",
       "    <tr>\n",
       "      <th>1</th>\n",
       "      <td>15.0</td>\n",
       "      <td>8</td>\n",
       "      <td>350.0</td>\n",
       "      <td>165.0</td>\n",
       "      <td>3693</td>\n",
       "      <td>11.5</td>\n",
       "      <td>70</td>\n",
       "      <td>usa</td>\n",
       "      <td>buick skylark 320</td>\n",
       "    </tr>\n",
       "    <tr>\n",
       "      <th>2</th>\n",
       "      <td>18.0</td>\n",
       "      <td>8</td>\n",
       "      <td>318.0</td>\n",
       "      <td>150.0</td>\n",
       "      <td>3436</td>\n",
       "      <td>11.0</td>\n",
       "      <td>70</td>\n",
       "      <td>usa</td>\n",
       "      <td>plymouth satellite</td>\n",
       "    </tr>\n",
       "    <tr>\n",
       "      <th>3</th>\n",
       "      <td>16.0</td>\n",
       "      <td>8</td>\n",
       "      <td>304.0</td>\n",
       "      <td>150.0</td>\n",
       "      <td>3433</td>\n",
       "      <td>12.0</td>\n",
       "      <td>70</td>\n",
       "      <td>usa</td>\n",
       "      <td>amc rebel sst</td>\n",
       "    </tr>\n",
       "    <tr>\n",
       "      <th>4</th>\n",
       "      <td>17.0</td>\n",
       "      <td>8</td>\n",
       "      <td>302.0</td>\n",
       "      <td>140.0</td>\n",
       "      <td>3449</td>\n",
       "      <td>10.5</td>\n",
       "      <td>70</td>\n",
       "      <td>usa</td>\n",
       "      <td>ford torino</td>\n",
       "    </tr>\n",
       "  </tbody>\n",
       "</table>\n",
       "</div>"
      ],
      "text/plain": [
       "    mpg  cylinders  displacement  horsepower  weight  acceleration  \\\n",
       "0  18.0          8         307.0       130.0    3504          12.0   \n",
       "1  15.0          8         350.0       165.0    3693          11.5   \n",
       "2  18.0          8         318.0       150.0    3436          11.0   \n",
       "3  16.0          8         304.0       150.0    3433          12.0   \n",
       "4  17.0          8         302.0       140.0    3449          10.5   \n",
       "\n",
       "   model_year origin                       name  \n",
       "0          70    usa  chevrolet chevelle malibu  \n",
       "1          70    usa          buick skylark 320  \n",
       "2          70    usa         plymouth satellite  \n",
       "3          70    usa              amc rebel sst  \n",
       "4          70    usa                ford torino  "
      ]
     },
     "execution_count": 4,
     "metadata": {},
     "output_type": "execute_result"
    }
   ],
   "source": [
    "df.head()"
   ]
  },
  {
   "cell_type": "code",
   "execution_count": 19,
   "metadata": {
    "Collapsed": "false"
   },
   "outputs": [],
   "source": [
    "# building a linear regression model using statsmodel \n",
    "from statsmodels.formula.api import ols\n",
    "\n",
    "slr_model = ols(formula='mpg~weight', data=df).fit()"
   ]
  },
  {
   "cell_type": "code",
   "execution_count": 20,
   "metadata": {
    "Collapsed": "false"
   },
   "outputs": [
    {
     "data": {
      "text/html": [
       "<table class=\"simpletable\">\n",
       "<caption>OLS Regression Results</caption>\n",
       "<tr>\n",
       "  <th>Dep. Variable:</th>           <td>mpg</td>       <th>  R-squared:         </th> <td>   0.692</td> \n",
       "</tr>\n",
       "<tr>\n",
       "  <th>Model:</th>                   <td>OLS</td>       <th>  Adj. R-squared:    </th> <td>   0.691</td> \n",
       "</tr>\n",
       "<tr>\n",
       "  <th>Method:</th>             <td>Least Squares</td>  <th>  F-statistic:       </th> <td>   888.9</td> \n",
       "</tr>\n",
       "<tr>\n",
       "  <th>Date:</th>             <td>Tue, 24 Nov 2020</td> <th>  Prob (F-statistic):</th> <td>2.97e-103</td>\n",
       "</tr>\n",
       "<tr>\n",
       "  <th>Time:</th>                 <td>12:21:12</td>     <th>  Log-Likelihood:    </th> <td> -1148.4</td> \n",
       "</tr>\n",
       "<tr>\n",
       "  <th>No. Observations:</th>      <td>   398</td>      <th>  AIC:               </th> <td>   2301.</td> \n",
       "</tr>\n",
       "<tr>\n",
       "  <th>Df Residuals:</th>          <td>   396</td>      <th>  BIC:               </th> <td>   2309.</td> \n",
       "</tr>\n",
       "<tr>\n",
       "  <th>Df Model:</th>              <td>     1</td>      <th>                     </th>     <td> </td>    \n",
       "</tr>\n",
       "<tr>\n",
       "  <th>Covariance Type:</th>      <td>nonrobust</td>    <th>                     </th>     <td> </td>    \n",
       "</tr>\n",
       "</table>\n",
       "<table class=\"simpletable\">\n",
       "<tr>\n",
       "      <td></td>         <th>coef</th>     <th>std err</th>      <th>t</th>      <th>P>|t|</th>  <th>[0.025</th>    <th>0.975]</th>  \n",
       "</tr>\n",
       "<tr>\n",
       "  <th>Intercept</th> <td>   46.3174</td> <td>    0.795</td> <td>   58.243</td> <td> 0.000</td> <td>   44.754</td> <td>   47.881</td>\n",
       "</tr>\n",
       "<tr>\n",
       "  <th>weight</th>    <td>   -0.0077</td> <td>    0.000</td> <td>  -29.814</td> <td> 0.000</td> <td>   -0.008</td> <td>   -0.007</td>\n",
       "</tr>\n",
       "</table>\n",
       "<table class=\"simpletable\">\n",
       "<tr>\n",
       "  <th>Omnibus:</th>       <td>40.423</td> <th>  Durbin-Watson:     </th> <td>   0.797</td>\n",
       "</tr>\n",
       "<tr>\n",
       "  <th>Prob(Omnibus):</th> <td> 0.000</td> <th>  Jarque-Bera (JB):  </th> <td>  56.695</td>\n",
       "</tr>\n",
       "<tr>\n",
       "  <th>Skew:</th>          <td> 0.713</td> <th>  Prob(JB):          </th> <td>4.89e-13</td>\n",
       "</tr>\n",
       "<tr>\n",
       "  <th>Kurtosis:</th>      <td> 4.176</td> <th>  Cond. No.          </th> <td>1.13e+04</td>\n",
       "</tr>\n",
       "</table><br/><br/>Warnings:<br/>[1] Standard Errors assume that the covariance matrix of the errors is correctly specified.<br/>[2] The condition number is large, 1.13e+04. This might indicate that there are<br/>strong multicollinearity or other numerical problems."
      ],
      "text/plain": [
       "<class 'statsmodels.iolib.summary.Summary'>\n",
       "\"\"\"\n",
       "                            OLS Regression Results                            \n",
       "==============================================================================\n",
       "Dep. Variable:                    mpg   R-squared:                       0.692\n",
       "Model:                            OLS   Adj. R-squared:                  0.691\n",
       "Method:                 Least Squares   F-statistic:                     888.9\n",
       "Date:                Tue, 24 Nov 2020   Prob (F-statistic):          2.97e-103\n",
       "Time:                        12:21:12   Log-Likelihood:                -1148.4\n",
       "No. Observations:                 398   AIC:                             2301.\n",
       "Df Residuals:                     396   BIC:                             2309.\n",
       "Df Model:                           1                                         \n",
       "Covariance Type:            nonrobust                                         \n",
       "==============================================================================\n",
       "                 coef    std err          t      P>|t|      [0.025      0.975]\n",
       "------------------------------------------------------------------------------\n",
       "Intercept     46.3174      0.795     58.243      0.000      44.754      47.881\n",
       "weight        -0.0077      0.000    -29.814      0.000      -0.008      -0.007\n",
       "==============================================================================\n",
       "Omnibus:                       40.423   Durbin-Watson:                   0.797\n",
       "Prob(Omnibus):                  0.000   Jarque-Bera (JB):               56.695\n",
       "Skew:                           0.713   Prob(JB):                     4.89e-13\n",
       "Kurtosis:                       4.176   Cond. No.                     1.13e+04\n",
       "==============================================================================\n",
       "\n",
       "Warnings:\n",
       "[1] Standard Errors assume that the covariance matrix of the errors is correctly specified.\n",
       "[2] The condition number is large, 1.13e+04. This might indicate that there are\n",
       "strong multicollinearity or other numerical problems.\n",
       "\"\"\""
      ]
     },
     "execution_count": 20,
     "metadata": {},
     "output_type": "execute_result"
    }
   ],
   "source": [
    "slr_model.summary()"
   ]
  },
  {
   "cell_type": "code",
   "execution_count": 7,
   "metadata": {},
   "outputs": [
    {
     "data": {
      "text/html": [
       "<table class=\"simpletable\">\n",
       "<caption>OLS Regression Results</caption>\n",
       "<tr>\n",
       "  <th>Dep. Variable:</th>           <td>mpg</td>       <th>  R-squared:         </th> <td>   0.705</td> \n",
       "</tr>\n",
       "<tr>\n",
       "  <th>Model:</th>                   <td>OLS</td>       <th>  Adj. R-squared:    </th> <td>   0.702</td> \n",
       "</tr>\n",
       "<tr>\n",
       "  <th>Method:</th>             <td>Least Squares</td>  <th>  F-statistic:       </th> <td>   313.2</td> \n",
       "</tr>\n",
       "<tr>\n",
       "  <th>Date:</th>             <td>Tue, 24 Nov 2020</td> <th>  Prob (F-statistic):</th> <td>6.53e-104</td>\n",
       "</tr>\n",
       "<tr>\n",
       "  <th>Time:</th>                 <td>12:06:17</td>     <th>  Log-Likelihood:    </th> <td> -1140.0</td> \n",
       "</tr>\n",
       "<tr>\n",
       "  <th>No. Observations:</th>      <td>   398</td>      <th>  AIC:               </th> <td>   2288.</td> \n",
       "</tr>\n",
       "<tr>\n",
       "  <th>Df Residuals:</th>          <td>   394</td>      <th>  BIC:               </th> <td>   2304.</td> \n",
       "</tr>\n",
       "<tr>\n",
       "  <th>Df Model:</th>              <td>     3</td>      <th>                     </th>     <td> </td>    \n",
       "</tr>\n",
       "<tr>\n",
       "  <th>Covariance Type:</th>      <td>nonrobust</td>    <th>                     </th>     <td> </td>    \n",
       "</tr>\n",
       "</table>\n",
       "<table class=\"simpletable\">\n",
       "<tr>\n",
       "        <td></td>          <th>coef</th>     <th>std err</th>      <th>t</th>      <th>P>|t|</th>  <th>[0.025</th>    <th>0.975]</th>  \n",
       "</tr>\n",
       "<tr>\n",
       "  <th>Intercept</th>    <td>   44.9132</td> <td>    1.198</td> <td>   37.492</td> <td> 0.000</td> <td>   42.558</td> <td>   47.268</td>\n",
       "</tr>\n",
       "<tr>\n",
       "  <th>weight</th>       <td>   -0.0054</td> <td>    0.001</td> <td>   -7.657</td> <td> 0.000</td> <td>   -0.007</td> <td>   -0.004</td>\n",
       "</tr>\n",
       "<tr>\n",
       "  <th>horsepower</th>   <td>   -0.0374</td> <td>    0.013</td> <td>   -2.957</td> <td> 0.003</td> <td>   -0.062</td> <td>   -0.013</td>\n",
       "</tr>\n",
       "<tr>\n",
       "  <th>displacement</th> <td>   -0.0068</td> <td>    0.007</td> <td>   -1.031</td> <td> 0.303</td> <td>   -0.020</td> <td>    0.006</td>\n",
       "</tr>\n",
       "</table>\n",
       "<table class=\"simpletable\">\n",
       "<tr>\n",
       "  <th>Omnibus:</th>       <td>38.132</td> <th>  Durbin-Watson:     </th> <td>   0.842</td>\n",
       "</tr>\n",
       "<tr>\n",
       "  <th>Prob(Omnibus):</th> <td> 0.000</td> <th>  Jarque-Bera (JB):  </th> <td>  50.215</td>\n",
       "</tr>\n",
       "<tr>\n",
       "  <th>Skew:</th>          <td> 0.713</td> <th>  Prob(JB):          </th> <td>1.25e-11</td>\n",
       "</tr>\n",
       "<tr>\n",
       "  <th>Kurtosis:</th>      <td> 3.998</td> <th>  Cond. No.          </th> <td>1.74e+04</td>\n",
       "</tr>\n",
       "</table><br/><br/>Warnings:<br/>[1] Standard Errors assume that the covariance matrix of the errors is correctly specified.<br/>[2] The condition number is large, 1.74e+04. This might indicate that there are<br/>strong multicollinearity or other numerical problems."
      ],
      "text/plain": [
       "<class 'statsmodels.iolib.summary.Summary'>\n",
       "\"\"\"\n",
       "                            OLS Regression Results                            \n",
       "==============================================================================\n",
       "Dep. Variable:                    mpg   R-squared:                       0.705\n",
       "Model:                            OLS   Adj. R-squared:                  0.702\n",
       "Method:                 Least Squares   F-statistic:                     313.2\n",
       "Date:                Tue, 24 Nov 2020   Prob (F-statistic):          6.53e-104\n",
       "Time:                        12:06:17   Log-Likelihood:                -1140.0\n",
       "No. Observations:                 398   AIC:                             2288.\n",
       "Df Residuals:                     394   BIC:                             2304.\n",
       "Df Model:                           3                                         \n",
       "Covariance Type:            nonrobust                                         \n",
       "================================================================================\n",
       "                   coef    std err          t      P>|t|      [0.025      0.975]\n",
       "--------------------------------------------------------------------------------\n",
       "Intercept       44.9132      1.198     37.492      0.000      42.558      47.268\n",
       "weight          -0.0054      0.001     -7.657      0.000      -0.007      -0.004\n",
       "horsepower      -0.0374      0.013     -2.957      0.003      -0.062      -0.013\n",
       "displacement    -0.0068      0.007     -1.031      0.303      -0.020       0.006\n",
       "==============================================================================\n",
       "Omnibus:                       38.132   Durbin-Watson:                   0.842\n",
       "Prob(Omnibus):                  0.000   Jarque-Bera (JB):               50.215\n",
       "Skew:                           0.713   Prob(JB):                     1.25e-11\n",
       "Kurtosis:                       3.998   Cond. No.                     1.74e+04\n",
       "==============================================================================\n",
       "\n",
       "Warnings:\n",
       "[1] Standard Errors assume that the covariance matrix of the errors is correctly specified.\n",
       "[2] The condition number is large, 1.74e+04. This might indicate that there are\n",
       "strong multicollinearity or other numerical problems.\n",
       "\"\"\""
      ]
     },
     "execution_count": 7,
     "metadata": {},
     "output_type": "execute_result"
    }
   ],
   "source": [
    "# building a linear regression model using statsmodel \n",
    "\n",
    "mlr_model = ols(formula='mpg~weight+horsepower+displacement', data=df).fit()\n",
    "\n",
    "mlr_model.summary()"
   ]
  },
  {
   "cell_type": "markdown",
   "metadata": {},
   "source": [
    "When studying linear regression, you will see many graphs that look like the one below where you are trying to explain the variation in the Y based on x value. This, however, only applies to simple linear regression. This visualization is does not capture the model when working with multiple linear regression. "
   ]
  },
  {
   "cell_type": "code",
   "execution_count": 8,
   "metadata": {},
   "outputs": [
    {
     "data": {
      "image/png": "[encoded data removed]",
      "text/plain": [
       "<Figure size 504x360 with 1 Axes>"
      ]
     },
     "metadata": {},
     "output_type": "display_data"
    }
   ],
   "source": [
    "\n",
    "np.random.seed(1234)\n",
    "sen = np.random.uniform(18, 65, 100)\n",
    "income = np.random.normal((sen/10), 0.5)\n",
    "sen = sen.reshape(-1,1)\n",
    "\n",
    "fig = plt.figure(figsize=(7,5))\n",
    "fig.suptitle('seniority vs. income', fontsize=16)\n",
    "plt.scatter(sen, income)\n",
    "plt.plot(sen, sen/10, c = \"black\")\n",
    "plt.xlabel(\"seniority\", fontsize=14)\n",
    "plt.ylabel(\"monthly income\", fontsize=14)\n",
    "plt.show()"
   ]
  },
  {
   "cell_type": "markdown",
   "metadata": {},
   "source": [
    "If we include another factor, such as years of education, that is  adding anoterh dimension to the model. So with two features, our model will be three dimensional and the line of least squares becomes a plane. \n",
    "<img src=\"multi_reg_graph.png\" style=\"withd:300px;\">"
   ]
  },
  {
   "cell_type": "markdown",
   "metadata": {},
   "source": [
    "Now let's fit a model to all of our continuous features. "
   ]
  },
  {
   "cell_type": "code",
   "execution_count": 21,
   "metadata": {},
   "outputs": [
    {
     "data": {
      "text/html": [
       "<div>\n",
       "<style scoped>\n",
       "    .dataframe tbody tr th:only-of-type {\n",
       "        vertical-align: middle;\n",
       "    }\n",
       "\n",
       "    .dataframe tbody tr th {\n",
       "        vertical-align: top;\n",
       "    }\n",
       "\n",
       "    .dataframe thead th {\n",
       "        text-align: right;\n",
       "    }\n",
       "</style>\n",
       "<table border=\"1\" class=\"dataframe\">\n",
       "  <thead>\n",
       "    <tr style=\"text-align: right;\">\n",
       "      <th></th>\n",
       "      <th>mpg</th>\n",
       "      <th>cylinders</th>\n",
       "      <th>displacement</th>\n",
       "      <th>horsepower</th>\n",
       "      <th>weight</th>\n",
       "      <th>acceleration</th>\n",
       "      <th>model_year</th>\n",
       "      <th>cylinders_scaled</th>\n",
       "      <th>horsepower_scaled</th>\n",
       "      <th>weight_scaled</th>\n",
       "      <th>acceleration_scaled</th>\n",
       "    </tr>\n",
       "  </thead>\n",
       "  <tbody>\n",
       "    <tr>\n",
       "      <th>count</th>\n",
       "      <td>398.000000</td>\n",
       "      <td>398.000000</td>\n",
       "      <td>398.000000</td>\n",
       "      <td>398.000000</td>\n",
       "      <td>398.000000</td>\n",
       "      <td>398.000000</td>\n",
       "      <td>398.000000</td>\n",
       "      <td>3.980000e+02</td>\n",
       "      <td>3.980000e+02</td>\n",
       "      <td>3.980000e+02</td>\n",
       "      <td>3.980000e+02</td>\n",
       "    </tr>\n",
       "    <tr>\n",
       "      <th>mean</th>\n",
       "      <td>23.514573</td>\n",
       "      <td>5.454774</td>\n",
       "      <td>193.425879</td>\n",
       "      <td>104.469388</td>\n",
       "      <td>2970.424623</td>\n",
       "      <td>15.568090</td>\n",
       "      <td>76.010050</td>\n",
       "      <td>-5.171742e-16</td>\n",
       "      <td>4.287469e-16</td>\n",
       "      <td>-9.902743e-17</td>\n",
       "      <td>8.982206e-17</td>\n",
       "    </tr>\n",
       "    <tr>\n",
       "      <th>std</th>\n",
       "      <td>7.815984</td>\n",
       "      <td>1.701004</td>\n",
       "      <td>104.269838</td>\n",
       "      <td>38.199187</td>\n",
       "      <td>846.841774</td>\n",
       "      <td>2.757689</td>\n",
       "      <td>3.697627</td>\n",
       "      <td>1.001259e+00</td>\n",
       "      <td>1.001259e+00</td>\n",
       "      <td>1.001259e+00</td>\n",
       "      <td>1.001259e+00</td>\n",
       "    </tr>\n",
       "    <tr>\n",
       "      <th>min</th>\n",
       "      <td>9.000000</td>\n",
       "      <td>3.000000</td>\n",
       "      <td>68.000000</td>\n",
       "      <td>46.000000</td>\n",
       "      <td>1613.000000</td>\n",
       "      <td>8.000000</td>\n",
       "      <td>70.000000</td>\n",
       "      <td>-1.444949e+00</td>\n",
       "      <td>-1.532571e+00</td>\n",
       "      <td>-1.604943e+00</td>\n",
       "      <td>-2.747814e+00</td>\n",
       "    </tr>\n",
       "    <tr>\n",
       "      <th>25%</th>\n",
       "      <td>17.500000</td>\n",
       "      <td>4.000000</td>\n",
       "      <td>104.250000</td>\n",
       "      <td>76.000000</td>\n",
       "      <td>2223.750000</td>\n",
       "      <td>13.825000</td>\n",
       "      <td>73.000000</td>\n",
       "      <td>-8.563206e-01</td>\n",
       "      <td>-7.462258e-01</td>\n",
       "      <td>-8.828266e-01</td>\n",
       "      <td>-6.328794e-01</td>\n",
       "    </tr>\n",
       "    <tr>\n",
       "      <th>50%</th>\n",
       "      <td>23.000000</td>\n",
       "      <td>4.000000</td>\n",
       "      <td>148.500000</td>\n",
       "      <td>95.000000</td>\n",
       "      <td>2803.500000</td>\n",
       "      <td>15.500000</td>\n",
       "      <td>76.000000</td>\n",
       "      <td>-8.563206e-01</td>\n",
       "      <td>-2.482070e-01</td>\n",
       "      <td>-1.973624e-01</td>\n",
       "      <td>-2.472221e-02</td>\n",
       "    </tr>\n",
       "    <tr>\n",
       "      <th>75%</th>\n",
       "      <td>29.000000</td>\n",
       "      <td>8.000000</td>\n",
       "      <td>262.000000</td>\n",
       "      <td>125.000000</td>\n",
       "      <td>3608.000000</td>\n",
       "      <td>17.175000</td>\n",
       "      <td>79.000000</td>\n",
       "      <td>1.498191e+00</td>\n",
       "      <td>5.381385e-01</td>\n",
       "      <td>7.538337e-01</td>\n",
       "      <td>5.834349e-01</td>\n",
       "    </tr>\n",
       "    <tr>\n",
       "      <th>max</th>\n",
       "      <td>46.600000</td>\n",
       "      <td>8.000000</td>\n",
       "      <td>455.000000</td>\n",
       "      <td>230.000000</td>\n",
       "      <td>5140.000000</td>\n",
       "      <td>24.800000</td>\n",
       "      <td>82.000000</td>\n",
       "      <td>1.498191e+00</td>\n",
       "      <td>3.290348e+00</td>\n",
       "      <td>2.565185e+00</td>\n",
       "      <td>3.351912e+00</td>\n",
       "    </tr>\n",
       "  </tbody>\n",
       "</table>\n",
       "</div>"
      ],
      "text/plain": [
       "              mpg   cylinders  displacement  horsepower       weight  \\\n",
       "count  398.000000  398.000000    398.000000  398.000000   398.000000   \n",
       "mean    23.514573    5.454774    193.425879  104.469388  2970.424623   \n",
       "std      7.815984    1.701004    104.269838   38.199187   846.841774   \n",
       "min      9.000000    3.000000     68.000000   46.000000  1613.000000   \n",
       "25%     17.500000    4.000000    104.250000   76.000000  2223.750000   \n",
       "50%     23.000000    4.000000    148.500000   95.000000  2803.500000   \n",
       "75%     29.000000    8.000000    262.000000  125.000000  3608.000000   \n",
       "max     46.600000    8.000000    455.000000  230.000000  5140.000000   \n",
       "\n",
       "       acceleration  model_year  cylinders_scaled  horsepower_scaled  \\\n",
       "count    398.000000  398.000000      3.980000e+02       3.980000e+02   \n",
       "mean      15.568090   76.010050     -5.171742e-16       4.287469e-16   \n",
       "std        2.757689    3.697627      1.001259e+00       1.001259e+00   \n",
       "min        8.000000   70.000000     -1.444949e+00      -1.532571e+00   \n",
       "25%       13.825000   73.000000     -8.563206e-01      -7.462258e-01   \n",
       "50%       15.500000   76.000000     -8.563206e-01      -2.482070e-01   \n",
       "75%       17.175000   79.000000      1.498191e+00       5.381385e-01   \n",
       "max       24.800000   82.000000      1.498191e+00       3.290348e+00   \n",
       "\n",
       "       weight_scaled  acceleration_scaled  \n",
       "count   3.980000e+02         3.980000e+02  \n",
       "mean   -9.902743e-17         8.982206e-17  \n",
       "std     1.001259e+00         1.001259e+00  \n",
       "min    -1.604943e+00        -2.747814e+00  \n",
       "25%    -8.828266e-01        -6.328794e-01  \n",
       "50%    -1.973624e-01        -2.472221e-02  \n",
       "75%     7.538337e-01         5.834349e-01  \n",
       "max     2.565185e+00         3.351912e+00  "
      ]
     },
     "execution_count": 21,
     "metadata": {},
     "output_type": "execute_result"
    }
   ],
   "source": [
    "df.describe()"
   ]
  },
  {
   "cell_type": "code",
   "execution_count": 9,
   "metadata": {},
   "outputs": [
    {
     "data": {
      "text/html": [
       "<table class=\"simpletable\">\n",
       "<caption>OLS Regression Results</caption>\n",
       "<tr>\n",
       "  <th>Dep. Variable:</th>           <td>mpg</td>       <th>  R-squared:         </th> <td>   0.705</td> \n",
       "</tr>\n",
       "<tr>\n",
       "  <th>Model:</th>                   <td>OLS</td>       <th>  Adj. R-squared:    </th> <td>   0.701</td> \n",
       "</tr>\n",
       "<tr>\n",
       "  <th>Method:</th>             <td>Least Squares</td>  <th>  F-statistic:       </th> <td>   187.5</td> \n",
       "</tr>\n",
       "<tr>\n",
       "  <th>Date:</th>             <td>Tue, 24 Nov 2020</td> <th>  Prob (F-statistic):</th> <td>1.40e-101</td>\n",
       "</tr>\n",
       "<tr>\n",
       "  <th>Time:</th>                 <td>12:06:18</td>     <th>  Log-Likelihood:    </th> <td> -1139.6</td> \n",
       "</tr>\n",
       "<tr>\n",
       "  <th>No. Observations:</th>      <td>   398</td>      <th>  AIC:               </th> <td>   2291.</td> \n",
       "</tr>\n",
       "<tr>\n",
       "  <th>Df Residuals:</th>          <td>   392</td>      <th>  BIC:               </th> <td>   2315.</td> \n",
       "</tr>\n",
       "<tr>\n",
       "  <th>Df Model:</th>              <td>     5</td>      <th>                     </th>     <td> </td>    \n",
       "</tr>\n",
       "<tr>\n",
       "  <th>Covariance Type:</th>      <td>nonrobust</td>    <th>                     </th>     <td> </td>    \n",
       "</tr>\n",
       "</table>\n",
       "<table class=\"simpletable\">\n",
       "<tr>\n",
       "        <td></td>          <th>coef</th>     <th>std err</th>      <th>t</th>      <th>P>|t|</th>  <th>[0.025</th>    <th>0.975]</th>  \n",
       "</tr>\n",
       "<tr>\n",
       "  <th>Intercept</th>    <td>   45.8650</td> <td>    2.635</td> <td>   17.405</td> <td> 0.000</td> <td>   40.684</td> <td>   51.046</td>\n",
       "</tr>\n",
       "<tr>\n",
       "  <th>weight</th>       <td>   -0.0054</td> <td>    0.001</td> <td>   -6.654</td> <td> 0.000</td> <td>   -0.007</td> <td>   -0.004</td>\n",
       "</tr>\n",
       "<tr>\n",
       "  <th>horsepower</th>   <td>   -0.0390</td> <td>    0.016</td> <td>   -2.422</td> <td> 0.016</td> <td>   -0.071</td> <td>   -0.007</td>\n",
       "</tr>\n",
       "<tr>\n",
       "  <th>displacement</th> <td>   -0.0014</td> <td>    0.009</td> <td>   -0.153</td> <td> 0.879</td> <td>   -0.019</td> <td>    0.017</td>\n",
       "</tr>\n",
       "<tr>\n",
       "  <th>cylinders</th>    <td>   -0.3587</td> <td>    0.410</td> <td>   -0.875</td> <td> 0.382</td> <td>   -1.165</td> <td>    0.447</td>\n",
       "</tr>\n",
       "<tr>\n",
       "  <th>acceleration</th> <td>   -0.0070</td> <td>    0.123</td> <td>   -0.057</td> <td> 0.955</td> <td>   -0.248</td> <td>    0.234</td>\n",
       "</tr>\n",
       "</table>\n",
       "<table class=\"simpletable\">\n",
       "<tr>\n",
       "  <th>Omnibus:</th>       <td>38.520</td> <th>  Durbin-Watson:     </th> <td>   0.846</td>\n",
       "</tr>\n",
       "<tr>\n",
       "  <th>Prob(Omnibus):</th> <td> 0.000</td> <th>  Jarque-Bera (JB):  </th> <td>  51.729</td>\n",
       "</tr>\n",
       "<tr>\n",
       "  <th>Skew:</th>          <td> 0.708</td> <th>  Prob(JB):          </th> <td>5.85e-12</td>\n",
       "</tr>\n",
       "<tr>\n",
       "  <th>Kurtosis:</th>      <td> 4.057</td> <th>  Cond. No.          </th> <td>3.82e+04</td>\n",
       "</tr>\n",
       "</table><br/><br/>Warnings:<br/>[1] Standard Errors assume that the covariance matrix of the errors is correctly specified.<br/>[2] The condition number is large, 3.82e+04. This might indicate that there are<br/>strong multicollinearity or other numerical problems."
      ],
      "text/plain": [
       "<class 'statsmodels.iolib.summary.Summary'>\n",
       "\"\"\"\n",
       "                            OLS Regression Results                            \n",
       "==============================================================================\n",
       "Dep. Variable:                    mpg   R-squared:                       0.705\n",
       "Model:                            OLS   Adj. R-squared:                  0.701\n",
       "Method:                 Least Squares   F-statistic:                     187.5\n",
       "Date:                Tue, 24 Nov 2020   Prob (F-statistic):          1.40e-101\n",
       "Time:                        12:06:18   Log-Likelihood:                -1139.6\n",
       "No. Observations:                 398   AIC:                             2291.\n",
       "Df Residuals:                     392   BIC:                             2315.\n",
       "Df Model:                           5                                         \n",
       "Covariance Type:            nonrobust                                         \n",
       "================================================================================\n",
       "                   coef    std err          t      P>|t|      [0.025      0.975]\n",
       "--------------------------------------------------------------------------------\n",
       "Intercept       45.8650      2.635     17.405      0.000      40.684      51.046\n",
       "weight          -0.0054      0.001     -6.654      0.000      -0.007      -0.004\n",
       "horsepower      -0.0390      0.016     -2.422      0.016      -0.071      -0.007\n",
       "displacement    -0.0014      0.009     -0.153      0.879      -0.019       0.017\n",
       "cylinders       -0.3587      0.410     -0.875      0.382      -1.165       0.447\n",
       "acceleration    -0.0070      0.123     -0.057      0.955      -0.248       0.234\n",
       "==============================================================================\n",
       "Omnibus:                       38.520   Durbin-Watson:                   0.846\n",
       "Prob(Omnibus):                  0.000   Jarque-Bera (JB):               51.729\n",
       "Skew:                           0.708   Prob(JB):                     5.85e-12\n",
       "Kurtosis:                       4.057   Cond. No.                     3.82e+04\n",
       "==============================================================================\n",
       "\n",
       "Warnings:\n",
       "[1] Standard Errors assume that the covariance matrix of the errors is correctly specified.\n",
       "[2] The condition number is large, 3.82e+04. This might indicate that there are\n",
       "strong multicollinearity or other numerical problems.\n",
       "\"\"\""
      ]
     },
     "execution_count": 9,
     "metadata": {},
     "output_type": "execute_result"
    }
   ],
   "source": [
    "lr_model = ols(formula='mpg~weight+horsepower+displacement+cylinders+acceleration', data=df).fit()\n",
    "lr_model.summary()"
   ]
  },
  {
   "cell_type": "markdown",
   "metadata": {
    "Collapsed": "false"
   },
   "source": [
    "## Mathematically"
   ]
  },
  {
   "cell_type": "markdown",
   "metadata": {
    "Collapsed": "false"
   },
   "source": [
    "Multiple linear regression has the form:\n",
    "$$Y = \\beta_0 + \\beta_1 X_1 + \\beta_2 X_2  + \\beta_3 X_3\\cdots + \\beta_k X_k + \\epsilon$$"
   ]
  },
  {
   "cell_type": "markdown",
   "metadata": {
    "Collapsed": "true"
   },
   "source": [
    "### Your turn #1\n",
    "Based on what we learned about simple linear regression what do each of the following represent?\n",
    "- $Y$\n",
    "- $\\beta_0$\n",
    "- $\\epsilon$"
   ]
  },
  {
   "cell_type": "markdown",
   "metadata": {
    "Collapsed": "false"
   },
   "source": [
    "### What are $\\beta_1 ... \\beta_n$? How are they computed? "
   ]
  },
  {
   "cell_type": "markdown",
   "metadata": {
    "Collapsed": "false"
   },
   "source": [
    "They are our coefficients of the features in the model, just like in simple linear regression. Each of coefficients represent the impact of $X_i$ on $Y$, *all other features held constant*. \n",
    "- If no other features changed, what impact would increasing $X_i$ by one unit have on the other features? \n",
    "\n",
    "\n",
    "This is essentially how they are computed! See [this article](https://online.stat.psu.edu/stat462/node/132/) for the methods used to calculate these coefficients (note: this will involve lots of linear algebra, but the article explains all the concepts you'll need to know!)."
   ]
  },
  {
   "cell_type": "markdown",
   "metadata": {},
   "source": [
    "___"
   ]
  },
  {
   "cell_type": "markdown",
   "metadata": {
    "Collapsed": "false"
   },
   "source": [
    "# Multicollinearity "
   ]
  },
  {
   "cell_type": "markdown",
   "metadata": {
    "Collapsed": "false"
   },
   "source": [
    "### What is it?"
   ]
  },
  {
   "cell_type": "markdown",
   "metadata": {
    "Collapsed": "false"
   },
   "source": [
    "**Multicollinearity** occurs when \"independent\" variables in a regression model are very highly correlated. \n",
    "- Note the quotes! This is the crux of the issue. (gets into computation - invertible matrices are inherently comprised of independent columns)\n",
    "- Correlation is not the _only_ metric that can be used, though a correlation of .7 and above or .9 and above are common thresholds for \"too\" multicolinear. \n",
    "    - VIF is another metric that you can learn about [here](https://www.investopedia.com/terms/v/variance-inflation-factor)"
   ]
  },
  {
   "cell_type": "markdown",
   "metadata": {
    "Collapsed": "false"
   },
   "source": [
    "There are two basic kinds of multicollinearity:\n",
    "\n",
    "- **Structural multicollinearity:** This type occurs when we create a model term using other terms. You produce it, rather than it being inherent to the data.\n",
    "    - Ex: The salary of a baseball player in dollars and in yen are perfectly correlated \n",
    "- **Data multicollinearity:** This type of multicollinearity is present in the data itself rather than being an artifact of our model. Observational experiments are more likely to exhibit this kind of multicollinearity.\n",
    "    - Ex: How much someone exercises and how much water they drink may be highly correlated "
   ]
  },
  {
   "cell_type": "markdown",
   "metadata": {
    "Collapsed": "false"
   },
   "source": [
    "### What Problems Do Multicollinearity Cause?"
   ]
  },
  {
   "cell_type": "markdown",
   "metadata": {
    "Collapsed": "false"
   },
   "source": [
    "Multicollinearity causes the following two basic types of problems:\n",
    "\n",
    "- The coefficient estimates can swing wildly based on which other independent variables are in the model. The **coefficients become very sensitive to small changes in the model**.\n",
    "- Multicollinearity **reduces the precision of the estimate coefficients, which weakens the statistical power of your regression model**. You might not be able to trust the p-values to identify independent variables that are statistically significant."
   ]
  },
  {
   "cell_type": "markdown",
   "metadata": {
    "Collapsed": "false"
   },
   "source": [
    "### Do I Have to Fix Multicollinearity?"
   ]
  },
  {
   "cell_type": "markdown",
   "metadata": {
    "Collapsed": "false"
   },
   "source": [
    "The need to reduce multicollinearity depends on its severity and your primary goal for your regression model. Keep the following three points in mind:\n",
    "\n",
    "- The **severity of the problems increases with the degree of the multicollinearity**. Therefore, if you have only moderate multicollinearity, you may not need to resolve it.\n",
    "- Multicollinearity **affects only the specific independent variables that are correlated**. Therefore, if multicollinearity is not present for the independent variables that you are particularly interested in, you may not need to resolve it. \n",
    "- Multicollinearity **affects the coefficients and p-values, but it does not influence the predictions**, precision of the predictions, and the goodness-of-fit statistics. If your primary goal is to make predictions, and you don’t need to understand the role of each independent variable, you don’t need to reduce severe multicollinearity.\n",
    "\n",
    "***That being said, the easiest way to deal with multicollinearity is just to remove one of the variables.***"
   ]
  },
  {
   "cell_type": "markdown",
   "metadata": {
    "Collapsed": "false"
   },
   "source": [
    "### Code time!"
   ]
  },
  {
   "cell_type": "code",
   "execution_count": 10,
   "metadata": {
    "Collapsed": "false"
   },
   "outputs": [
    {
     "data": {
      "text/html": [
       "<div>\n",
       "<style scoped>\n",
       "    .dataframe tbody tr th:only-of-type {\n",
       "        vertical-align: middle;\n",
       "    }\n",
       "\n",
       "    .dataframe tbody tr th {\n",
       "        vertical-align: top;\n",
       "    }\n",
       "\n",
       "    .dataframe thead th {\n",
       "        text-align: right;\n",
       "    }\n",
       "</style>\n",
       "<table border=\"1\" class=\"dataframe\">\n",
       "  <thead>\n",
       "    <tr style=\"text-align: right;\">\n",
       "      <th></th>\n",
       "      <th>mpg</th>\n",
       "      <th>cylinders</th>\n",
       "      <th>displacement</th>\n",
       "      <th>horsepower</th>\n",
       "      <th>weight</th>\n",
       "      <th>acceleration</th>\n",
       "      <th>model_year</th>\n",
       "    </tr>\n",
       "  </thead>\n",
       "  <tbody>\n",
       "    <tr>\n",
       "      <th>mpg</th>\n",
       "      <td>1.000000</td>\n",
       "      <td>-0.775396</td>\n",
       "      <td>-0.804203</td>\n",
       "      <td>-0.771437</td>\n",
       "      <td>-0.831741</td>\n",
       "      <td>0.420289</td>\n",
       "      <td>0.579267</td>\n",
       "    </tr>\n",
       "    <tr>\n",
       "      <th>cylinders</th>\n",
       "      <td>-0.775396</td>\n",
       "      <td>1.000000</td>\n",
       "      <td>0.950721</td>\n",
       "      <td>0.838939</td>\n",
       "      <td>0.896017</td>\n",
       "      <td>-0.505419</td>\n",
       "      <td>-0.348746</td>\n",
       "    </tr>\n",
       "    <tr>\n",
       "      <th>displacement</th>\n",
       "      <td>-0.804203</td>\n",
       "      <td>0.950721</td>\n",
       "      <td>1.000000</td>\n",
       "      <td>0.893646</td>\n",
       "      <td>0.932824</td>\n",
       "      <td>-0.543684</td>\n",
       "      <td>-0.370164</td>\n",
       "    </tr>\n",
       "    <tr>\n",
       "      <th>horsepower</th>\n",
       "      <td>-0.771437</td>\n",
       "      <td>0.838939</td>\n",
       "      <td>0.893646</td>\n",
       "      <td>1.000000</td>\n",
       "      <td>0.860574</td>\n",
       "      <td>-0.684259</td>\n",
       "      <td>-0.411651</td>\n",
       "    </tr>\n",
       "    <tr>\n",
       "      <th>weight</th>\n",
       "      <td>-0.831741</td>\n",
       "      <td>0.896017</td>\n",
       "      <td>0.932824</td>\n",
       "      <td>0.860574</td>\n",
       "      <td>1.000000</td>\n",
       "      <td>-0.417457</td>\n",
       "      <td>-0.306564</td>\n",
       "    </tr>\n",
       "    <tr>\n",
       "      <th>acceleration</th>\n",
       "      <td>0.420289</td>\n",
       "      <td>-0.505419</td>\n",
       "      <td>-0.543684</td>\n",
       "      <td>-0.684259</td>\n",
       "      <td>-0.417457</td>\n",
       "      <td>1.000000</td>\n",
       "      <td>0.288137</td>\n",
       "    </tr>\n",
       "    <tr>\n",
       "      <th>model_year</th>\n",
       "      <td>0.579267</td>\n",
       "      <td>-0.348746</td>\n",
       "      <td>-0.370164</td>\n",
       "      <td>-0.411651</td>\n",
       "      <td>-0.306564</td>\n",
       "      <td>0.288137</td>\n",
       "      <td>1.000000</td>\n",
       "    </tr>\n",
       "  </tbody>\n",
       "</table>\n",
       "</div>"
      ],
      "text/plain": [
       "                   mpg  cylinders  displacement  horsepower    weight  \\\n",
       "mpg           1.000000  -0.775396     -0.804203   -0.771437 -0.831741   \n",
       "cylinders    -0.775396   1.000000      0.950721    0.838939  0.896017   \n",
       "displacement -0.804203   0.950721      1.000000    0.893646  0.932824   \n",
       "horsepower   -0.771437   0.838939      0.893646    1.000000  0.860574   \n",
       "weight       -0.831741   0.896017      0.932824    0.860574  1.000000   \n",
       "acceleration  0.420289  -0.505419     -0.543684   -0.684259 -0.417457   \n",
       "model_year    0.579267  -0.348746     -0.370164   -0.411651 -0.306564   \n",
       "\n",
       "              acceleration  model_year  \n",
       "mpg               0.420289    0.579267  \n",
       "cylinders        -0.505419   -0.348746  \n",
       "displacement     -0.543684   -0.370164  \n",
       "horsepower       -0.684259   -0.411651  \n",
       "weight           -0.417457   -0.306564  \n",
       "acceleration      1.000000    0.288137  \n",
       "model_year        0.288137    1.000000  "
      ]
     },
     "execution_count": 10,
     "metadata": {},
     "output_type": "execute_result"
    }
   ],
   "source": [
    "# Compute the correlation matrix\n",
    "corr = df.corr()\n",
    "corr"
   ]
  },
  {
   "cell_type": "code",
   "execution_count": 11,
   "metadata": {
    "Collapsed": "false"
   },
   "outputs": [
    {
     "data": {
      "image/png": "[encoded data removed]",
      "text/plain": [
       "<Figure size 396x396 with 2 Axes>"
      ]
     },
     "metadata": {},
     "output_type": "display_data"
    }
   ],
   "source": [
    "plt.matshow(df.corr())\n",
    "plt.xticks(range(len(df.columns)), df.columns)\n",
    "plt.yticks(range(len(df.columns)), df.columns)\n",
    "plt.colorbar()\n",
    "plt.show()"
   ]
  },
  {
   "cell_type": "markdown",
   "metadata": {
    "Collapsed": "false"
   },
   "source": [
    "Ooof, that's one ugly heatmap -- let's make a better one so we can really see what's going on."
   ]
  },
  {
   "cell_type": "markdown",
   "metadata": {
    "Collapsed": "false"
   },
   "source": [
    "#### Create a Better Looking Heatmap with Seaborn"
   ]
  },
  {
   "cell_type": "code",
   "execution_count": 12,
   "metadata": {
    "Collapsed": "false"
   },
   "outputs": [
    {
     "data": {
      "image/png": "[encoded data removed]",
      "text/plain": [
       "<Figure size 720x648 with 2 Axes>"
      ]
     },
     "metadata": {},
     "output_type": "display_data"
    }
   ],
   "source": [
    "# Set up  matplotlib figure (might have to play around with the \n",
    "# figsize if your labels aren't so legible and you don't want\n",
    "# to mess with the labels using matplotlib)\n",
    "f, ax = plt.subplots(figsize=(10, 9))\n",
    "\n",
    "# Create an upper triangular matrix to use to get rid of duplicate/\n",
    "# useless values\n",
    "mask = np.zeros_like(df.corr())\n",
    "mask[np.triu_indices_from(mask)] = True\n",
    "\n",
    "# plot the heatmap\n",
    "with sns.axes_style(\"white\"):\n",
    "    ax = sns.heatmap(df.corr(), mask=mask, square=True)\n",
    "    \n",
    "# fix for mpl bug that cuts off top/bottom of seaborn viz\n",
    "# credit: https://github.com/mwaskom/seaborn/issues/1773 SalMac86's post\n",
    "b, t = plt.ylim() # discover the values for bottom and top\n",
    "b += 0.5 # Add 0.5 to the bottom\n",
    "t -= 0.5 # Subtract 0.5 from the top\n",
    "plt.ylim(b, t) # update the ylim(bottom, top) values\n",
    "plt.show() # ta-da!"
   ]
  },
  {
   "cell_type": "markdown",
   "metadata": {
    "Collapsed": "false"
   },
   "source": [
    "Much better! Now, you try running a model with the appropriate, non-correlated, features."
   ]
  },
  {
   "cell_type": "markdown",
   "metadata": {},
   "source": [
    "#### Identify multicolinearity with VIF"
   ]
  },
  {
   "cell_type": "code",
   "execution_count": 13,
   "metadata": {},
   "outputs": [
    {
     "name": "stdout",
     "output_type": "stream",
     "text": [
      "        feature         VIF\n",
      "0     cylinders  100.855930\n",
      "1  displacement   73.378919\n",
      "2    horsepower   42.492715\n",
      "3        weight  134.544842\n",
      "4  acceleration   27.705847\n"
     ]
    }
   ],
   "source": [
    "from statsmodels.stats.outliers_influence import variance_inflation_factor\n",
    "\n",
    "\n",
    "# the independent variables set \n",
    "X = df[['cylinders', 'displacement', 'horsepower', 'weight', 'acceleration']] \n",
    "  \n",
    "# VIF dataframe \n",
    "vif_data = pd.DataFrame() \n",
    "vif_data[\"feature\"] = X.columns \n",
    "  \n",
    "# calculating VIF for each feature \n",
    "vif_data[\"VIF\"] = [variance_inflation_factor(X.values, i) \n",
    "                          for i in range(len(X.columns))] \n",
    "  \n",
    "print(vif_data)"
   ]
  },
  {
   "cell_type": "markdown",
   "metadata": {},
   "source": [
    "According to these numbers, there is extreme multi-collinearity through all of the features, which makes it difficult to decide which one to remove. We can use domain knowledge to help us identify the most important variable, or look at the results of the linear regression model   "
   ]
  },
  {
   "cell_type": "markdown",
   "metadata": {
    "Collapsed": "false"
   },
   "source": [
    "#### Rerun the model after removing the highly correlated variables"
   ]
  },
  {
   "cell_type": "code",
   "execution_count": 29,
   "metadata": {
    "Collapsed": "false"
   },
   "outputs": [
    {
     "data": {
      "text/html": [
       "<table class=\"simpletable\">\n",
       "<caption>OLS Regression Results</caption>\n",
       "<tr>\n",
       "  <th>Dep. Variable:</th>           <td>mpg</td>       <th>  R-squared:         </th> <td>   0.705</td> \n",
       "</tr>\n",
       "<tr>\n",
       "  <th>Model:</th>                   <td>OLS</td>       <th>  Adj. R-squared:    </th> <td>   0.703</td> \n",
       "</tr>\n",
       "<tr>\n",
       "  <th>Method:</th>             <td>Least Squares</td>  <th>  F-statistic:       </th> <td>   314.0</td> \n",
       "</tr>\n",
       "<tr>\n",
       "  <th>Date:</th>             <td>Tue, 24 Nov 2020</td> <th>  Prob (F-statistic):</th> <td>4.51e-104</td>\n",
       "</tr>\n",
       "<tr>\n",
       "  <th>Time:</th>                 <td>13:08:53</td>     <th>  Log-Likelihood:    </th> <td> -1139.6</td> \n",
       "</tr>\n",
       "<tr>\n",
       "  <th>No. Observations:</th>      <td>   398</td>      <th>  AIC:               </th> <td>   2287.</td> \n",
       "</tr>\n",
       "<tr>\n",
       "  <th>Df Residuals:</th>          <td>   394</td>      <th>  BIC:               </th> <td>   2303.</td> \n",
       "</tr>\n",
       "<tr>\n",
       "  <th>Df Model:</th>              <td>     3</td>      <th>                     </th>     <td> </td>    \n",
       "</tr>\n",
       "<tr>\n",
       "  <th>Covariance Type:</th>      <td>nonrobust</td>    <th>                     </th>     <td> </td>    \n",
       "</tr>\n",
       "</table>\n",
       "<table class=\"simpletable\">\n",
       "<tr>\n",
       "       <td></td>         <th>coef</th>     <th>std err</th>      <th>t</th>      <th>P>|t|</th>  <th>[0.025</th>    <th>0.975]</th>  \n",
       "</tr>\n",
       "<tr>\n",
       "  <th>Intercept</th>  <td>   45.9353</td> <td>    0.792</td> <td>   58.000</td> <td> 0.000</td> <td>   44.378</td> <td>   47.492</td>\n",
       "</tr>\n",
       "<tr>\n",
       "  <th>weight</th>     <td>   -0.0054</td> <td>    0.001</td> <td>   -8.531</td> <td> 0.000</td> <td>   -0.007</td> <td>   -0.004</td>\n",
       "</tr>\n",
       "<tr>\n",
       "  <th>horsepower</th> <td>   -0.0393</td> <td>    0.012</td> <td>   -3.407</td> <td> 0.001</td> <td>   -0.062</td> <td>   -0.017</td>\n",
       "</tr>\n",
       "<tr>\n",
       "  <th>cylinders</th>  <td>   -0.3991</td> <td>    0.297</td> <td>   -1.345</td> <td> 0.179</td> <td>   -0.983</td> <td>    0.184</td>\n",
       "</tr>\n",
       "</table>\n",
       "<table class=\"simpletable\">\n",
       "<tr>\n",
       "  <th>Omnibus:</th>       <td>38.034</td> <th>  Durbin-Watson:     </th> <td>   0.845</td>\n",
       "</tr>\n",
       "<tr>\n",
       "  <th>Prob(Omnibus):</th> <td> 0.000</td> <th>  Jarque-Bera (JB):  </th> <td>  50.921</td>\n",
       "</tr>\n",
       "<tr>\n",
       "  <th>Skew:</th>          <td> 0.702</td> <th>  Prob(JB):          </th> <td>8.76e-12</td>\n",
       "</tr>\n",
       "<tr>\n",
       "  <th>Kurtosis:</th>      <td> 4.049</td> <th>  Cond. No.          </th> <td>1.15e+04</td>\n",
       "</tr>\n",
       "</table><br/><br/>Warnings:<br/>[1] Standard Errors assume that the covariance matrix of the errors is correctly specified.<br/>[2] The condition number is large, 1.15e+04. This might indicate that there are<br/>strong multicollinearity or other numerical problems."
      ],
      "text/plain": [
       "<class 'statsmodels.iolib.summary.Summary'>\n",
       "\"\"\"\n",
       "                            OLS Regression Results                            \n",
       "==============================================================================\n",
       "Dep. Variable:                    mpg   R-squared:                       0.705\n",
       "Model:                            OLS   Adj. R-squared:                  0.703\n",
       "Method:                 Least Squares   F-statistic:                     314.0\n",
       "Date:                Tue, 24 Nov 2020   Prob (F-statistic):          4.51e-104\n",
       "Time:                        13:08:53   Log-Likelihood:                -1139.6\n",
       "No. Observations:                 398   AIC:                             2287.\n",
       "Df Residuals:                     394   BIC:                             2303.\n",
       "Df Model:                           3                                         \n",
       "Covariance Type:            nonrobust                                         \n",
       "==============================================================================\n",
       "                 coef    std err          t      P>|t|      [0.025      0.975]\n",
       "------------------------------------------------------------------------------\n",
       "Intercept     45.9353      0.792     58.000      0.000      44.378      47.492\n",
       "weight        -0.0054      0.001     -8.531      0.000      -0.007      -0.004\n",
       "horsepower    -0.0393      0.012     -3.407      0.001      -0.062      -0.017\n",
       "cylinders     -0.3991      0.297     -1.345      0.179      -0.983       0.184\n",
       "==============================================================================\n",
       "Omnibus:                       38.034   Durbin-Watson:                   0.845\n",
       "Prob(Omnibus):                  0.000   Jarque-Bera (JB):               50.921\n",
       "Skew:                           0.702   Prob(JB):                     8.76e-12\n",
       "Kurtosis:                       4.049   Cond. No.                     1.15e+04\n",
       "==============================================================================\n",
       "\n",
       "Warnings:\n",
       "[1] Standard Errors assume that the covariance matrix of the errors is correctly specified.\n",
       "[2] The condition number is large, 1.15e+04. This might indicate that there are\n",
       "strong multicollinearity or other numerical problems.\n",
       "\"\"\""
      ]
     },
     "execution_count": 29,
     "metadata": {},
     "output_type": "execute_result"
    }
   ],
   "source": [
    "mlr_model = ols(formula='mpg~weight+horsepower+cylinders ', data=df).fit()\n",
    "mlr_model.summary()"
   ]
  },
  {
   "cell_type": "markdown",
   "metadata": {
    "Collapsed": "false"
   },
   "source": [
    "## The Coefficient of Determination: Another way to think about multiple linear regression"
   ]
  },
  {
   "cell_type": "markdown",
   "metadata": {
    "Collapsed": "false"
   },
   "source": [
    "Multiple linear regression is simply a linear regression with more than one predictor, or independent variables. \n",
    "\n",
    "Recall the interpretation of $R^2$ in simple linear regression:\n",
    "- $R^2$ represents the proportion of variance explained by the model. \n",
    "\n",
    "**So, we have another interpretation of multiple linear regression:**\n",
    "\n",
    "By including more predictors, we make the model more complex in an effort to account for more variance in our target."
   ]
  },
  {
   "cell_type": "markdown",
   "metadata": {},
   "source": [
    "### Adjusted $R^2$ \n",
    "\n",
    "$R^2$ shows how well terms (data points) fit a curve or line. Adjusted R2 also indicates how well terms fit a curve or line, but adjusts for the number of terms in a model. If you add more and more useless variables to a model, adjusted r-squared will decrease. If you add more useful variables, adjusted r-squared will increase.\n",
    "Adjusted R2 will always be less than or equal to R2."
   ]
  },
  {
   "cell_type": "markdown",
   "metadata": {},
   "source": [
    "<img src=\"https://www.statisticshowto.com/wp-content/uploads/2013/09/r-squared-adjusted.jpg\"\n",
    "     />\n",
    "\n",
    "\n",
    "\n",
    "\n",
    "where:\n",
    "\n",
    "n is the number of points in your data sample.\n",
    "k is the number of independent regressors, i.e. the number of variables in your model, excluding the constant.\n"
   ]
  },
  {
   "cell_type": "markdown",
   "metadata": {},
   "source": [
    "https://blog.minitab.com/blog/adventures-in-statistics-2/how-high-should-r-squared-be-in-regression-analysis"
   ]
  },
  {
   "cell_type": "markdown",
   "metadata": {},
   "source": [
    "___"
   ]
  },
  {
   "cell_type": "markdown",
   "metadata": {},
   "source": [
    "## Question\n",
    "Looking at the model summary above, which feature appears to have the biggest impact on the MPG of these cars?"
   ]
  },
  {
   "cell_type": "markdown",
   "metadata": {},
   "source": [
    "## Scaling Data\n",
    "\n",
    "Most of the times, your dataset will contain features highly varying in magnitudes, units and range (ex: acceleration and range). For linear regression models, this makes it difficult to compare the sizes of the coefficients for different variables. We want to **get everything on the same scale so that nothing comes accross as more or less important because of the way it's measured**.\n",
    "\n",
    "Three common ways to scale the data are:\n",
    "1. **Standardization**: This redistributes the features with their mean μ = 0 and standard deviation σ =1 . `sklearn.preprocessing.scale` helps us implementing standardization in python. \n",
    "$$x' =\\frac{x-\\bar{x}}{\\sigma}$$\n",
    "\n",
    "2. **Mean Normalization**: This distribution will have values between -1 and 1 with μ=0.\n",
    "\n",
    "$$x' =\\frac{x-\\bar{x}}{max(x)- min(x)}$$\n",
    "\n",
    "3. **Min-Max Scaling**: This scaling brings the value between 0 and 1.\n",
    "\n",
    "$$x' =\\frac{x-min(x)}{max(x)- min(x)}$$\n",
    "\n",
    "\n",
    "\n",
    "https://medium.com/@swethalakshmanan14/how-when-and-why-should-you-normalize-standardize-rescale-your-data-3f083def38ff"
   ]
  },
  {
   "cell_type": "code",
   "execution_count": 15,
   "metadata": {
    "Collapsed": "false"
   },
   "outputs": [],
   "source": [
    "from sklearn.preprocessing import StandardScaler\n",
    "scaler = StandardScaler()"
   ]
  },
  {
   "cell_type": "code",
   "execution_count": 16,
   "metadata": {
    "Collapsed": "false"
   },
   "outputs": [],
   "source": [
    "subset= ['cylinders', 'horsepower', 'weight',\n",
    "       'acceleration']"
   ]
  },
  {
   "cell_type": "code",
   "execution_count": 17,
   "metadata": {
    "Collapsed": "false"
   },
   "outputs": [],
   "source": [
    "subset_scaled = []\n",
    "for var in subset:\n",
    "    new_col = var +\"_scaled\"\n",
    "    df[new_col] = scaler.fit_transform(df[[var]])\n",
    "    subset_scaled.append(new_col)"
   ]
  },
  {
   "cell_type": "code",
   "execution_count": 33,
   "metadata": {
    "Collapsed": "false"
   },
   "outputs": [
    {
     "data": {
      "text/html": [
       "<div>\n",
       "<style scoped>\n",
       "    .dataframe tbody tr th:only-of-type {\n",
       "        vertical-align: middle;\n",
       "    }\n",
       "\n",
       "    .dataframe tbody tr th {\n",
       "        vertical-align: top;\n",
       "    }\n",
       "\n",
       "    .dataframe thead th {\n",
       "        text-align: right;\n",
       "    }\n",
       "</style>\n",
       "<table border=\"1\" class=\"dataframe\">\n",
       "  <thead>\n",
       "    <tr style=\"text-align: right;\">\n",
       "      <th></th>\n",
       "      <th>mpg</th>\n",
       "      <th>cylinders</th>\n",
       "      <th>displacement</th>\n",
       "      <th>horsepower</th>\n",
       "      <th>weight</th>\n",
       "      <th>acceleration</th>\n",
       "      <th>model_year</th>\n",
       "      <th>origin</th>\n",
       "      <th>name</th>\n",
       "      <th>cylinders_scaled</th>\n",
       "      <th>horsepower_scaled</th>\n",
       "      <th>weight_scaled</th>\n",
       "      <th>acceleration_scaled</th>\n",
       "    </tr>\n",
       "  </thead>\n",
       "  <tbody>\n",
       "    <tr>\n",
       "      <th>0</th>\n",
       "      <td>18.0</td>\n",
       "      <td>8</td>\n",
       "      <td>307.0</td>\n",
       "      <td>130.0</td>\n",
       "      <td>3504</td>\n",
       "      <td>12.0</td>\n",
       "      <td>70</td>\n",
       "      <td>usa</td>\n",
       "      <td>chevrolet chevelle malibu</td>\n",
       "      <td>1.498191</td>\n",
       "      <td>0.669196</td>\n",
       "      <td>0.630870</td>\n",
       "      <td>-1.295498</td>\n",
       "    </tr>\n",
       "    <tr>\n",
       "      <th>1</th>\n",
       "      <td>15.0</td>\n",
       "      <td>8</td>\n",
       "      <td>350.0</td>\n",
       "      <td>165.0</td>\n",
       "      <td>3693</td>\n",
       "      <td>11.5</td>\n",
       "      <td>70</td>\n",
       "      <td>usa</td>\n",
       "      <td>buick skylark 320</td>\n",
       "      <td>1.498191</td>\n",
       "      <td>1.586599</td>\n",
       "      <td>0.854333</td>\n",
       "      <td>-1.477038</td>\n",
       "    </tr>\n",
       "    <tr>\n",
       "      <th>2</th>\n",
       "      <td>18.0</td>\n",
       "      <td>8</td>\n",
       "      <td>318.0</td>\n",
       "      <td>150.0</td>\n",
       "      <td>3436</td>\n",
       "      <td>11.0</td>\n",
       "      <td>70</td>\n",
       "      <td>usa</td>\n",
       "      <td>plymouth satellite</td>\n",
       "      <td>1.498191</td>\n",
       "      <td>1.193426</td>\n",
       "      <td>0.550470</td>\n",
       "      <td>-1.658577</td>\n",
       "    </tr>\n",
       "    <tr>\n",
       "      <th>3</th>\n",
       "      <td>16.0</td>\n",
       "      <td>8</td>\n",
       "      <td>304.0</td>\n",
       "      <td>150.0</td>\n",
       "      <td>3433</td>\n",
       "      <td>12.0</td>\n",
       "      <td>70</td>\n",
       "      <td>usa</td>\n",
       "      <td>amc rebel sst</td>\n",
       "      <td>1.498191</td>\n",
       "      <td>1.193426</td>\n",
       "      <td>0.546923</td>\n",
       "      <td>-1.295498</td>\n",
       "    </tr>\n",
       "    <tr>\n",
       "      <th>4</th>\n",
       "      <td>17.0</td>\n",
       "      <td>8</td>\n",
       "      <td>302.0</td>\n",
       "      <td>140.0</td>\n",
       "      <td>3449</td>\n",
       "      <td>10.5</td>\n",
       "      <td>70</td>\n",
       "      <td>usa</td>\n",
       "      <td>ford torino</td>\n",
       "      <td>1.498191</td>\n",
       "      <td>0.931311</td>\n",
       "      <td>0.565841</td>\n",
       "      <td>-1.840117</td>\n",
       "    </tr>\n",
       "    <tr>\n",
       "      <th>5</th>\n",
       "      <td>15.0</td>\n",
       "      <td>8</td>\n",
       "      <td>429.0</td>\n",
       "      <td>198.0</td>\n",
       "      <td>4341</td>\n",
       "      <td>10.0</td>\n",
       "      <td>70</td>\n",
       "      <td>usa</td>\n",
       "      <td>ford galaxie 500</td>\n",
       "      <td>1.498191</td>\n",
       "      <td>2.451579</td>\n",
       "      <td>1.620492</td>\n",
       "      <td>-2.021656</td>\n",
       "    </tr>\n",
       "    <tr>\n",
       "      <th>6</th>\n",
       "      <td>14.0</td>\n",
       "      <td>8</td>\n",
       "      <td>454.0</td>\n",
       "      <td>220.0</td>\n",
       "      <td>4354</td>\n",
       "      <td>9.0</td>\n",
       "      <td>70</td>\n",
       "      <td>usa</td>\n",
       "      <td>chevrolet impala</td>\n",
       "      <td>1.498191</td>\n",
       "      <td>3.028233</td>\n",
       "      <td>1.635863</td>\n",
       "      <td>-2.384735</td>\n",
       "    </tr>\n",
       "    <tr>\n",
       "      <th>7</th>\n",
       "      <td>14.0</td>\n",
       "      <td>8</td>\n",
       "      <td>440.0</td>\n",
       "      <td>215.0</td>\n",
       "      <td>4312</td>\n",
       "      <td>8.5</td>\n",
       "      <td>70</td>\n",
       "      <td>usa</td>\n",
       "      <td>plymouth fury iii</td>\n",
       "      <td>1.498191</td>\n",
       "      <td>2.897175</td>\n",
       "      <td>1.586204</td>\n",
       "      <td>-2.566274</td>\n",
       "    </tr>\n",
       "    <tr>\n",
       "      <th>8</th>\n",
       "      <td>14.0</td>\n",
       "      <td>8</td>\n",
       "      <td>455.0</td>\n",
       "      <td>225.0</td>\n",
       "      <td>4425</td>\n",
       "      <td>10.0</td>\n",
       "      <td>70</td>\n",
       "      <td>usa</td>\n",
       "      <td>pontiac catalina</td>\n",
       "      <td>1.498191</td>\n",
       "      <td>3.159290</td>\n",
       "      <td>1.719809</td>\n",
       "      <td>-2.021656</td>\n",
       "    </tr>\n",
       "    <tr>\n",
       "      <th>9</th>\n",
       "      <td>15.0</td>\n",
       "      <td>8</td>\n",
       "      <td>390.0</td>\n",
       "      <td>190.0</td>\n",
       "      <td>3850</td>\n",
       "      <td>8.5</td>\n",
       "      <td>70</td>\n",
       "      <td>usa</td>\n",
       "      <td>amc ambassador dpl</td>\n",
       "      <td>1.498191</td>\n",
       "      <td>2.241887</td>\n",
       "      <td>1.039961</td>\n",
       "      <td>-2.566274</td>\n",
       "    </tr>\n",
       "    <tr>\n",
       "      <th>10</th>\n",
       "      <td>15.0</td>\n",
       "      <td>8</td>\n",
       "      <td>383.0</td>\n",
       "      <td>170.0</td>\n",
       "      <td>3563</td>\n",
       "      <td>10.0</td>\n",
       "      <td>70</td>\n",
       "      <td>usa</td>\n",
       "      <td>dodge challenger se</td>\n",
       "      <td>1.498191</td>\n",
       "      <td>1.717657</td>\n",
       "      <td>0.700628</td>\n",
       "      <td>-2.021656</td>\n",
       "    </tr>\n",
       "    <tr>\n",
       "      <th>11</th>\n",
       "      <td>14.0</td>\n",
       "      <td>8</td>\n",
       "      <td>340.0</td>\n",
       "      <td>160.0</td>\n",
       "      <td>3609</td>\n",
       "      <td>8.0</td>\n",
       "      <td>70</td>\n",
       "      <td>usa</td>\n",
       "      <td>plymouth 'cuda 340</td>\n",
       "      <td>1.498191</td>\n",
       "      <td>1.455542</td>\n",
       "      <td>0.755016</td>\n",
       "      <td>-2.747814</td>\n",
       "    </tr>\n",
       "    <tr>\n",
       "      <th>12</th>\n",
       "      <td>15.0</td>\n",
       "      <td>8</td>\n",
       "      <td>400.0</td>\n",
       "      <td>150.0</td>\n",
       "      <td>3761</td>\n",
       "      <td>9.5</td>\n",
       "      <td>70</td>\n",
       "      <td>usa</td>\n",
       "      <td>chevrolet monte carlo</td>\n",
       "      <td>1.498191</td>\n",
       "      <td>1.193426</td>\n",
       "      <td>0.934732</td>\n",
       "      <td>-2.203196</td>\n",
       "    </tr>\n",
       "    <tr>\n",
       "      <th>13</th>\n",
       "      <td>14.0</td>\n",
       "      <td>8</td>\n",
       "      <td>455.0</td>\n",
       "      <td>225.0</td>\n",
       "      <td>3086</td>\n",
       "      <td>10.0</td>\n",
       "      <td>70</td>\n",
       "      <td>usa</td>\n",
       "      <td>buick estate wagon (sw)</td>\n",
       "      <td>1.498191</td>\n",
       "      <td>3.159290</td>\n",
       "      <td>0.136650</td>\n",
       "      <td>-2.021656</td>\n",
       "    </tr>\n",
       "    <tr>\n",
       "      <th>14</th>\n",
       "      <td>24.0</td>\n",
       "      <td>4</td>\n",
       "      <td>113.0</td>\n",
       "      <td>95.0</td>\n",
       "      <td>2372</td>\n",
       "      <td>15.0</td>\n",
       "      <td>70</td>\n",
       "      <td>japan</td>\n",
       "      <td>toyota corona mark ii</td>\n",
       "      <td>-0.856321</td>\n",
       "      <td>-0.248207</td>\n",
       "      <td>-0.707544</td>\n",
       "      <td>-0.206262</td>\n",
       "    </tr>\n",
       "    <tr>\n",
       "      <th>15</th>\n",
       "      <td>22.0</td>\n",
       "      <td>6</td>\n",
       "      <td>198.0</td>\n",
       "      <td>95.0</td>\n",
       "      <td>2833</td>\n",
       "      <td>15.5</td>\n",
       "      <td>70</td>\n",
       "      <td>usa</td>\n",
       "      <td>plymouth duster</td>\n",
       "      <td>0.320935</td>\n",
       "      <td>-0.248207</td>\n",
       "      <td>-0.162483</td>\n",
       "      <td>-0.024722</td>\n",
       "    </tr>\n",
       "    <tr>\n",
       "      <th>16</th>\n",
       "      <td>18.0</td>\n",
       "      <td>6</td>\n",
       "      <td>199.0</td>\n",
       "      <td>97.0</td>\n",
       "      <td>2774</td>\n",
       "      <td>15.5</td>\n",
       "      <td>70</td>\n",
       "      <td>usa</td>\n",
       "      <td>amc hornet</td>\n",
       "      <td>0.320935</td>\n",
       "      <td>-0.195784</td>\n",
       "      <td>-0.232242</td>\n",
       "      <td>-0.024722</td>\n",
       "    </tr>\n",
       "    <tr>\n",
       "      <th>17</th>\n",
       "      <td>21.0</td>\n",
       "      <td>6</td>\n",
       "      <td>200.0</td>\n",
       "      <td>85.0</td>\n",
       "      <td>2587</td>\n",
       "      <td>16.0</td>\n",
       "      <td>70</td>\n",
       "      <td>usa</td>\n",
       "      <td>ford maverick</td>\n",
       "      <td>0.320935</td>\n",
       "      <td>-0.510322</td>\n",
       "      <td>-0.453340</td>\n",
       "      <td>0.156817</td>\n",
       "    </tr>\n",
       "    <tr>\n",
       "      <th>18</th>\n",
       "      <td>27.0</td>\n",
       "      <td>4</td>\n",
       "      <td>97.0</td>\n",
       "      <td>88.0</td>\n",
       "      <td>2130</td>\n",
       "      <td>14.5</td>\n",
       "      <td>70</td>\n",
       "      <td>japan</td>\n",
       "      <td>datsun pl510</td>\n",
       "      <td>-0.856321</td>\n",
       "      <td>-0.431688</td>\n",
       "      <td>-0.993671</td>\n",
       "      <td>-0.387801</td>\n",
       "    </tr>\n",
       "    <tr>\n",
       "      <th>19</th>\n",
       "      <td>26.0</td>\n",
       "      <td>4</td>\n",
       "      <td>97.0</td>\n",
       "      <td>46.0</td>\n",
       "      <td>1835</td>\n",
       "      <td>20.5</td>\n",
       "      <td>70</td>\n",
       "      <td>europe</td>\n",
       "      <td>volkswagen 1131 deluxe sedan</td>\n",
       "      <td>-0.856321</td>\n",
       "      <td>-1.532571</td>\n",
       "      <td>-1.342463</td>\n",
       "      <td>1.790672</td>\n",
       "    </tr>\n",
       "    <tr>\n",
       "      <th>20</th>\n",
       "      <td>25.0</td>\n",
       "      <td>4</td>\n",
       "      <td>110.0</td>\n",
       "      <td>87.0</td>\n",
       "      <td>2672</td>\n",
       "      <td>17.5</td>\n",
       "      <td>70</td>\n",
       "      <td>europe</td>\n",
       "      <td>peugeot 504</td>\n",
       "      <td>-0.856321</td>\n",
       "      <td>-0.457899</td>\n",
       "      <td>-0.352841</td>\n",
       "      <td>0.701436</td>\n",
       "    </tr>\n",
       "    <tr>\n",
       "      <th>21</th>\n",
       "      <td>24.0</td>\n",
       "      <td>4</td>\n",
       "      <td>107.0</td>\n",
       "      <td>90.0</td>\n",
       "      <td>2430</td>\n",
       "      <td>14.5</td>\n",
       "      <td>70</td>\n",
       "      <td>europe</td>\n",
       "      <td>audi 100 ls</td>\n",
       "      <td>-0.856321</td>\n",
       "      <td>-0.379265</td>\n",
       "      <td>-0.638968</td>\n",
       "      <td>-0.387801</td>\n",
       "    </tr>\n",
       "    <tr>\n",
       "      <th>22</th>\n",
       "      <td>25.0</td>\n",
       "      <td>4</td>\n",
       "      <td>104.0</td>\n",
       "      <td>95.0</td>\n",
       "      <td>2375</td>\n",
       "      <td>17.5</td>\n",
       "      <td>70</td>\n",
       "      <td>europe</td>\n",
       "      <td>saab 99e</td>\n",
       "      <td>-0.856321</td>\n",
       "      <td>-0.248207</td>\n",
       "      <td>-0.703997</td>\n",
       "      <td>0.701436</td>\n",
       "    </tr>\n",
       "    <tr>\n",
       "      <th>23</th>\n",
       "      <td>26.0</td>\n",
       "      <td>4</td>\n",
       "      <td>121.0</td>\n",
       "      <td>113.0</td>\n",
       "      <td>2234</td>\n",
       "      <td>12.5</td>\n",
       "      <td>70</td>\n",
       "      <td>europe</td>\n",
       "      <td>bmw 2002</td>\n",
       "      <td>-0.856321</td>\n",
       "      <td>0.223600</td>\n",
       "      <td>-0.870708</td>\n",
       "      <td>-1.113959</td>\n",
       "    </tr>\n",
       "    <tr>\n",
       "      <th>24</th>\n",
       "      <td>21.0</td>\n",
       "      <td>6</td>\n",
       "      <td>199.0</td>\n",
       "      <td>90.0</td>\n",
       "      <td>2648</td>\n",
       "      <td>15.0</td>\n",
       "      <td>70</td>\n",
       "      <td>usa</td>\n",
       "      <td>amc gremlin</td>\n",
       "      <td>0.320935</td>\n",
       "      <td>-0.379265</td>\n",
       "      <td>-0.381217</td>\n",
       "      <td>-0.206262</td>\n",
       "    </tr>\n",
       "    <tr>\n",
       "      <th>25</th>\n",
       "      <td>10.0</td>\n",
       "      <td>8</td>\n",
       "      <td>360.0</td>\n",
       "      <td>215.0</td>\n",
       "      <td>4615</td>\n",
       "      <td>14.0</td>\n",
       "      <td>70</td>\n",
       "      <td>usa</td>\n",
       "      <td>ford f250</td>\n",
       "      <td>1.498191</td>\n",
       "      <td>2.897175</td>\n",
       "      <td>1.944455</td>\n",
       "      <td>-0.569341</td>\n",
       "    </tr>\n",
       "    <tr>\n",
       "      <th>26</th>\n",
       "      <td>10.0</td>\n",
       "      <td>8</td>\n",
       "      <td>307.0</td>\n",
       "      <td>200.0</td>\n",
       "      <td>4376</td>\n",
       "      <td>15.0</td>\n",
       "      <td>70</td>\n",
       "      <td>usa</td>\n",
       "      <td>chevy c20</td>\n",
       "      <td>1.498191</td>\n",
       "      <td>2.504002</td>\n",
       "      <td>1.661874</td>\n",
       "      <td>-0.206262</td>\n",
       "    </tr>\n",
       "    <tr>\n",
       "      <th>27</th>\n",
       "      <td>11.0</td>\n",
       "      <td>8</td>\n",
       "      <td>318.0</td>\n",
       "      <td>210.0</td>\n",
       "      <td>4382</td>\n",
       "      <td>13.5</td>\n",
       "      <td>70</td>\n",
       "      <td>usa</td>\n",
       "      <td>dodge d200</td>\n",
       "      <td>1.498191</td>\n",
       "      <td>2.766117</td>\n",
       "      <td>1.668968</td>\n",
       "      <td>-0.750880</td>\n",
       "    </tr>\n",
       "    <tr>\n",
       "      <th>28</th>\n",
       "      <td>9.0</td>\n",
       "      <td>8</td>\n",
       "      <td>304.0</td>\n",
       "      <td>193.0</td>\n",
       "      <td>4732</td>\n",
       "      <td>18.5</td>\n",
       "      <td>70</td>\n",
       "      <td>usa</td>\n",
       "      <td>hi 1200d</td>\n",
       "      <td>1.498191</td>\n",
       "      <td>2.320522</td>\n",
       "      <td>2.082789</td>\n",
       "      <td>1.064514</td>\n",
       "    </tr>\n",
       "    <tr>\n",
       "      <th>29</th>\n",
       "      <td>27.0</td>\n",
       "      <td>4</td>\n",
       "      <td>97.0</td>\n",
       "      <td>88.0</td>\n",
       "      <td>2130</td>\n",
       "      <td>14.5</td>\n",
       "      <td>71</td>\n",
       "      <td>japan</td>\n",
       "      <td>datsun pl510</td>\n",
       "      <td>-0.856321</td>\n",
       "      <td>-0.431688</td>\n",
       "      <td>-0.993671</td>\n",
       "      <td>-0.387801</td>\n",
       "    </tr>\n",
       "  </tbody>\n",
       "</table>\n",
       "</div>"
      ],
      "text/plain": [
       "     mpg  cylinders  displacement  horsepower  weight  acceleration  \\\n",
       "0   18.0          8         307.0       130.0    3504          12.0   \n",
       "1   15.0          8         350.0       165.0    3693          11.5   \n",
       "2   18.0          8         318.0       150.0    3436          11.0   \n",
       "3   16.0          8         304.0       150.0    3433          12.0   \n",
       "4   17.0          8         302.0       140.0    3449          10.5   \n",
       "5   15.0          8         429.0       198.0    4341          10.0   \n",
       "6   14.0          8         454.0       220.0    4354           9.0   \n",
       "7   14.0          8         440.0       215.0    4312           8.5   \n",
       "8   14.0          8         455.0       225.0    4425          10.0   \n",
       "9   15.0          8         390.0       190.0    3850           8.5   \n",
       "10  15.0          8         383.0       170.0    3563          10.0   \n",
       "11  14.0          8         340.0       160.0    3609           8.0   \n",
       "12  15.0          8         400.0       150.0    3761           9.5   \n",
       "13  14.0          8         455.0       225.0    3086          10.0   \n",
       "14  24.0          4         113.0        95.0    2372          15.0   \n",
       "15  22.0          6         198.0        95.0    2833          15.5   \n",
       "16  18.0          6         199.0        97.0    2774          15.5   \n",
       "17  21.0          6         200.0        85.0    2587          16.0   \n",
       "18  27.0          4          97.0        88.0    2130          14.5   \n",
       "19  26.0          4          97.0        46.0    1835          20.5   \n",
       "20  25.0          4         110.0        87.0    2672          17.5   \n",
       "21  24.0          4         107.0        90.0    2430          14.5   \n",
       "22  25.0          4         104.0        95.0    2375          17.5   \n",
       "23  26.0          4         121.0       113.0    2234          12.5   \n",
       "24  21.0          6         199.0        90.0    2648          15.0   \n",
       "25  10.0          8         360.0       215.0    4615          14.0   \n",
       "26  10.0          8         307.0       200.0    4376          15.0   \n",
       "27  11.0          8         318.0       210.0    4382          13.5   \n",
       "28   9.0          8         304.0       193.0    4732          18.5   \n",
       "29  27.0          4          97.0        88.0    2130          14.5   \n",
       "\n",
       "    model_year  origin                          name  cylinders_scaled  \\\n",
       "0           70     usa     chevrolet chevelle malibu          1.498191   \n",
       "1           70     usa             buick skylark 320          1.498191   \n",
       "2           70     usa            plymouth satellite          1.498191   \n",
       "3           70     usa                 amc rebel sst          1.498191   \n",
       "4           70     usa                   ford torino          1.498191   \n",
       "5           70     usa              ford galaxie 500          1.498191   \n",
       "6           70     usa              chevrolet impala          1.498191   \n",
       "7           70     usa             plymouth fury iii          1.498191   \n",
       "8           70     usa              pontiac catalina          1.498191   \n",
       "9           70     usa            amc ambassador dpl          1.498191   \n",
       "10          70     usa           dodge challenger se          1.498191   \n",
       "11          70     usa            plymouth 'cuda 340          1.498191   \n",
       "12          70     usa         chevrolet monte carlo          1.498191   \n",
       "13          70     usa       buick estate wagon (sw)          1.498191   \n",
       "14          70   japan         toyota corona mark ii         -0.856321   \n",
       "15          70     usa               plymouth duster          0.320935   \n",
       "16          70     usa                    amc hornet          0.320935   \n",
       "17          70     usa                 ford maverick          0.320935   \n",
       "18          70   japan                  datsun pl510         -0.856321   \n",
       "19          70  europe  volkswagen 1131 deluxe sedan         -0.856321   \n",
       "20          70  europe                   peugeot 504         -0.856321   \n",
       "21          70  europe                   audi 100 ls         -0.856321   \n",
       "22          70  europe                      saab 99e         -0.856321   \n",
       "23          70  europe                      bmw 2002         -0.856321   \n",
       "24          70     usa                   amc gremlin          0.320935   \n",
       "25          70     usa                     ford f250          1.498191   \n",
       "26          70     usa                     chevy c20          1.498191   \n",
       "27          70     usa                    dodge d200          1.498191   \n",
       "28          70     usa                      hi 1200d          1.498191   \n",
       "29          71   japan                  datsun pl510         -0.856321   \n",
       "\n",
       "    horsepower_scaled  weight_scaled  acceleration_scaled  \n",
       "0            0.669196       0.630870            -1.295498  \n",
       "1            1.586599       0.854333            -1.477038  \n",
       "2            1.193426       0.550470            -1.658577  \n",
       "3            1.193426       0.546923            -1.295498  \n",
       "4            0.931311       0.565841            -1.840117  \n",
       "5            2.451579       1.620492            -2.021656  \n",
       "6            3.028233       1.635863            -2.384735  \n",
       "7            2.897175       1.586204            -2.566274  \n",
       "8            3.159290       1.719809            -2.021656  \n",
       "9            2.241887       1.039961            -2.566274  \n",
       "10           1.717657       0.700628            -2.021656  \n",
       "11           1.455542       0.755016            -2.747814  \n",
       "12           1.193426       0.934732            -2.203196  \n",
       "13           3.159290       0.136650            -2.021656  \n",
       "14          -0.248207      -0.707544            -0.206262  \n",
       "15          -0.248207      -0.162483            -0.024722  \n",
       "16          -0.195784      -0.232242            -0.024722  \n",
       "17          -0.510322      -0.453340             0.156817  \n",
       "18          -0.431688      -0.993671            -0.387801  \n",
       "19          -1.532571      -1.342463             1.790672  \n",
       "20          -0.457899      -0.352841             0.701436  \n",
       "21          -0.379265      -0.638968            -0.387801  \n",
       "22          -0.248207      -0.703997             0.701436  \n",
       "23           0.223600      -0.870708            -1.113959  \n",
       "24          -0.379265      -0.381217            -0.206262  \n",
       "25           2.897175       1.944455            -0.569341  \n",
       "26           2.504002       1.661874            -0.206262  \n",
       "27           2.766117       1.668968            -0.750880  \n",
       "28           2.320522       2.082789             1.064514  \n",
       "29          -0.431688      -0.993671            -0.387801  "
      ]
     },
     "execution_count": 33,
     "metadata": {},
     "output_type": "execute_result"
    }
   ],
   "source": [
    "df.head(30)"
   ]
  },
  {
   "cell_type": "markdown",
   "metadata": {},
   "source": [
    "#### Your turn \n",
    "\n",
    "Fit a model to the scaled data and show the  summary of the model "
   ]
  },
  {
   "cell_type": "code",
   "execution_count": 32,
   "metadata": {
    "Collapsed": "false"
   },
   "outputs": [
    {
     "data": {
      "text/html": [
       "<table class=\"simpletable\">\n",
       "<caption>OLS Regression Results</caption>\n",
       "<tr>\n",
       "  <th>Dep. Variable:</th>           <td>mpg</td>       <th>  R-squared:         </th> <td>   0.705</td> \n",
       "</tr>\n",
       "<tr>\n",
       "  <th>Model:</th>                   <td>OLS</td>       <th>  Adj. R-squared:    </th> <td>   0.702</td> \n",
       "</tr>\n",
       "<tr>\n",
       "  <th>Method:</th>             <td>Least Squares</td>  <th>  F-statistic:       </th> <td>   234.9</td> \n",
       "</tr>\n",
       "<tr>\n",
       "  <th>Date:</th>             <td>Tue, 24 Nov 2020</td> <th>  Prob (F-statistic):</th> <td>8.68e-103</td>\n",
       "</tr>\n",
       "<tr>\n",
       "  <th>Time:</th>                 <td>13:25:56</td>     <th>  Log-Likelihood:    </th> <td> -1139.6</td> \n",
       "</tr>\n",
       "<tr>\n",
       "  <th>No. Observations:</th>      <td>   398</td>      <th>  AIC:               </th> <td>   2289.</td> \n",
       "</tr>\n",
       "<tr>\n",
       "  <th>Df Residuals:</th>          <td>   393</td>      <th>  BIC:               </th> <td>   2309.</td> \n",
       "</tr>\n",
       "<tr>\n",
       "  <th>Df Model:</th>              <td>     4</td>      <th>                     </th>     <td> </td>    \n",
       "</tr>\n",
       "<tr>\n",
       "  <th>Covariance Type:</th>      <td>nonrobust</td>    <th>                     </th>     <td> </td>    \n",
       "</tr>\n",
       "</table>\n",
       "<table class=\"simpletable\">\n",
       "<tr>\n",
       "           <td></td>              <th>coef</th>     <th>std err</th>      <th>t</th>      <th>P>|t|</th>  <th>[0.025</th>    <th>0.975]</th>  \n",
       "</tr>\n",
       "<tr>\n",
       "  <th>Intercept</th>           <td>   23.5146</td> <td>    0.214</td> <td>  109.964</td> <td> 0.000</td> <td>   23.094</td> <td>   23.935</td>\n",
       "</tr>\n",
       "<tr>\n",
       "  <th>weight_scaled</th>       <td>   -4.5853</td> <td>    0.608</td> <td>   -7.546</td> <td> 0.000</td> <td>   -5.780</td> <td>   -3.391</td>\n",
       "</tr>\n",
       "<tr>\n",
       "  <th>cylinders_scaled</th>    <td>   -0.6815</td> <td>    0.512</td> <td>   -1.330</td> <td> 0.184</td> <td>   -1.689</td> <td>    0.326</td>\n",
       "</tr>\n",
       "<tr>\n",
       "  <th>horsepower_scaled</th>   <td>   -1.5134</td> <td>    0.593</td> <td>   -2.552</td> <td> 0.011</td> <td>   -2.679</td> <td>   -0.347</td>\n",
       "</tr>\n",
       "<tr>\n",
       "  <th>acceleration_scaled</th> <td>   -0.0133</td> <td>    0.335</td> <td>   -0.040</td> <td> 0.968</td> <td>   -0.673</td> <td>    0.646</td>\n",
       "</tr>\n",
       "</table>\n",
       "<table class=\"simpletable\">\n",
       "<tr>\n",
       "  <th>Omnibus:</th>       <td>38.200</td> <th>  Durbin-Watson:     </th> <td>   0.846</td>\n",
       "</tr>\n",
       "<tr>\n",
       "  <th>Prob(Omnibus):</th> <td> 0.000</td> <th>  Jarque-Bera (JB):  </th> <td>  51.231</td>\n",
       "</tr>\n",
       "<tr>\n",
       "  <th>Skew:</th>          <td> 0.703</td> <th>  Prob(JB):          </th> <td>7.50e-12</td>\n",
       "</tr>\n",
       "<tr>\n",
       "  <th>Kurtosis:</th>      <td> 4.054</td> <th>  Cond. No.          </th> <td>    6.77</td>\n",
       "</tr>\n",
       "</table><br/><br/>Warnings:<br/>[1] Standard Errors assume that the covariance matrix of the errors is correctly specified."
      ],
      "text/plain": [
       "<class 'statsmodels.iolib.summary.Summary'>\n",
       "\"\"\"\n",
       "                            OLS Regression Results                            \n",
       "==============================================================================\n",
       "Dep. Variable:                    mpg   R-squared:                       0.705\n",
       "Model:                            OLS   Adj. R-squared:                  0.702\n",
       "Method:                 Least Squares   F-statistic:                     234.9\n",
       "Date:                Tue, 24 Nov 2020   Prob (F-statistic):          8.68e-103\n",
       "Time:                        13:25:56   Log-Likelihood:                -1139.6\n",
       "No. Observations:                 398   AIC:                             2289.\n",
       "Df Residuals:                     393   BIC:                             2309.\n",
       "Df Model:                           4                                         \n",
       "Covariance Type:            nonrobust                                         \n",
       "=======================================================================================\n",
       "                          coef    std err          t      P>|t|      [0.025      0.975]\n",
       "---------------------------------------------------------------------------------------\n",
       "Intercept              23.5146      0.214    109.964      0.000      23.094      23.935\n",
       "weight_scaled          -4.5853      0.608     -7.546      0.000      -5.780      -3.391\n",
       "cylinders_scaled       -0.6815      0.512     -1.330      0.184      -1.689       0.326\n",
       "horsepower_scaled      -1.5134      0.593     -2.552      0.011      -2.679      -0.347\n",
       "acceleration_scaled    -0.0133      0.335     -0.040      0.968      -0.673       0.646\n",
       "==============================================================================\n",
       "Omnibus:                       38.200   Durbin-Watson:                   0.846\n",
       "Prob(Omnibus):                  0.000   Jarque-Bera (JB):               51.231\n",
       "Skew:                           0.703   Prob(JB):                     7.50e-12\n",
       "Kurtosis:                       4.054   Cond. No.                         6.77\n",
       "==============================================================================\n",
       "\n",
       "Warnings:\n",
       "[1] Standard Errors assume that the covariance matrix of the errors is correctly specified.\n",
       "\"\"\""
      ]
     },
     "execution_count": 32,
     "metadata": {},
     "output_type": "execute_result"
    }
   ],
   "source": [
    "scaled_model = ols(formula='mpg~weight_scaled+cylinders_scaled+horsepower_scaled + acceleration_scaled', data= df ).fit()\n",
    "scaled_model.summary()"
   ]
  },
  {
   "cell_type": "markdown",
   "metadata": {
    "Collapsed": "false"
   },
   "source": [
    "🚗 🚕 🚙 🚌 🚎 🏎 🚓 🚚 🚛 🚜 🚗 🚕 🚙 🚌 🚎 🏎 🚓 🚚 🚛 🚜 🚗 🚕 🚙 🚌 🚎 🏎 🚓 🚚 🚛 🚜 🚗 🚕 🚙 🚌 🚎 🏎 🚓 🚚 🚛 🚜\n",
    "\n",
    "Now our coefficients are on a similiar scale which allows us to compare the size of the coeffiecents to make some inferences about which features have a bigger impact on the MPG of a car. \n"
   ]
  },
  {
   "cell_type": "markdown",
   "metadata": {},
   "source": [
    "**Which feature appears to have the largest impact on the MPG of the car?**\n"
   ]
  },
  {
   "cell_type": "code",
   "execution_count": null,
   "metadata": {
    "collapsed": true
   },
   "outputs": [],
   "source": [
    "# your answer here"
   ]
  },
  {
   "cell_type": "markdown",
   "metadata": {},
   "source": [
    "**Please write a sentence to interpret the meaning of that coefficient with respect to the target variable.**"
   ]
  },
  {
   "cell_type": "code",
   "execution_count": null,
   "metadata": {
    "collapsed": true
   },
   "outputs": [],
   "source": [
    "# your answer here"
   ]
  },
  {
   "cell_type": "markdown",
   "metadata": {
    "Collapsed": "false"
   },
   "source": [
    "# Linear Regression Assumptions"
   ]
  },
  {
   "cell_type": "markdown",
   "metadata": {
    "Collapsed": "true"
   },
   "source": [
    "## 1. There is a linear relationship"
   ]
  },
  {
   "cell_type": "markdown",
   "metadata": {
    "Collapsed": "false"
   },
   "source": [
    "This model _cannot_ model non-linear relationships, as discussed previously!"
   ]
  },
  {
   "cell_type": "markdown",
   "metadata": {
    "Collapsed": "true"
   },
   "source": [
    "## 2. Independence of Observations"
   ]
  },
  {
   "cell_type": "markdown",
   "metadata": {
    "Collapsed": "false"
   },
   "source": [
    "Columns should be independent, but we also cannot have one row depend on the next.\n",
    "\n",
    "Ex: If you shuffled the rows, would the data still make sense?\n",
    "- One example where this would not be the case - stock prices! Each day is related to the last (theoretically?)."
   ]
  },
  {
   "cell_type": "markdown",
   "metadata": {
    "Collapsed": "true"
   },
   "source": [
    "## 3. Errors are normally distributed  "
   ]
  },
  {
   "cell_type": "markdown",
   "metadata": {},
   "source": [
    "https://online.stat.psu.edu/stat462/node/122/"
   ]
  },
  {
   "cell_type": "markdown",
   "metadata": {},
   "source": [
    " ## 4. Homescedasticity of errors"
   ]
  },
  {
   "cell_type": "markdown",
   "metadata": {
    "Collapsed": "false"
   },
   "source": [
    "Basically, when we plot our residuals, we don't want to see a trend in what we get wrong.\n",
    "\n",
    "<img src='https://www.jmp.com/en_us/statistics-knowledge-portal/what-is-regression/simple-linear-regression-assumptions/_jcr_content/par/styledcontainer_2069/par/lightbox_e99c/lightboxImage.img.png/1548702854476.png' width=700>\n",
    "\n",
    "<img src='https://www.jmp.com/en_us/statistics-knowledge-portal/what-is-regression/simple-linear-regression-assumptions/_jcr_content/par/styledcontainer_2069/par/lightbox_7320/lightboxImage.img.png/1548702854735.png' width=700>\n",
    "\n",
    "<img src='https://www.jmp.com/en_us/statistics-knowledge-portal/what-is-regression/simple-linear-regression-assumptions/_jcr_content/par/styledcontainer_2069/par/lightbox_dccd/lightboxImage.img.png/1548702855060.png' width=700>\n",
    "\n",
    "[Source](https://www.jmp.com/en_us/statistics-knowledge-portal/what-is-regression/simple-linear-regression-assumptions/)"
   ]
  },
  {
   "cell_type": "markdown",
   "metadata": {},
   "source": [
    "## What does it mean if our model/data does not meet those assumptions?\n",
    "\n",
    "\n",
    "The model can still be fit and predict a value. \n",
    "\n",
    "Remember that from our model we can create a prediction and a confidence interval for the predicted values.  \n",
    "\n",
    "If we find that our errors follow a pattern then the assumptions we make about our confidence interval will not be accurate.  "
   ]
  },
  {
   "cell_type": "markdown",
   "metadata": {},
   "source": [
    "<img src='https://online.stat.psu.edu/onlinecourses/sites/stat501/files/02predicty/regress_mort_lat_PICI.png' width=700>"
   ]
  },
  {
   "cell_type": "markdown",
   "metadata": {},
   "source": [
    "<img src='https://i.ytimg.com/vi/leKfpdaLYiQ/maxresdefault.jpg' width=700>"
   ]
  },
  {
   "cell_type": "markdown",
   "metadata": {
    "Collapsed": "false"
   },
   "source": [
    "# Other resources to consult"
   ]
  },
  {
   "cell_type": "markdown",
   "metadata": {
    "Collapsed": "false"
   },
   "source": [
    "Everything about regression:  https://blog.minitab.com/blog/adventures-in-statistics-2/regression-analysis-tutorial-and-examples\n",
    "\n",
    "Statsmodels example: https://datatofish.com/statsmodels-linear-regression/"
   ]
  }
 ],
 "metadata": {
  "kernelspec": {
   "display_name": "Python 3",
   "language": "python",
   "name": "python3"
  },
  "language_info": {
   "codemirror_mode": {
    "name": "ipython",
    "version": 3
   },
   "file_extension": ".py",
   "mimetype": "text/x-python",
   "name": "python",
   "nbconvert_exporter": "python",
   "pygments_lexer": "ipython3",
   "version": "3.7.3"
  }
 },
 "nbformat": 4,
 "nbformat_minor": 4
}
