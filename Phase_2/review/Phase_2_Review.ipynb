{
 "cells": [
  {
   "cell_type": "markdown",
   "metadata": {},
   "source": [
    "# Phase 2 Review"
   ]
  },
  {
   "cell_type": "code",
   "execution_count": 504,
   "metadata": {},
   "outputs": [],
   "source": [
    "import pandas as pd\n",
    "import numpy as np\n",
    "from sklearn.preprocessing import StandardScaler\n",
    "from statsmodels.formula.api import ols\n",
    "import scipy.stats as scs\n",
    "import math\n",
    "\n",
    "pd.set_option('display.max_columns', 100)"
   ]
  },
  {
   "cell_type": "markdown",
   "metadata": {},
   "source": [
    "### Check Your Data … Quickly\n",
    "The first thing you want to do when you get a new dataset, is to quickly to verify the contents with the .head() method."
   ]
  },
  {
   "cell_type": "code",
   "execution_count": 505,
   "metadata": {},
   "outputs": [
    {
     "name": "stdout",
     "output_type": "stream",
     "text": [
      "(5043, 28)\n"
     ]
    }
   ],
   "source": [
    "df = pd.read_csv('movie_metadata.csv')\n",
    "print(df.shape)\n",
    "#df.head()"
   ]
  },
  {
   "cell_type": "code",
   "execution_count": 506,
   "metadata": {},
   "outputs": [],
   "source": [
    "df = df.dropna(subset=['gross','title_year'])"
   ]
  },
  {
   "cell_type": "markdown",
   "metadata": {},
   "source": [
    "## Question 1\n",
    "\n",
    "A Hollywood executive wants to know how much an R-rated movie released after 2000 will earn. The data above is a sample of some of the movies with that rating during that timeframe, as well as other movies. How would you go about answering her question? Talk through it theoretically and then do it in code.\n",
    "\n",
    "What is the 95% confidence interval for a post-2000 R-rated movie's box office gross?"
   ]
  },
  {
   "cell_type": "code",
   "execution_count": 507,
   "metadata": {},
   "outputs": [],
   "source": [
    "# talk through your answer here\n",
    "\n",
    "# 1. Filter data. Define subset of data that only contains year > 2000 and rating R\n",
    "# 2. Make sure our quantitative variable does not have None / NaN values.\n",
    "# 3. There is no STD of population avail. will do computation with t-score"
   ]
  },
  {
   "cell_type": "code",
   "execution_count": 564,
   "metadata": {},
   "outputs": [],
   "source": [
    "df1 = df[(df.content_rating == 'R') & (df.title_year > 2000.0)]\n",
    "\n",
    "sample = df1.gross\n",
    "\n",
    "def confidence_interval(threshold):\n",
    "    \"\"\"\n",
    "    params : sample - lsit of valuses with numeric values\n",
    "             trashold - integer as pct\n",
    "    \"\"\"\n",
    "    n = 100        # number of observations in the sample\n",
    "    m = 19     # mean, avg\n",
    "    s = 3     # diviation\n",
    "    alpha = (1-(1-95/100)/2)\n",
    "    #t_score = scs.norm.ppf(alpha)              # in case we \n",
    "    t_score = scs.t.ppf(alpha, df=len(sample))\n",
    "\n",
    "    moe = t_score*(s/math.sqrt(n))    # calculate margin of error\n",
    "    conf_int = (m-moe, m+moe)   # calculate confidance interval \n",
    "    \n",
    "    return print(\"\"\"\n",
    "    \n",
    "    We are {}% confident that true population mean falls between {} and {}\n",
    "    \n",
    "    Our sample mean is {}.\n",
    "    \"\"\".format(threshold, round(conf_int[0],2), round(conf_int[1],2), round(m, 2)))"
   ]
  },
  {
   "cell_type": "code",
   "execution_count": 565,
   "metadata": {},
   "outputs": [
    {
     "name": "stdout",
     "output_type": "stream",
     "text": [
      "\n",
      "    \n",
      "    We are 95% confident that true population mean falls between 18.41 and 19.59\n",
      "    \n",
      "    Our sample mean is 19.\n",
      "    \n"
     ]
    }
   ],
   "source": [
    "confidence_interval(95)"
   ]
  },
  {
   "cell_type": "markdown",
   "metadata": {},
   "source": [
    "## Question 2a\n",
    "\n",
    "Your ability to answer the first question has the executive excited and now she has many other questions about the types of movies being made and the differences in those movies budgets and gross amounts.\n",
    "\n",
    "Read through the questions below and **determine what type of statistical test you should use** for each question and **write down the null and alternative hypothesis for those tests**.\n",
    "\n",
    "- Is there a relationship between the number of Facebook likes for a cast and the box office gross of the movie?\n",
    "- Do foreign films perform differently at the box office than non-foreign films?\n",
    "- Of all movies created are 40% rated R?\n",
    "- Is there a relationship between the language of a film and the content rating (G, PG, PG-13, R) of that film?\n",
    "- Is there a relationship between the content rating of a film and its budget? "
   ]
  },
  {
   "cell_type": "code",
   "execution_count": 510,
   "metadata": {},
   "outputs": [],
   "source": [
    "# Is there a relationship between the number of Facebook likes for a cast and the box office gross of the movie?\n",
    "\n",
    "# H0: B1 = 0  (B1 is coefitient)\n",
    "# HA: B1 != 0 \n",
    "# TEST : Simple Linear regression "
   ]
  },
  {
   "cell_type": "code",
   "execution_count": 511,
   "metadata": {},
   "outputs": [],
   "source": [
    "# Do foreign films perform differently at the box office than non-foreign films?\n",
    "\n",
    "# H0: X1 = X2 (X1 - mean for foreign film X2 mean for domestic)\n",
    "# HA: X1 != X2\n",
    "# TEST : Difference of 2 means  . 2 side T-test (m1 - m2 = 0)"
   ]
  },
  {
   "cell_type": "code",
   "execution_count": 512,
   "metadata": {},
   "outputs": [],
   "source": [
    "# Of all movies created are 40% rated R?\n",
    "\n",
    "# H0: P(R) = 0.4\n",
    "# HA: P(R) != 0.4\n",
    "# TEST : Population proportion Z-test 2 tails !!!"
   ]
  },
  {
   "cell_type": "code",
   "execution_count": 513,
   "metadata": {},
   "outputs": [],
   "source": [
    "# Is there a relationship between the language of a film and the content rating (G, PG, PG-13, R) of that film?\n",
    "\n",
    "# H0: Distribution are equal\n",
    "# HA: Distribution are equal\n",
    "# TEST : Chi-square Test. Homogenality"
   ]
  },
  {
   "cell_type": "code",
   "execution_count": 514,
   "metadata": {},
   "outputs": [],
   "source": [
    "# Is there a relationship between the content rating of a film and its budget?\n",
    "\n",
    "# H0: m(r) = m(P13) = m(PG) = m(G)\n",
    "# HA: m(r) != m(P13) != m(PG) != m(G)\n",
    "# TEST : ANOVA"
   ]
  },
  {
   "cell_type": "markdown",
   "metadata": {},
   "source": [
    "## Question 2b\n",
    "\n",
    "Calculate the answer for the second question:\n",
    "\n",
    "- Do foreign films perform differently at the box office than non-foreign films?"
   ]
  },
  {
   "cell_type": "code",
   "execution_count": 557,
   "metadata": {},
   "outputs": [],
   "source": [
    "def diff_two_means(df, threshold):\n",
    "    \n",
    "    df_usa = df[df.country == 'USA']['gross']\n",
    "    df_foreing = df[~(df.country=='USA')]['gross']\n",
    "    \n",
    "    n1 = len(df_usa)\n",
    "    n2 = len(df_foreing)\n",
    "    \n",
    "    x_1 = df_usa.mean()\n",
    "    x_2 = df_foreing.mean()\n",
    "    \n",
    "    s1 = df_usa.std()\n",
    "    s2 = df_foreing.std()\n",
    "    \n",
    "    alpha = (1-(threshold)/100)/2\n",
    "    \n",
    "    df1 = n1+n2-1\n",
    "    t_crit = scs.t.ppf(1 - alpha, df=df1)   # critical value \n",
    " \n",
    "    numer = (x_1 - x_2)\n",
    "    denum = math.sqrt((s1**2/n1)+(s2**2/n2))\n",
    "    delta_mu = numer/denum\n",
    "    \n",
    "    p = 1-scs.t.cdf(delta_mu, df=df1) \n",
    "    # p < 0.025 - we reject H0 \n",
    "    # p > 0.025 - we fail to reject H0 \n",
    "    \n",
    "    if delta_mu > t_crit or delta_mu < - t_crit :\n",
    "        \n",
    "        return print( \"\"\"\n",
    "        We reject the null Hypotesys because based one statistical test two groups sample means difference \n",
    "        is = {}, which gets in rejection area defined by critical values {} and -{}.\n",
    "        \"\"\".format(round(delta_mu,2),round(t_crit,2),round(t_crit,2)))\n",
    "    \n",
    "    else:\n",
    "        return print( \"\"\"\n",
    "        There is not enough evidence to reject the null Hypotesys because based one statistical test\n",
    "        two groups sample means difference is = {}, which does not get in rejection area defined by critical values {} and -{}.\n",
    "        \"\"\".format(round(delta_mu,2),round(t_crit,2),round(t_crit,2)))"
   ]
  },
  {
   "cell_type": "code",
   "execution_count": 558,
   "metadata": {},
   "outputs": [
    {
     "name": "stdout",
     "output_type": "stream",
     "text": [
      "\n",
      "        We reject the null Hypotesys because based one statistical test two groups sample means difference \n",
      "        is = 14.85, which gets in rejection area defined by critical values 1.96 and -1.96.\n",
      "        \n"
     ]
    }
   ],
   "source": [
    "diff_two_means(df, 95)"
   ]
  },
  {
   "cell_type": "code",
   "execution_count": 552,
   "metadata": {},
   "outputs": [
    {
     "data": {
      "text/plain": [
       "Ttest_indResult(statistic=-12.047474068413432, pvalue=7.02325288919722e-33)"
      ]
     },
     "execution_count": 552,
     "metadata": {},
     "output_type": "execute_result"
    }
   ],
   "source": [
    "df_usa = df[df.country == 'USA']['gross']\n",
    "df_foreing = df[~(df.country=='USA')]['gross']\n",
    "#scs.ttest_ind(df_usa, df_foreing)\n",
    "scs.stats.ttest_ind(df_foreing,df_usa, nan_policy = 'omit')"
   ]
  },
  {
   "cell_type": "markdown",
   "metadata": {},
   "source": [
    "## Question 3\n",
    "\n",
    "Now that you have answered all of those questions, the executive wants you to create a model that predicts the money a movie will make if it is released next year in the US. She wants to use this to evaluate different scripts and then decide which one has the largest revenue potential. \n",
    "\n",
    "Below is a list of potential features you could use in the model. Create a new frame containing only those variables.\n",
    "\n",
    "Would you use all of these features in the model?\n",
    "\n",
    "Identify which features you might drop and why.\n",
    "\n",
    "*Remember you want to be able to use this model to predict the box office gross of a film **before** anyone has seen it.*"
   ]
  },
  {
   "cell_type": "markdown",
   "metadata": {},
   "source": [
    "- **budget**: The amount of money spent to make the movie\n",
    "- **title_year**: The year the movie first came out in the box office\n",
    "- **years_old**: How long has it been since the movie was released\n",
    "- **genre**: Each movie is assigned one genre category like action, horror, comedy\n",
    "- **avg_user_rating**: This rating is taken from Rotten tomatoes, and is the average rating given to the movie by the audience\n",
    "- **actor_1_facebook_likes**: The number of likes that the most popular actor in the movie has\n",
    "- **total_cast_facebook_likes**: The sum of likes for the three most popular actors in the movie\n",
    "- **language**: the original spoken language of the film\n"
   ]
  },
  {
   "cell_type": "markdown",
   "metadata": {},
   "source": [
    "R-squared is a statistical measure of how close the data are to the fitted regression line. ... 0% indicates that the model explains none of the variability of the response data around its mean. 100% indicates that the model explains all the variability of the response data around its mean.\n"
   ]
  },
  {
   "cell_type": "code",
   "execution_count": 453,
   "metadata": {},
   "outputs": [],
   "source": [
    "# def create_ols_model(df, target_var):\n",
    "    \n",
    "#     features = ['gross','budget','title_year','years_old','genres','imdb_score','actor_1_facebook_likes','cast_total_facebook_likes','language']\n",
    "#     df1 = df[features]\n",
    "#     new_features = [f[0] for f in df1.dtypes.items() if f[1] == 'float64' or f[1] == 'int']\n",
    "#     df2 = df1[new_features]\n",
    "#     formula = '{}~{}'.format(target_var,','.join(new_features))\n",
    "    \n",
    "#     #ols_model = ols(formula = formula, data=df2).fit()\n",
    "    \n",
    "#     return df2"
   ]
  },
  {
   "cell_type": "code",
   "execution_count": 483,
   "metadata": {},
   "outputs": [],
   "source": [
    "features = ['budget','title_year','genres','imdb_score','actor_1_facebook_likes','cast_total_facebook_likes','language']"
   ]
  },
  {
   "cell_type": "code",
   "execution_count": 484,
   "metadata": {},
   "outputs": [],
   "source": [
    "df_f = df[features]"
   ]
  },
  {
   "cell_type": "code",
   "execution_count": 487,
   "metadata": {},
   "outputs": [
    {
     "data": {
      "text/html": [
       "<div>\n",
       "<style scoped>\n",
       "    .dataframe tbody tr th:only-of-type {\n",
       "        vertical-align: middle;\n",
       "    }\n",
       "\n",
       "    .dataframe tbody tr th {\n",
       "        vertical-align: top;\n",
       "    }\n",
       "\n",
       "    .dataframe thead th {\n",
       "        text-align: right;\n",
       "    }\n",
       "</style>\n",
       "<table border=\"1\" class=\"dataframe\">\n",
       "  <thead>\n",
       "    <tr style=\"text-align: right;\">\n",
       "      <th></th>\n",
       "      <th>budget</th>\n",
       "      <th>title_year</th>\n",
       "      <th>imdb_score</th>\n",
       "      <th>actor_1_facebook_likes</th>\n",
       "      <th>cast_total_facebook_likes</th>\n",
       "    </tr>\n",
       "  </thead>\n",
       "  <tbody>\n",
       "    <tr>\n",
       "      <th>budget</th>\n",
       "      <td>1.000000</td>\n",
       "      <td>0.044990</td>\n",
       "      <td>0.029135</td>\n",
       "      <td>0.017544</td>\n",
       "      <td>0.030189</td>\n",
       "    </tr>\n",
       "    <tr>\n",
       "      <th>title_year</th>\n",
       "      <td>0.044990</td>\n",
       "      <td>1.000000</td>\n",
       "      <td>-0.131504</td>\n",
       "      <td>0.085532</td>\n",
       "      <td>0.112207</td>\n",
       "    </tr>\n",
       "    <tr>\n",
       "      <th>imdb_score</th>\n",
       "      <td>0.029135</td>\n",
       "      <td>-0.131504</td>\n",
       "      <td>1.000000</td>\n",
       "      <td>0.088893</td>\n",
       "      <td>0.099612</td>\n",
       "    </tr>\n",
       "    <tr>\n",
       "      <th>actor_1_facebook_likes</th>\n",
       "      <td>0.017544</td>\n",
       "      <td>0.085532</td>\n",
       "      <td>0.088893</td>\n",
       "      <td>1.000000</td>\n",
       "      <td>0.945742</td>\n",
       "    </tr>\n",
       "    <tr>\n",
       "      <th>cast_total_facebook_likes</th>\n",
       "      <td>0.030189</td>\n",
       "      <td>0.112207</td>\n",
       "      <td>0.099612</td>\n",
       "      <td>0.945742</td>\n",
       "      <td>1.000000</td>\n",
       "    </tr>\n",
       "  </tbody>\n",
       "</table>\n",
       "</div>"
      ],
      "text/plain": [
       "                             budget  title_year  imdb_score  \\\n",
       "budget                     1.000000    0.044990    0.029135   \n",
       "title_year                 0.044990    1.000000   -0.131504   \n",
       "imdb_score                 0.029135   -0.131504    1.000000   \n",
       "actor_1_facebook_likes     0.017544    0.085532    0.088893   \n",
       "cast_total_facebook_likes  0.030189    0.112207    0.099612   \n",
       "\n",
       "                           actor_1_facebook_likes  cast_total_facebook_likes  \n",
       "budget                                   0.017544                   0.030189  \n",
       "title_year                               0.085532                   0.112207  \n",
       "imdb_score                               0.088893                   0.099612  \n",
       "actor_1_facebook_likes                   1.000000                   0.945742  \n",
       "cast_total_facebook_likes                0.945742                   1.000000  "
      ]
     },
     "execution_count": 487,
     "metadata": {},
     "output_type": "execute_result"
    }
   ],
   "source": [
    "df_f.corr()"
   ]
  },
  {
   "cell_type": "code",
   "execution_count": 559,
   "metadata": {},
   "outputs": [],
   "source": [
    "# We need to exclude highly corelated fetures to avoid multicolinarity:\n",
    "# drop either `cast_total_facebook_likes` or `actor_1_facebook_likes` due to multicollinearity\n",
    "# cast_total_facebook_likes\n",
    "# actor_1_facebook_likes\n",
    "# imdb_score -  avg_user_rating"
   ]
  },
  {
   "cell_type": "code",
   "execution_count": 561,
   "metadata": {},
   "outputs": [
    {
     "data": {
      "text/plain": [
       "\"\\n`num_critic_for_reviews` and `imdb_score` can't be known before the movie is released.\\n\\nwe'll drop them from the model.\\n\\ndrop either `cast_total_facebook_likes` or `actor_1_facebook_likes` due to multicollinearity.\\n\""
      ]
     },
     "execution_count": 561,
     "metadata": {},
     "output_type": "execute_result"
    }
   ],
   "source": [
    "'''\n",
    "`num_critic_for_reviews` and `imdb_score` can't be known before the movie is released.\n",
    "\n",
    "we'll drop them from the model.\n",
    "\n",
    "drop either `cast_total_facebook_likes` or `actor_1_facebook_likes` due to multicollinearity.\n",
    "'''"
   ]
  },
  {
   "cell_type": "markdown",
   "metadata": {},
   "source": [
    "## Question 4a\n",
    "\n",
    "Create the following variables:\n",
    "\n",
    "- `years_old`: The number of years since the film was released.\n",
    "- Dummy categories for each of the following ratings:\n",
    "    - `G`\n",
    "    - `PG`\n",
    "    - `R`\n",
    "    \n",
    "Once you have those variables, create a summary output for the following OLS model:\n",
    "\n",
    "`gross~cast_total_facebook_likes+budget+years_old+G+PG+R`"
   ]
  },
  {
   "cell_type": "code",
   "execution_count": 560,
   "metadata": {},
   "outputs": [],
   "source": [
    "df['title_year'] = df['title_year'].map(lambda x : int(x))\n",
    "df['years_old'] = df['title_year'].map(lambda x : 2021-x)"
   ]
  },
  {
   "cell_type": "markdown",
   "metadata": {},
   "source": [
    "## Question 4b\n",
    "\n",
    "Below is the summary output you should have gotten above. Identify any key takeaways from it.\n",
    "- How ‘good’ is this model?\n",
    "- Which features help to explain the variance in the target variable? \n",
    "    - Which do not? \n"
   ]
  },
  {
   "cell_type": "markdown",
   "metadata": {},
   "source": [
    "<img src=\"ols_summary.png\" style=\"withd:300px;\">"
   ]
  },
  {
   "cell_type": "code",
   "execution_count": 338,
   "metadata": {},
   "outputs": [],
   "source": [
    "# your answer here\n",
    "#  R - squared value: 0.079\n",
    "# Adj. R -squared value: 0.075\n",
    "# Poor model because there is littel variation within the model,\n",
    "# seeing that our data points spread out more\n",
    "# All the features with the exception G rating help us explain the variance\n",
    "# in the target variable, based on our p-value\n",
    "# G rated value is the only value we can see from here that plays no effect on the\n",
    "# gross of the film."
   ]
  },
  {
   "cell_type": "code",
   "execution_count": 562,
   "metadata": {},
   "outputs": [
    {
     "data": {
      "text/plain": [
       "'\\n    The model is not very good in that it only explains about 7.9% (13.9% in mine) of the variation \\n    in the data around the mean. (based on R-squared value)\\n    \\n    In the photo, Total Facebook likes, budget, age, PG rating, and R rating help to explain the variance, \\n    whereas G rating does not. (based on p-values)\\n    \\n    In mine, everything other than years old helps to explain the variance.\\n\\n'"
      ]
     },
     "execution_count": 562,
     "metadata": {},
     "output_type": "execute_result"
    }
   ],
   "source": [
    "'''\n",
    "    The model is not very good in that it only explains about 7.9% (13.9% in mine) of the variation \n",
    "    in the data around the mean. (based on R-squared value)\n",
    "    \n",
    "    In the photo, Total Facebook likes, budget, age, PG rating, and R rating help to explain the variance, \n",
    "    whereas G rating does not. (based on p-values)\n",
    "    \n",
    "    In mine, everything other than years old helps to explain the variance.\n",
    "\n",
    "'''"
   ]
  },
  {
   "cell_type": "markdown",
   "metadata": {},
   "source": [
    "## Question 5\n",
    "\n",
    "**Bayes Theorem**\n",
    "\n",
    "An advertising executive is studying television viewing habits of married men and women during prime time hours. Based on the past viewing records he has determined that during prime time wives are watching television 60% of the time. It has also been determined that when the wife is watching television, 40% of the time the husband is also watching. When the wife is not watching the television, 30% of the time the husband is watching the television. Find the probability that if the husband is watching the television, the wife is also watching the television."
   ]
  },
  {
   "cell_type": "code",
   "execution_count": 121,
   "metadata": {},
   "outputs": [
    {
     "name": "stdout",
     "output_type": "stream",
     "text": [
      "\n",
      "The probability that if the husband is watching the television, the wife is also watching the television is 66.67%\n"
     ]
    }
   ],
   "source": [
    "# W - Wife watching TV\n",
    "# H - Husband watching TV\n",
    "\n",
    "#  P(H/W) = 0.40 - 40% of the time the husband  watching, when the wife is watching television, \n",
    "#  P(H/-W) = 0.30 - 30% of the time the husband is watching the television when wife is not watching the television\n",
    "#  P(W) = 0.60 - during prime time wives are watching television 60% of the time\n",
    "#  P(-W) = 1 - P(W) = 0.40  \n",
    "#  P(W/H) - ? \n",
    "\n",
    "\n",
    "# P(W/H) =  (P(A/B)*P(A))/P(B)\n",
    "# P(H) = P(W/H)*P(W) + P(H/-W)*P(-W)\n",
    "# P(W/H) =  (P(W/H)*P(W))/P(H)) / P(W/H)*P(W) + P(H/-W)*P(-W)\n",
    "\n",
    "P_b_given_a = 0.4 gro\n",
    "P_b_given_not_a = 0.3\n",
    "P_a = 0.6\n",
    "P_not_a = 0.4\n",
    "\n",
    "P_b = P_b_given_a * P_a + P_b_given_not_a * P_not_a\n",
    "P_a_given_b = (P_b_given_a * P_a)/ P_b\n",
    "\n",
    "print(\"\"\"\n",
    "The probability that if the husband is watching the television, the wife is also watching the television is {}%\"\"\"\n",
    "      .format(round(P_a_given_b*100,2)))\n"
   ]
  },
  {
   "cell_type": "markdown",
   "metadata": {},
   "source": [
    "## Question 6\n",
    "\n",
    "Explain what a Type I error is and how it relates to the significance level when doing a statistical test. "
   ]
  },
  {
   "cell_type": "code",
   "execution_count": 563,
   "metadata": {},
   "outputs": [
    {
     "data": {
      "text/plain": [
       "'\\nA Type I error occurs when you reject the null hypothesis even though the null hypothesis is True.\\n\\nThe likelihood of a Type I error is directly related to changes in the significance level. If you\\nincrease the significance level, the likelihood of a Type I error also increases and vice versa.\\n\\nIf our significane lecel is 95%, that means we have a 5% chance of making a type one error.\\n'"
      ]
     },
     "execution_count": 563,
     "metadata": {},
     "output_type": "execute_result"
    }
   ],
   "source": [
    "# your answer here\n",
    "'''\n",
    "A Type I error occurs when you reject the null hypothesis even though the null hypothesis is True.\n",
    "\n",
    "The likelihood of a Type I error is directly related to changes in the significance level. If you\n",
    "increase the significance level, the likelihood of a Type I error also increases and vice versa.\n",
    "\n",
    "If our significane lecel is 95%, that means we have a 5% chance of making a type one error.\n",
    "'''"
   ]
  },
  {
   "cell_type": "code",
   "execution_count": 491,
   "metadata": {},
   "outputs": [],
   "source": [
    "# If our sign level is 95% means we have 5% chens of making type one error "
   ]
  }
 ],
 "metadata": {
  "kernelspec": {
   "display_name": "Python 3",
   "language": "python",
   "name": "python3"
  },
  "language_info": {
   "codemirror_mode": {
    "name": "ipython",
    "version": 3
   },
   "file_extension": ".py",
   "mimetype": "text/x-python",
   "name": "python",
   "nbconvert_exporter": "python",
   "pygments_lexer": "ipython3",
   "version": "3.7.6"
  }
 },
 "nbformat": 4,
 "nbformat_minor": 4
}
